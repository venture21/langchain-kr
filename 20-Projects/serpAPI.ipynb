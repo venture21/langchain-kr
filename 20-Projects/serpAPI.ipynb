{
 "cells": [
  {
   "cell_type": "code",
   "execution_count": 1,
   "id": "f6840f52",
   "metadata": {},
   "outputs": [
    {
     "data": {
      "text/plain": [
       "True"
      ]
     },
     "execution_count": 1,
     "metadata": {},
     "output_type": "execute_result"
    }
   ],
   "source": [
    "from dotenv import load_dotenv\n",
    "\n",
    "# .env 파일에서 환경 변수를 불러옵니다.\n",
    "# OPENAI_API_KEY가 .env 파일에 설정되어 있어야 합니다.\n",
    "load_dotenv()"
   ]
  },
  {
   "cell_type": "code",
   "execution_count": null,
   "id": "06a7da92",
   "metadata": {},
   "outputs": [],
   "source": [
    "from langchain_community.utilities import SerpAPIWrapper\n",
    "\n",
    "# 구글 검색엔진, 검색 결과의 지역을 한국,언어를 한국어, 검색 결과를 3개만 반환\n",
    "params = {\"engine\": \"google\", \"gl\": \"kr\", \"hl\": \"ko\", \"num\": \"3\"}\n",
    "\n",
    "# 1. SerpAPIWrapper 인스턴스 생성\n",
    "search = SerpAPIWrapper(params=params)"
   ]
  },
  {
   "cell_type": "code",
   "execution_count": 14,
   "id": "214f4c99",
   "metadata": {},
   "outputs": [],
   "source": [
    "# 2. run 메서드를 사용하여 검색 실행\n",
    "# 검색하고 싶은 키워드를 전달합니다.\n",
    "query = \"gemma3 275M 모델에 대해 설명해줘\"\n",
    "search_result = search.run(query=query)"
   ]
  },
  {
   "cell_type": "code",
   "execution_count": 17,
   "id": "7843af08",
   "metadata": {},
   "outputs": [
    {
     "data": {
      "text/plain": [
       "\"['Gemma는 생성형 인공지능 (AI) 모델 제품군으로, 질문 답변, 요약, 추론을 비롯한 다양한 생성 작업에 사용할 수 있습니다. Gemma 모델은 개방형 가중치로 제공되며 책임 ...', '이 모델은 텍스트와 이미지를 모두 처리할 수 있는 멀티모달 능력을 갖추고 있으며, 다양한 크기로 제공되어 각자의 컴퓨팅 환경과 요구사항에 맞게 ...', '오늘은 구글 멀티모달 AI인 젬마3 (Gemma3)에 대해서 간단하게 알아보고 사용해본 후기로 함께 이야기를 나눠보았습니다. \\\\u200b. 최근 경량 모델이면서도 특정 ...']\""
      ]
     },
     "execution_count": 17,
     "metadata": {},
     "output_type": "execute_result"
    }
   ],
   "source": [
    "search_result"
   ]
  },
  {
   "cell_type": "code",
   "execution_count": null,
   "id": "9cf001f2",
   "metadata": {},
   "outputs": [
    {
     "data": {
      "text/plain": [
       "['Gemma는 생성형 인공지능 (AI) 모델 제품군으로, 질문 답변, 요약, 추론을 비롯한 다양한 생성 작업에 사용할 수 있습니다. Gemma 모델은 개방형 가중치로 제공되며 책임 ...',\n",
       " '이 모델은 텍스트와 이미지를 모두 처리할 수 있는 멀티모달 능력을 갖추고 있으며, 다양한 크기로 제공되어 각자의 컴퓨팅 환경과 요구사항에 맞게 ...',\n",
       " '오늘은 구글 멀티모달 AI인 젬마3 (Gemma3)에 대해서 간단하게 알아보고 사용해본 후기로 함께 이야기를 나눠보았습니다. \\u200b. 최근 경량 모델이면서도 특정 ...']"
      ]
     },
     "execution_count": 15,
     "metadata": {},
     "output_type": "execute_result"
    }
   ],
   "source": [
    "# \"[...]\"의 형태로 출력된 검색 결과를 파이썬 리스트로 변환합니다.\n",
    "search_results = eval(search_result)\n",
    "search_results"
   ]
  },
  {
   "cell_type": "code",
   "execution_count": 16,
   "id": "ab7f0eda",
   "metadata": {},
   "outputs": [
    {
     "name": "stdout",
     "output_type": "stream",
     "text": [
      "'gemma3 275M 모델에 대해 설명해줘'에 대한 검색 결과:\n",
      "\n",
      "1 Gemma는 생성형 인공지능 (AI) 모델 제품군으로, 질문 답변, 요약, 추론을 비롯한 다양한 생성 작업에 사용할 수 있습니다. Gemma 모델은 개방형 가중치로 제공되며 책임 ...\n",
      "2 이 모델은 텍스트와 이미지를 모두 처리할 수 있는 멀티모달 능력을 갖추고 있으며, 다양한 크기로 제공되어 각자의 컴퓨팅 환경과 요구사항에 맞게 ...\n",
      "3 오늘은 구글 멀티모달 AI인 젬마3 (Gemma3)에 대해서 간단하게 알아보고 사용해본 후기로 함께 이야기를 나눠보았습니다. ​. 최근 경량 모델이면서도 특정 ...\n"
     ]
    }
   ],
   "source": [
    "# 3. 검색 결과 출력\n",
    "print(f\"'{query}'에 대한 검색 결과:\\n\")\n",
    "for i, result in enumerate(search_results, start=1):\n",
    "    print(i, result)"
   ]
  },
  {
   "cell_type": "code",
   "execution_count": null,
   "id": "dbf0b499",
   "metadata": {},
   "outputs": [],
   "source": []
  }
 ],
 "metadata": {
  "kernelspec": {
   "display_name": "langchain-kr-hTuzgesB-py3.11",
   "language": "python",
   "name": "python3"
  },
  "language_info": {
   "codemirror_mode": {
    "name": "ipython",
    "version": 3
   },
   "file_extension": ".py",
   "mimetype": "text/x-python",
   "name": "python",
   "nbconvert_exporter": "python",
   "pygments_lexer": "ipython3",
   "version": "3.11.9"
  }
 },
 "nbformat": 4,
 "nbformat_minor": 5
}
