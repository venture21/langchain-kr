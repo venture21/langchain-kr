{
 "cells": [
  {
   "cell_type": "code",
   "execution_count": 1,
   "id": "179ababd",
   "metadata": {},
   "outputs": [
    {
     "data": {
      "text/plain": [
       "True"
      ]
     },
     "execution_count": 1,
     "metadata": {},
     "output_type": "execute_result"
    }
   ],
   "source": [
    "from dotenv import load_dotenv\n",
    "\n",
    "# .env 파일에서 환경 변수를 불러옵니다.\n",
    "# OPENAI_API_KEY가 .env 파일에 설정되어 있어야 합니다.\n",
    "load_dotenv()"
   ]
  },
  {
   "cell_type": "code",
   "execution_count": 2,
   "id": "5482fe0c",
   "metadata": {},
   "outputs": [],
   "source": [
    "from langchain_community.utilities import SerpAPIWrapper\n",
    "\n",
    "# 구글 검색엔진, 검색 결과의 지역을 한국,언어를 한국어, 검색 결과를 3개만 반환\n",
    "params = {\"engine\": \"google\", \"gl\": \"kr\", \"hl\": \"ko\", \"num\": \"3\"}\n",
    "\n",
    "# 1. SerpAPIWrapper 인스턴스 생성\n",
    "search = SerpAPIWrapper(params=params)"
   ]
  },
  {
   "cell_type": "code",
   "execution_count": 20,
   "id": "46e8a7ce",
   "metadata": {},
   "outputs": [],
   "source": [
    "# 2. run 메서드를 사용하여 검색 실행\n",
    "# 검색하고 싶은 키워드를 전달합니다.\n",
    "query = \"5호선 상일동역 주변에 있는 맛집\"\n",
    "search_result = search.run(query=query)"
   ]
  },
  {
   "cell_type": "code",
   "execution_count": 21,
   "id": "3f92b581",
   "metadata": {},
   "outputs": [
    {
     "data": {
      "text/plain": [
       "['1. 벨파아제 · Good Italian bistro ; 2. 강동반상 · good atmosphere, cost-effective Korean restaurant ; 3. 스키마야 · 라멘, 덮밥 추천 · 덮밥류가 맛있는 집 ; 4. 신불 ...',\n",
       " '서울특별시 강동구 상일로5길 8-7 1층. 저장. 전화. 버거비 상일동점. 서울특별시 강동구 천호대로221길 6 1층. 저장. 전화. 오한수우육면가 상일점. 서울 ...',\n",
       " [{'position': 1,\n",
       "   'rating': 4.8,\n",
       "   'reviews': 103,\n",
       "   'reviews_original': '(103)',\n",
       "   'price': '₩20,000~30,000',\n",
       "   'description': '\"평일에도 웨이팅 있는 맛집이니 정말 맛집으로 인정합니다.\"',\n",
       "   'lsig': 'AB86z5UFl0mK4kmmAXrfFYIPVOk8',\n",
       "   'thumbnail': 'https://serpapi.com/searches/68a58ba36561a65707bbbb8d/images/1d724752a7fe6b9c7d07a9c369de006552804776a7e39b96c6107ea3e995a1313c11c1859202628e.jpeg',\n",
       "   'place_id': '12730341462943213745',\n",
       "   'place_id_search': 'https://serpapi.com/search.json?device=desktop&engine=google&gl=kr&google_domain=google.com&hl=ko&ludocid=12730341462943213745&num=3&q=5%ED%98%B8%EC%84%A0+%EC%83%81%EC%9D%BC%EB%8F%99%EC%97%AD+%EC%A3%BC%EB%B3%80%EC%97%90+%EC%9E%88%EB%8A%94+%EB%A7%9B%EC%A7%91',\n",
       "   'gps_coordinates': {'latitude': 37.557636, 'longitude': 127.17085},\n",
       "   'title': '고반식당 상일동역점',\n",
       "   'type': '고기',\n",
       "   'address': '고덕로 399 고덕센트럴푸르지오 메가스퀘어동 1층 132호'},\n",
       "  {'position': 2,\n",
       "   'rating': 4.6,\n",
       "   'reviews': 224,\n",
       "   'reviews_original': '(224)',\n",
       "   'price': '₩30,000~40,000',\n",
       "   'description': '\"8석의 소규모 가게, 요리사 1분이 하심\"',\n",
       "   'lsig': 'AB86z5VBUeCC8vVWJrOtlLWmeC5F',\n",
       "   'thumbnail': 'https://serpapi.com/searches/68a58ba36561a65707bbbb8d/images/1d724752a7fe6b9c7d07a9c369de0065e8ed517d7a8016ec4d2d03381dd50ffa49f42b53516a8da9.jpeg',\n",
       "   'place_id': '2003957122087972593',\n",
       "   'place_id_search': 'https://serpapi.com/search.json?device=desktop&engine=google&gl=kr&google_domain=google.com&hl=ko&ludocid=2003957122087972593&num=3&q=5%ED%98%B8%EC%84%A0+%EC%83%81%EC%9D%BC%EB%8F%99%EC%97%AD+%EC%A3%BC%EB%B3%80%EC%97%90+%EC%9E%88%EB%8A%94+%EB%A7%9B%EC%A7%91',\n",
       "   'gps_coordinates': {'latitude': 37.55066, 'longitude': 127.172226},\n",
       "   'title': '송하정스시',\n",
       "   'type': '초밥',\n",
       "   'address': '상일동230번지 스시정'},\n",
       "  {'position': 3,\n",
       "   'rating': 5.0,\n",
       "   'reviews': 139,\n",
       "   'reviews_original': '(139)',\n",
       "   'description': '\"고기도 맛있지만 사이드 메뉴도 넘 맛있어요.\"',\n",
       "   'lsig': 'AB86z5WW6H13hn_ZxSJTtgXJwye6',\n",
       "   'thumbnail': 'https://serpapi.com/searches/68a58ba36561a65707bbbb8d/images/1d724752a7fe6b9c7d07a9c369de00659e654f79cf55e7f1c8996ff895c01885f42f5454c5676502.jpeg',\n",
       "   'place_id': '13746616632085077944',\n",
       "   'place_id_search': 'https://serpapi.com/search.json?device=desktop&engine=google&gl=kr&google_domain=google.com&hl=ko&ludocid=13746616632085077944&num=3&q=5%ED%98%B8%EC%84%A0+%EC%83%81%EC%9D%BC%EB%8F%99%EC%97%AD+%EC%A3%BC%EB%B3%80%EC%97%90+%EC%9E%88%EB%8A%94+%EB%A7%9B%EC%A7%91',\n",
       "   'gps_coordinates': {'latitude': 37.55041, 'longitude': 127.171715},\n",
       "   'title': '쇠나무그릴',\n",
       "   'type': '고기',\n",
       "   'address': '상일동 235 3 층'}]]"
      ]
     },
     "execution_count": 21,
     "metadata": {},
     "output_type": "execute_result"
    }
   ],
   "source": [
    "search_results = eval(search_result)\n",
    "search_results"
   ]
  },
  {
   "cell_type": "code",
   "execution_count": 26,
   "id": "450bed3f",
   "metadata": {},
   "outputs": [
    {
     "name": "stdout",
     "output_type": "stream",
     "text": [
      "=== JSON 출력 ===\n",
      "{\n",
      "  \"restaurants\": [\n",
      "    {\n",
      "      \"name\": \"벨파아제\"\n",
      "    },\n",
      "    {\n",
      "      \"name\": \"강동반상\"\n",
      "    },\n",
      "    {\n",
      "      \"name\": \"스키마야\"\n",
      "    },\n",
      "    {\n",
      "      \"name\": \"버거비 상일동점\"\n",
      "    },\n",
      "    {\n",
      "      \"name\": \"오한수우육면가 상일점\"\n",
      "    },\n",
      "    {\n",
      "      \"name\": \"고반식당 상일동역점\"\n",
      "    },\n",
      "    {\n",
      "      \"name\": \"송하정스시\"\n",
      "    },\n",
      "    {\n",
      "      \"name\": \"쇠나무그릴\"\n",
      "    }\n",
      "  ]\n",
      "}\n",
      "\n",
      "=== 식당명 목록 ===\n",
      "1. 식당명: 벨파아제\n",
      "------------------------------\n",
      "2. 식당명: 강동반상\n",
      "------------------------------\n",
      "3. 식당명: 스키마야\n",
      "------------------------------\n",
      "4. 식당명: 버거비 상일동점\n",
      "------------------------------\n",
      "5. 식당명: 오한수우육면가 상일점\n",
      "------------------------------\n",
      "6. 식당명: 고반식당 상일동역점\n",
      "------------------------------\n",
      "7. 식당명: 송하정스시\n",
      "------------------------------\n",
      "8. 식당명: 쇠나무그릴\n",
      "------------------------------\n"
     ]
    }
   ],
   "source": [
    "# Gemini 2.5 Flash 모델을 사용하여 식당명을 추출합니다.\n",
    "from langchain_google_genai import ChatGoogleGenerativeAI\n",
    "from langchain_core.output_parsers import PydanticOutputParser\n",
    "from langchain_core.prompts import PromptTemplate\n",
    "from pydantic import BaseModel, Field\n",
    "from typing import List\n",
    "import re\n",
    "import ast\n",
    "\n",
    "\n",
    "# 식당 정보를 담는 모델 정의\n",
    "class Restaurant(BaseModel):\n",
    "    name: str = Field(description=\"식당명\")\n",
    "\n",
    "\n",
    "# 여러 식당 정보를 담는 모델 정의\n",
    "class RestaurantList(BaseModel):\n",
    "    restaurants: List[Restaurant]\n",
    "\n",
    "\n",
    "# OutputParser 초기화\n",
    "parser = PydanticOutputParser(pydantic_object=RestaurantList)\n",
    "\n",
    "# Gemini 2.5 Flash 모델 초기화\n",
    "model = ChatGoogleGenerativeAI(model=\"gemini-2.0-flash-exp\", temperature=0)\n",
    "\n",
    "# 프롬프트 템플릿 생성\n",
    "prompt_template = \"\"\"\n",
    "다음 검색 결과에서 식당명만을 추출해주세요.\n",
    "각 검색 결과를 분석하여 식당 이름을 정확히 식별하고 JSON 형식으로 출력해주세요.\n",
    "\n",
    "{format_instructions}\n",
    "\n",
    "검색 결과:\n",
    "{search_data}\n",
    "\"\"\"\n",
    "\n",
    "prompt = PromptTemplate(\n",
    "    template=prompt_template,\n",
    "    input_variables=[\"search_data\"],\n",
    "    partial_variables={\"format_instructions\": parser.get_format_instructions()},\n",
    ")\n",
    "\n",
    "# Gemini 모델을 사용하여 식당명 추출\n",
    "chain = prompt | model | parser\n",
    "\n",
    "# search_results를 문자열로 변환하여 모델에 전달\n",
    "search_data_str = str(search_results)\n",
    "result_obj = chain.invoke({\"search_data\": search_data_str})\n",
    "\n",
    "# 파서로 JSON 출력\n",
    "import json\n",
    "\n",
    "json_str = result_obj.model_dump_json(indent=2)\n",
    "print(\"=== JSON 출력 ===\")\n",
    "print(json_str)\n",
    "\n",
    "print(\"\\n=== 식당명 목록 ===\")\n",
    "# 보기 좋게 출력\n",
    "for i, r in enumerate(result_obj.restaurants, 1):\n",
    "    print(f\"{i}. 식당명: {r.name}\")\n",
    "    print(\"-\" * 30)"
   ]
  },
  {
   "cell_type": "code",
   "execution_count": null,
   "id": "aaa86d73",
   "metadata": {},
   "outputs": [],
   "source": []
  }
 ],
 "metadata": {
  "kernelspec": {
   "display_name": "langchain-kr-hTuzgesB-py3.11",
   "language": "python",
   "name": "python3"
  },
  "language_info": {
   "codemirror_mode": {
    "name": "ipython",
    "version": 3
   },
   "file_extension": ".py",
   "mimetype": "text/x-python",
   "name": "python",
   "nbconvert_exporter": "python",
   "pygments_lexer": "ipython3",
   "version": "3.11.9"
  }
 },
 "nbformat": 4,
 "nbformat_minor": 5
}
