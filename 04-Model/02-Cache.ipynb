{
 "cells": [
  {
   "cell_type": "markdown",
   "metadata": {},
   "source": [
    "## 캐싱(Caching)\n",
    "\n",
    "LangChain은 LLM을 위한 선택적 캐싱 레이어를 제공합니다.\n",
    "\n",
    "이는 두 가지 이유로 유용합니다.\n",
    "\n",
    "- 동일한 완료를 여러 번 요청하는 경우 LLM 공급자에 대한 **API 호출 횟수를 줄여 비용을 절감**할 수 있습니다.\n",
    "- LLM 제공업체에 대한 **API 호출 횟수를 줄여 애플리케이션의 속도를 높일 수** 있습니다."
   ]
  },
  {
   "cell_type": "code",
   "execution_count": 1,
   "metadata": {},
   "outputs": [
    {
     "data": {
      "text/plain": [
       "True"
      ]
     },
     "execution_count": 1,
     "metadata": {},
     "output_type": "execute_result"
    }
   ],
   "source": [
    "# API KEY를 환경변수로 관리하기 위한 설정 파일\n",
    "from dotenv import load_dotenv\n",
    "\n",
    "# API KEY 정보로드\n",
    "load_dotenv()"
   ]
  },
  {
   "cell_type": "code",
   "execution_count": 2,
   "metadata": {},
   "outputs": [
    {
     "name": "stdout",
     "output_type": "stream",
     "text": [
      "LangSmith 추적을 시작합니다.\n",
      "[프로젝트명]\n",
      "CH04-Models\n"
     ]
    }
   ],
   "source": [
    "# LangSmith 추적을 설정합니다. https://smith.langchain.com\n",
    "# !pip install langchain-teddynote\n",
    "from langchain_teddynote import logging\n",
    "\n",
    "# 프로젝트 이름을 입력합니다.\n",
    "logging.langsmith(\"CH04-Models\")"
   ]
  },
  {
   "cell_type": "markdown",
   "metadata": {},
   "source": [
    "모델과 프롬프트를 생성합니다\n"
   ]
  },
  {
   "cell_type": "code",
   "execution_count": 3,
   "metadata": {},
   "outputs": [],
   "source": [
    "from langchain_openai import ChatOpenAI\n",
    "from langchain_core.prompts import PromptTemplate\n",
    "\n",
    "# 모델을 생성합니다.\n",
    "llm = ChatOpenAI(model_name=\"gpt-3.5-turbo\")\n",
    "\n",
    "# 프롬프트를 생성합니다.\n",
    "prompt = PromptTemplate.from_template(\"{country} 에 대해서 200자 내외로 요약해줘\")\n",
    "\n",
    "# 체인을 생성합니다.\n",
    "chain = prompt | llm"
   ]
  },
  {
   "cell_type": "code",
   "execution_count": 4,
   "metadata": {},
   "outputs": [
    {
     "name": "stdout",
     "output_type": "stream",
     "text": [
      "한국은 동아시아에 위치한 고도로 발전한 산업화국가이자 문화 국가로서, 뛰어난 기술력과 전통 문화를 자랑한다. 수도는 서울로, 경제 중심지는 서울과 부산이며, K-POP, K-Drama 등 한류 콘텐츠로 세계적인 인기를 끌고 있다. 한국은 높은 교육 수준과 체계적인 사회복지 시스템을 갖추고 있으며, IT 기술과 자동차 산업에서도 세계적인 성과를 거두고 있다. 한반도는 북한과의 군사적 긴장 상태와 한일, 한중 등 인접국과의 관계에서 어려움을 겪고 있지만, 지속적인 외교노력을 통해 평화와 번영을 추구하고 있다. 현재 전 세계에서 가장 주목받는 국가 중 하나로 발전하고 있는 중요한 국가 중 하나로 손꼽힌다.\n",
      "CPU times: total: 31.2 ms\n",
      "Wall time: 6.46 s\n"
     ]
    }
   ],
   "source": [
    "%%time \n",
    "response = chain.invoke({\"country\": \"한국\"})\n",
    "print(response.content)"
   ]
  },
  {
   "cell_type": "markdown",
   "metadata": {},
   "source": [
    "## InMemoryCache\n",
    "\n",
    "인메모리 캐시를 사용하여 동일 질문에 대한 답변을 저장하고, 캐시에 저장된 답변을 반환합니다."
   ]
  },
  {
   "cell_type": "code",
   "execution_count": 7,
   "metadata": {},
   "outputs": [
    {
     "name": "stdout",
     "output_type": "stream",
     "text": [
      "한국은 동아시아에 위치한 고도로 발전한 산업화 국가로, 전통 문화와 현대 문명이 조화롭게 공존하는 나라이다. 국토는 한반도와 여러 섬으로 이뤄져 있으며, 서울을 중심으로 한 대도시와 고요한 전통 마을이 공존한다. 경제적으로는 세계적인 기업들이 발달하고 있으며, K-pop과 한류 등 문화 콘텐츠 역시 글로벌한 인기를 얻고 있다. 정치적으로는 대한민국이라는 공화제로 운영되며, 한반도 북쪽에는 북한이 존재한다. 한국은 다양한 관광지와 전통 음식, 예술 등이 풍부하여 매년 많은 관광객들이 방문하며, 한국인의 열정과 독특한 문화를 경험할 수 있다.\n",
      "CPU times: total: 15.6 ms\n",
      "Wall time: 3.25 s\n"
     ]
    }
   ],
   "source": [
    "%%time\n",
    "from langchain.globals import set_llm_cache\n",
    "from langchain.cache import InMemoryCache\n",
    "\n",
    "# 인메모리 캐시를 사용합니다.(RAM에 저장)\n",
    "# 캐시를 사용하면 동일한 요청에 대해 빠른 응답을 받을 수 있습니다\n",
    "set_llm_cache(InMemoryCache())\n",
    "\n",
    "# 체인을 실행합니다.\n",
    "response = chain.invoke({\"country\": \"한국\"})\n",
    "print(response.content)"
   ]
  },
  {
   "cell_type": "code",
   "execution_count": 8,
   "metadata": {},
   "outputs": [
    {
     "name": "stdout",
     "output_type": "stream",
     "text": [
      "한국은 동아시아에 위치한 고도로 발전한 산업화 국가로, 전통 문화와 현대 문명이 조화롭게 공존하는 나라이다. 국토는 한반도와 여러 섬으로 이뤄져 있으며, 서울을 중심으로 한 대도시와 고요한 전통 마을이 공존한다. 경제적으로는 세계적인 기업들이 발달하고 있으며, K-pop과 한류 등 문화 콘텐츠 역시 글로벌한 인기를 얻고 있다. 정치적으로는 대한민국이라는 공화제로 운영되며, 한반도 북쪽에는 북한이 존재한다. 한국은 다양한 관광지와 전통 음식, 예술 등이 풍부하여 매년 많은 관광객들이 방문하며, 한국인의 열정과 독특한 문화를 경험할 수 있다.\n",
      "CPU times: total: 0 ns\n",
      "Wall time: 2 ms\n"
     ]
    }
   ],
   "source": [
    "%%time\n",
    "# 체인을 실행합니다.\n",
    "response = chain.invoke({\"country\": \"한국\"})\n",
    "print(response.content)"
   ]
  },
  {
   "cell_type": "markdown",
   "metadata": {},
   "source": [
    "## SQLite Cache\n"
   ]
  },
  {
   "cell_type": "code",
   "execution_count": 9,
   "metadata": {},
   "outputs": [],
   "source": [
    "from langchain_community.cache import SQLiteCache\n",
    "from langchain_core.globals import set_llm_cache\n",
    "import os\n",
    "\n",
    "# 캐시 디렉토리를 생성합니다.\n",
    "if not os.path.exists(\"cache\"):\n",
    "    os.makedirs(\"cache\")\n",
    "\n",
    "# SQLiteCache를 사용합니다.\n",
    "set_llm_cache(SQLiteCache(database_path=\"cache/llm_cache.db\"))"
   ]
  },
  {
   "cell_type": "code",
   "execution_count": 10,
   "metadata": {},
   "outputs": [
    {
     "name": "stdout",
     "output_type": "stream",
     "text": [
      "한국은 동아시아에 위치한 고도로 발전한 경제와 문화를 갖춘 나라이다. 서울을 중심으로 현대적인 도시들이 발달하고 있으며, 한류 문화로 전 세계적으로 인기를 끌고 있다. 한국은 고려시대부터 근대에 이르기까지 다양한 역사를 가지고 있으며, 전통적인 문화와 현대화의 양면을 동시에 갖추고 있다. 또한, 한반도 북쪽과의 분단 상태로 인해 남북관계가 중요한 이슈로 대두되고 있다. 현재는 글로벌 강국으로서의 지위를 다지며, 첨단 기술 분야에서 세계적인 업적을 이루고 있다.\n",
      "CPU times: total: 46.9 ms\n",
      "Wall time: 2.7 s\n"
     ]
    }
   ],
   "source": [
    "%%time \n",
    "# 체인을 실행합니다.\n",
    "response = chain.invoke({\"country\": \"한국\"})\n",
    "print(response.content)"
   ]
  },
  {
   "cell_type": "code",
   "execution_count": 11,
   "metadata": {},
   "outputs": [
    {
     "name": "stdout",
     "output_type": "stream",
     "text": [
      "한국은 동아시아에 위치한 고도로 발전한 경제와 문화를 갖춘 나라이다. 서울을 중심으로 현대적인 도시들이 발달하고 있으며, 한류 문화로 전 세계적으로 인기를 끌고 있다. 한국은 고려시대부터 근대에 이르기까지 다양한 역사를 가지고 있으며, 전통적인 문화와 현대화의 양면을 동시에 갖추고 있다. 또한, 한반도 북쪽과의 분단 상태로 인해 남북관계가 중요한 이슈로 대두되고 있다. 현재는 글로벌 강국으로서의 지위를 다지며, 첨단 기술 분야에서 세계적인 업적을 이루고 있다.\n",
      "CPU times: total: 0 ns\n",
      "Wall time: 3 ms\n"
     ]
    }
   ],
   "source": [
    "%%time \n",
    "# 체인을 실행합니다.\n",
    "response = chain.invoke({\"country\": \"한국\"})\n",
    "print(response.content)"
   ]
  },
  {
   "cell_type": "code",
   "execution_count": null,
   "metadata": {},
   "outputs": [],
   "source": []
  }
 ],
 "metadata": {
  "kernelspec": {
   "display_name": "langchain-kr-hTuzgesB-py3.11",
   "language": "python",
   "name": "python3"
  },
  "language_info": {
   "codemirror_mode": {
    "name": "ipython",
    "version": 3
   },
   "file_extension": ".py",
   "mimetype": "text/x-python",
   "name": "python",
   "nbconvert_exporter": "python",
   "pygments_lexer": "ipython3",
   "version": "3.11.9"
  }
 },
 "nbformat": 4,
 "nbformat_minor": 2
}
