{
 "cells": [
  {
   "cell_type": "code",
   "execution_count": 1,
   "id": "11e76a03",
   "metadata": {},
   "outputs": [
    {
     "data": {
      "text/plain": [
       "True"
      ]
     },
     "execution_count": 1,
     "metadata": {},
     "output_type": "execute_result"
    }
   ],
   "source": [
    "import os\n",
    "import base64\n",
    "from typing import List, Dict, Union\n",
    "from pydantic import BaseModel, Field\n",
    "from langchain_core.prompts import PromptTemplate\n",
    "from langchain.output_parsers import StructuredOutputParser, ResponseSchema\n",
    "from langchain_google_genai import ChatGoogleGenerativeAI\n",
    "from langchain_core.messages import HumanMessage\n",
    "from dotenv import load_dotenv\n",
    "\n",
    "# .env 파일에서 환경 변수를 불러옵니다.\n",
    "# OPENAI_API_KEY가 .env 파일에 설정되어 있어야 합니다.\n",
    "load_dotenv()"
   ]
  },
  {
   "cell_type": "code",
   "execution_count": 2,
   "id": "851188a2",
   "metadata": {},
   "outputs": [
    {
     "name": "stdout",
     "output_type": "stream",
     "text": [
      "The output should be a markdown code snippet formatted in the following schema, including the leading and trailing \"```json\" and \"```\":\n",
      "\n",
      "```json\n",
      "{\n",
      "\t\"product_name\": string  // 상품의 전체 이름\n",
      "\t\"brand_name\": string  // 상품의 브랜드 이름\n",
      "}\n",
      "```\n"
     ]
    }
   ],
   "source": [
    "# 1. 추출하고자 하는 정보에 대한 스키마 정의\n",
    "response_schemas = [\n",
    "    ResponseSchema(name=\"product_name\", description=\"상품의 전체 이름\"),\n",
    "    ResponseSchema(name=\"brand_name\", description=\"상품의 브랜드 이름\"),\n",
    "]\n",
    "\n",
    "# 2. 스키마를 기반으로 출력 파서 생성\n",
    "output_parser = StructuredOutputParser.from_response_schemas(response_schemas)\n",
    "# 3. 프롬프트 템플릿에 파서의 형식 지시 포함\n",
    "format_instructions = output_parser.get_format_instructions()\n",
    "print(format_instructions)"
   ]
  },
  {
   "cell_type": "code",
   "execution_count": null,
   "id": "0ca7304f",
   "metadata": {},
   "outputs": [],
   "source": [
    "prompt = PromptTemplate(\n",
    "    template=\"\"\"주어진 내용에서 사용자가 요청한 정보를 추출해줘.\n",
    "내용:\n",
    "{content}\n",
    "\n",
    "{format_instructions}\"\"\",\n",
    "    input_variables=[\"content\"],\n",
    "    partial_variables={\"format_instructions\": format_instructions},\n",
    ")\n",
    "\n",
    "# 4. 분석할 원본 텍스트\n",
    "content = \"\"\"\n",
    "아래 내용은 '유그린(Ugreen)' 이라는 브랜드의 '300W GaN PD PPS QC 5포트 초고속 충전기 CD333' 이라는 상품의 상세 정보 테이블입니다.\n",
    "\n",
    "기본 정보: 상품번호, 상품상태, 제조사, 브랜드, 모델명, 이벤트, 원산지, 제조일자 등의 일반적인 상품 정보\n",
    "\n",
    "상품 유형: 충전기의 형태(콘센트형), 품목(스마트폰 충전기) 등 구체적인 분류 정보\n",
    "\n",
    "성능 및 규격: 충전기 출력(300W), 단자(Type-C, USB 포트 각 1개), 충전기능(고속충전, 동시충전, PPS, USB-PD3.1), 부가기능(GaN 충전), 안전기능(과전압보호, 과전류보호), 크기(5.3x11.1x6.5cm), 케이블 포함 여부 및 길이 등 기술적인 사양\n",
    "\"\"\""
   ]
  },
  {
   "cell_type": "code",
   "execution_count": null,
   "id": "99b6c17f",
   "metadata": {},
   "outputs": [
    {
     "name": "stdout",
     "output_type": "stream",
     "text": [
      "추출된 브랜드명: 유그린(Ugreen)\n",
      "추출된 제품명: 300W GaN PD PPS QC 5포트 초고속 충전기 CD333\n"
     ]
    }
   ],
   "source": [
    "# 5. 모델 인스턴스 생성\n",
    "model = ChatGoogleGenerativeAI(model=\"gemini-2.5-flash\", temperature=0)\n",
    "\n",
    "# 6. 프롬프트와 모델, 출력 파서를 연결하여 체인 생성 및 실행\n",
    "chain = prompt | model | output_parser\n",
    "result = chain.invoke({\"content\": content})\n",
    "\n",
    "# 7. 추출 결과 확인\n",
    "print(\"추출된 브랜드명:\", result[\"brand_name\"])\n",
    "print(\"추출된 제품명:\", result[\"product_name\"])"
   ]
  },
  {
   "cell_type": "code",
   "execution_count": null,
   "id": "ce38e727",
   "metadata": {},
   "outputs": [],
   "source": []
  }
 ],
 "metadata": {
  "kernelspec": {
   "display_name": "langchain-kr-hTuzgesB-py3.11",
   "language": "python",
   "name": "python3"
  },
  "language_info": {
   "codemirror_mode": {
    "name": "ipython",
    "version": 3
   },
   "file_extension": ".py",
   "mimetype": "text/x-python",
   "name": "python",
   "nbconvert_exporter": "python",
   "pygments_lexer": "ipython3",
   "version": "3.11.9"
  }
 },
 "nbformat": 4,
 "nbformat_minor": 5
}
