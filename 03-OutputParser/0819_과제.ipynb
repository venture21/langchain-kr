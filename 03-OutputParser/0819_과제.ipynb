{
  "cells": [
    {
      "cell_type": "markdown",
      "metadata": {
        "id": "Q-7V_avC2XxT"
      },
      "source": [
        "📢 [8월 19일 과제] Output Parser & 모델 관리 개념·코드 복습\n",
        "오늘은 LLM의 출력을 구조화된 형식으로 다루는 방법과, 모델 관리 관련 기능을 실습했습니다.\n",
        "이번 과제는 단순 텍스트 응답이 아닌, 데이터 형태를 변환·제어하는 방법을 연습하고 이해하는 것이 목표입니다.\n",
        "\n",
        "\n",
        "\n",
        "📄 정리 목차\n",
        "오늘 학습한 주요 Output Parser 및 모델 관리 기능 간단 요약 (아래 단어들은 예시입니다)\n",
        "- PydanticOutputParser\n",
        "- JsonOutputParser\n",
        "- PandasDataFrameOutputParser\n",
        "- EnumOutputParser\n",
        "- OutputFixingParser\n",
        "- StructuredOutputParser\n",
        "- Chat-Models / Cache / Model Serialization\n",
        "\n",
        "교재의 03-OutputParser 코드의 프롬프트 수정 후 다시 실습 + 코드 주석 달기\n",
        "\n",
        "실습 과제  (한 번에 모든 OutputParser를 공부하기 보다는 자신이 흥미 있거나 목표하는 것 위주로 선택하는 것을 추천 드립니다! )\n",
        "- 메일 요약 → 뉴스 요약으로 변경\n",
        "- 식당 리뷰 감정 분석  →  긍정/부정 등 카테고리화\n",
        "- 쇼핑몰 주문 내역 → 표 정리\n",
        "- 운동 기록 정리 → 딕셔너리 형태로 출력\n",
        "- 책 추천 목록 생성 → JSON 리스트 형태로 출력"
      ]
    },
    {
      "cell_type": "markdown",
      "metadata": {
        "id": "QKmIq76M21pR"
      },
      "source": [
        "## PydanticOutputParser\n",
        "\n",
        "이 클래스를 활용하면 언어 모델의 출력을 특정 데이터 모델에 맞게 변환하여 정보를 더 쉽게 처리하고 활용할 수 있습니다.\n",
        "\n",
        "## 주요 메서드\n",
        "\n",
        "`PydanticOutputParser` (대부분의 OutputParser에 해당)에는 주로 **두 가지 핵심 메서드**가 구현되어야 합니다.\n",
        "\n",
        "- **`get_format_instructions()`**: 언어 모델이 출력해야 할 정보의 형식을 정의하는 지침을 제공합니다. 예를 들어, 언어 모델이 출력해야 할 데이터의 필드와 그 형태를 설명하는 지침을 문자열로 반환할 수 있습니다. 이 지침은 언어 모델이 출력을 구조화하고 특정 데이터 모델에 맞게 변환하는 데 매우 중요합니다.\n",
        "- **`parse()`**: 언어 모델의 출력(문자열로 가정)을 받아 이를 특정 구조로 분석하고 변환합니다. Pydantic과 같은 도구를 사용하여 입력된 문자열을 사전 정의된 스키마에 따라 검증하고, 해당 스키마를 따르는 데이터 구조로 변환합니다."
      ]
    },
    {
      "cell_type": "code",
      "execution_count": 5,
      "metadata": {
        "id": "VrzzG_GR2_Rc"
      },
      "outputs": [],
      "source": [
        "# 실시간 출력을 위한 import\n",
        "from langchain_teddynote.messages import stream_response"
      ]
    },
    {
      "cell_type": "code",
      "execution_count": 4,
      "metadata": {
        "id": "Zaqj9Z-M3A34"
      },
      "outputs": [],
      "source": [
        "from langchain_openai import ChatOpenAI\n",
        "from langchain_core.output_parsers import PydanticOutputParser\n",
        "from langchain_core.prompts import PromptTemplate\n",
        "from pydantic import BaseModel, Field\n",
        "\n",
        "\n",
        "llm = ChatOpenAI(temperature=0, model_name=\"gpt-4.1\")"
      ]
    },
    {
      "cell_type": "markdown",
      "metadata": {
        "id": "EjPK_Y7-OwuV"
      },
      "source": [
        "### 실습1: 영화 후기 요약"
      ]
    },
    {
      "cell_type": "code",
      "execution_count": null,
      "metadata": {
        "id": "-dl1jn6H3ZsX"
      },
      "outputs": [],
      "source": [
        "# Pydantic 모델을 정의합니다.\n",
        "# 이 모델은 LLM이 생성해야 할 출력의 구조를 명시합니다.\n",
        "class ReviewSummary(BaseModel):\n",
        "    \"\"\"영화 후기 요약 모델\"\"\"\n",
        "\n",
        "    title: str = Field(description=\"영화의 제목\")\n",
        "    summary: str = Field(description=\"영화 감상을 200자 이내로 요약한 내용\")\n",
        "    actors: str = Field(description=\"출연 배우 이름\")\n",
        "    keywords: str = Field(description=\"영화 핵심 키워드\")"
      ]
    },
    {
      "cell_type": "code",
      "execution_count": null,
      "metadata": {
        "colab": {
          "base_uri": "https://localhost:8080/"
        },
        "id": "IE3Ih2Id3c9_",
        "outputId": "ca31e237-a10b-4afd-ccec-8eaf06e65071"
      },
      "outputs": [
        {
          "name": "stdout",
          "output_type": "stream",
          "text": [
            "The output should be formatted as a JSON instance that conforms to the JSON schema below.\n",
            "\n",
            "As an example, for the schema {\"properties\": {\"foo\": {\"title\": \"Foo\", \"description\": \"a list of strings\", \"type\": \"array\", \"items\": {\"type\": \"string\"}}}, \"required\": [\"foo\"]}\n",
            "the object {\"foo\": [\"bar\", \"baz\"]} is a well-formatted instance of the schema. The object {\"properties\": {\"foo\": [\"bar\", \"baz\"]}} is not well-formatted.\n",
            "\n",
            "Here is the output schema:\n",
            "```\n",
            "{\"description\": \"영화 후기 요약 모델\", \"properties\": {\"title\": {\"description\": \"영화의 제목\", \"title\": \"Title\", \"type\": \"string\"}, \"summary\": {\"description\": \"영화 감상을 200자 이내로 요약한 내용\", \"title\": \"Summary\", \"type\": \"string\"}, \"actors\": {\"description\": \"출연 배우 이름\", \"title\": \"Actors\", \"type\": \"string\"}, \"keywords\": {\"description\": \"영화 핵심 키워드\", \"title\": \"Keywords\", \"type\": \"string\"}}, \"required\": [\"title\", \"summary\", \"actors\", \"keywords\"]}\n",
            "```\n"
          ]
        }
      ],
      "source": [
        "# PydanticOutputParser를 초기화합니다.\n",
        "# 이 파서는 Pydantic 모델에 정의된 스키마에 따라 LLM의 출력을 파싱합니다.\n",
        "parser = PydanticOutputParser(pydantic_object=ReviewSummary)\n",
        "print(parser.get_format_instructions())"
      ]
    },
    {
      "cell_type": "code",
      "execution_count": null,
      "metadata": {
        "colab": {
          "base_uri": "https://localhost:8080/"
        },
        "id": "xXicgJky3jro",
        "outputId": "79c6528c-cb11-48a1-a401-f62e411e4234"
      },
      "outputs": [
        {
          "data": {
            "text/plain": [
              "PromptTemplate(input_variables=['review_article'], input_types={}, partial_variables={'format_instructions': 'The output should be formatted as a JSON instance that conforms to the JSON schema below.\\n\\nAs an example, for the schema {\"properties\": {\"foo\": {\"title\": \"Foo\", \"description\": \"a list of strings\", \"type\": \"array\", \"items\": {\"type\": \"string\"}}}, \"required\": [\"foo\"]}\\nthe object {\"foo\": [\"bar\", \"baz\"]} is a well-formatted instance of the schema. The object {\"properties\": {\"foo\": [\"bar\", \"baz\"]}} is not well-formatted.\\n\\nHere is the output schema:\\n```\\n{\"description\": \"영화 후기 요약 모델\", \"properties\": {\"title\": {\"description\": \"영화의 제목\", \"title\": \"Title\", \"type\": \"string\"}, \"summary\": {\"description\": \"영화 감상을 200자 이내로 요약한 내용\", \"title\": \"Summary\", \"type\": \"string\"}, \"actors\": {\"description\": \"출연 배우 이름\", \"title\": \"Actors\", \"type\": \"string\"}, \"keywords\": {\"description\": \"영화 핵심 키워드\", \"title\": \"Keywords\", \"type\": \"string\"}}, \"required\": [\"title\", \"summary\", \"actors\", \"keywords\"]}\\n```'}, template='\\n당신은 영화 후기를 읽고 아래에 주어진 형식에 맞게 정보를 추출하여 요약하는 전문가입니다.\\n주어진 형식에 맞게 JSON을 출력해야 합니다.\\n\\n{format_instructions}\\n\\n다음은 요약할 영화 후기입니다:\\n{review_article}\\n')"
            ]
          },
          "execution_count": 13,
          "metadata": {},
          "output_type": "execute_result"
        }
      ],
      "source": [
        "# 프롬프트 템플릿을 생성합니다.\n",
        "# `format_instructions` 변수는 파서가 요구하는 출력 형식을 동적으로 삽입합니다.\n",
        "prompt_template = \"\"\"\n",
        "당신은 영화 후기를 읽고 아래에 주어진 형식에 맞게 정보를 추출하여 요약하는 전문가입니다.\n",
        "주어진 형식에 맞게 JSON을 출력해야 합니다.\n",
        "\n",
        "{format_instructions}\n",
        "\n",
        "다음은 요약할 영화 후기입니다:\n",
        "{review_article}\n",
        "\"\"\"\n",
        "\n",
        "# PromptTemplate 객체를 생성하고, 필요한 변수(format_instructions, review_article)를 설정합니다.\n",
        "prompt = PromptTemplate(\n",
        "    template=prompt_template,\n",
        "    input_variables=[\"review_article\"],\n",
        "    partial_variables={\"format_instructions\": parser.get_format_instructions()},\n",
        ")\n",
        "prompt"
      ]
    },
    {
      "cell_type": "code",
      "execution_count": null,
      "metadata": {
        "id": "LZC3wwBC3vxg"
      },
      "outputs": [],
      "source": [
        "# 예제 영화 후기입니다.\n",
        "example_review_article = \"\"\"\n",
        "내 가족이 좀비가 된다면? 인간이 아닌 좀비가 나를 물어 뜯으려고 한다면, 어떻게 할까. 여기 좀비가 된 딸을 훈련시키며 키우는 아빠가 있다. 영화 '좀비딸'(감독 필감성)이 웃음과 눈물을 장착하고 출격 준비를 마쳤다.\n",
        "\n",
        "'좀비딸'은 이 세상 마지막 남은 좀비가 된 딸을 지키기 위해 극비 훈련에 돌입한 딸바보 아빠의 코믹 드라마. 웹툰 원작의 '좀비딸'은 원작에 충실하면서도 관객들이 좋아할만한 드라마틱한 요소들을 잘 살려냈다.\n",
        "\n",
        "딸과 함께 살고 있는 정환(조정석 분)은 딸 수아(최유리 분)과 친구처럼 지내는 다정한 아빠다. 중학생 딸의 생일날, 집에서 둘만의 조촐한 파티를 하고 있는 가운데 갑자기 좀비 바이러스가 동네를 덮친다. 정환과 수아는 좀비 바이러스를 피해 할머니 밤순이 있는 은봉리로 가기로 한다. 하지만 두 사람이 차를 타러 가는 과정에 수아가 좀비에게 물리고, 자동차 안에서 수아도 좀비로 변신하면서 이야기가 본격적으로 시작된다.\n",
        "\n",
        "정환은 좀비가 된 딸이 사살당하는 것을 막기 위해 좀비딸을 훈련시킨다. 오로지 사랑의 힘으로 좀비딸을 훈련시키는 정환과 수아의 이야기가 만화적인 스토리들이 관객을 웃기고 감정을 건드리고 눈물을 터뜨린다.\n",
        "\n",
        "'좀비딸'은 놀랍거나 새로운 이야기는 아니다. 이제는 관객에게 익숙한 좀비물에 코믹을 묻혔다. 부성애라는 코드 역시 흔히 볼 수 있는 이야기지만 캐릭터를 재대로 입은 조정석이 보여주는 '딸 아빠'는 통할수 밖에. 맹수 사육사 정환은 좀비를 마치 애완동물이라도 되는 듯이 교육한다. 딸을 보면 마음 약해지는 아빠 정환 뒤로는 좀비 손녀를 '효자손' 맴매로 다스리는 할머니 밤순이 있다. 할머니의 효자손에 한 대 맞은 뒤로부터 효자손만 보면 주춤하는 좀비 손녀는 할머니, 아빠와 새로운 케미를 보여준다. 세 사람이 보여주는 케미 위로 다양한 인물들이 등장해 양념을 더해준다.\n",
        "\n",
        "중후반부에 삐끗하는 장면도 있다. 이야기를 만들다보니 세련되지 않는 이야기들도 등장하지만 착착 이어진 서사에 크게 걸리지 않고 넘어 간다. 그러다가 영화 말미 관객의 눈물샘을 터뜨린다. 웃다가 울면서 끝나니, 영화를 보고 나면 애정이 생기게 된다, 다 아는 아빠와 딸의 이야기도 조정석을 통해 나오면 더 재밌다.\n",
        "\n",
        "조정석은 정환 그 자체다. 자신이 잘하는 연기를 십분 활용해서 영화를 이끈다. 실제 딸 아빠인 조정석은 \"감정이 과하게 넘치지 않도록 노력했다\"라고 말할만큼, 좀비가 된 딸을 살리기 위해 노력하는 모습을 보여주며 능청스럽게 감동을 전한다. 딸과 함께 있을때는 노력하는 단단한 아빠였던 그가, 딸의 옷을 가지러 집에 갔다가 평범했던 일상을 떠올리며 무너지는 눈물 연기에는 그의 진심이 담겼다. 최유리는 변화하는 좀비 연기를 표현하며 귀엽게, 때로는 제대로 각잡힌 좀비 연기를 보여준다. 캐릭터를 연구하고 연습한 마음이 느껴진다.\n",
        "\n",
        "이정은은 이 영화의 '킥'이다. 이정은은 실제 나이보다 훨씬 많은 할머니 연기를 너무나 자연스럽게, 살아있게 펼쳤다. 역시 연기 내공이 느껴진다. 아빠와 좀비딸의 가운데서 균형을 잡아주며 영화를 맛깔나게 만든다. 윤경호, 조여정 등 정환의 친구 역할을 맡은 두 사람도 제 몫을 해내며 서사에 힘들 보탠다.\n",
        "\n",
        "고양이 '애용이'도 '좀비딸'의 큰 매력이다. 어찌나 연기를 잘하는지. 사랑스러운 매력이 영화 시작부터 관객을 녹인다.\n",
        "\n",
        "'좀비딸'은 요즘 홍수처럼 쏟아지는 장르물이나 시리즈처럼 스타일리시한 이야기는 아니다. 오히려 조금 촌스럽고 그래서 정겹다. 방학때 해외로 여행을 떠나는 대신, 할머니집에 가서 모깃불 피워놓고 옥수수를 삶아먹는 느낌이랄까. 범죄물처럼 때리고 부수는 장면이 있는 것도 아니고 거대한 세계관을 새로 창조하는 이야기도 아니다. 일상에 좀비 한 방울을 떨어뜨리고 그 속에서 고군분투하는 사랑스러운 캐릭터들이 영화를 누빈다.\n",
        "\n",
        "영화 '엑시트', '파일럿'을 연이어 흥행시키며 여름 극장가 구원투수로 자리잡은 조정석은 이번에 '좀비딸'을 통해 3연타를 노린다. 더운 여름, 가족과 함께 볼 영화로 이만한 영화가 없다. 연인과 친구와 함께 극장에 들어가서 본다며 웃으면서 혹은 서로 눈물 닦을 티슈를 챙겨주며 경쾌하게 볼 수 있을것 같다.\n",
        "\"\"\""
      ]
    },
    {
      "cell_type": "code",
      "execution_count": null,
      "metadata": {
        "colab": {
          "base_uri": "https://localhost:8080/"
        },
        "id": "6qkttR6Z3zQe",
        "outputId": "3e4015d8-0aeb-4269-e4ba-40348e3b6cd8"
      },
      "outputs": [
        {
          "data": {
            "text/plain": [
              "ReviewSummary(title='좀비딸', summary='좀비가 된 딸을 사랑으로 훈련시키는 아빠의 이야기를 코믹하면서도 감동적으로 그린 영화다. 익숙한 좀비물에 부성애와 가족애를 더해 웃음과 눈물을 선사하며, 배우들의 연기와 케미가 돋보인다. 일상에 좀비를 녹여낸 정겹고 따뜻한 작품이다.', actors='조정석, 최유리, 이정은, 윤경호, 조여정', keywords='좀비, 부성애, 가족, 코믹 드라마, 감동, 훈련, 케미')"
            ]
          },
          "execution_count": 15,
          "metadata": {},
          "output_type": "execute_result"
        }
      ],
      "source": [
        "# 프롬프트, 모델, 파서를 체인으로 연결합니다.\n",
        "chain = prompt | llm | parser\n",
        "\n",
        "# 체인을 실행하고 요약 결과를 얻습니다.\n",
        "# `invoke` 메서드는 체인을 실행하여 최종 결과를 반환합니다.\n",
        "# PydanticOutputParser 덕분에 결과는 NewsSummary 객체 형태로 반환됩니다.\n",
        "summary_result = chain.invoke({\"review_article\": example_review_article})\n",
        "summary_result"
      ]
    },
    {
      "cell_type": "code",
      "execution_count": null,
      "metadata": {
        "colab": {
          "base_uri": "https://localhost:8080/"
        },
        "id": "Pw_ZoLOv8ZEx",
        "outputId": "71315d91-9949-42cc-9191-a36be65d9a60"
      },
      "outputs": [
        {
          "name": "stdout",
          "output_type": "stream",
          "text": [
            "--- 객체 정보 ---\n",
            "타입: <class '__main__.ReviewSummary'>\n",
            "내용: title='좀비딸' summary='좀비가 된 딸을 사랑으로 훈련시키는 아빠의 이야기를 코믹하면서도 감동적으로 그린 영화다. 익숙한 좀비물에 부성애와 가족애를 더해 웃음과 눈물을 선사하며, 배우들의 연기와 케미가 돋보인다. 일상에 좀비를 녹여낸 정겹고 따뜻한 작품이다.' actors='조정석, 최유리, 이정은, 윤경호, 조여정' keywords='좀비, 부성애, 가족, 코믹 드라마, 감동, 훈련, 케미'\n"
          ]
        }
      ],
      "source": [
        "print(\"--- 객체 정보 ---\")\n",
        "print(f\"타입: {type(summary_result)}\")\n",
        "print(f\"내용: {summary_result}\")"
      ]
    },
    {
      "cell_type": "code",
      "execution_count": null,
      "metadata": {
        "colab": {
          "base_uri": "https://localhost:8080/"
        },
        "id": "DitCaAYb4EIL",
        "outputId": "f4508ab0-237e-4d4b-c22a-cf849a7bba1f"
      },
      "outputs": [
        {
          "name": "stdout",
          "output_type": "stream",
          "text": [
            "--- 요약 결과 ---\n",
            "제목: 좀비딸\n",
            "후기 요약: 좀비가 된 딸을 사랑으로 훈련시키는 아빠의 이야기를 코믹하면서도 감동적으로 그린 영화다. 익숙한 좀비물에 부성애와 가족애를 더해 웃음과 눈물을 선사하며, 배우들의 연기와 케미가 돋보인다. 일상에 좀비를 녹여낸 정겹고 따뜻한 작품이다.\n",
            "출연 배우: 조정석, 최유리, 이정은, 윤경호, 조여정\n",
            "키워드: 좀비, 부성애, 가족, 코믹 드라마, 감동, 훈련, 케미\n"
          ]
        }
      ],
      "source": [
        "# 결과 출력\n",
        "print(\"--- 요약 결과 ---\")\n",
        "print(f\"제목: {summary_result.title}\")\n",
        "print(f\"후기 요약: {summary_result.summary}\")\n",
        "print(f\"출연 배우: {summary_result.actors}\")\n",
        "print(f\"키워드: {summary_result.keywords}\")"
      ]
    },
    {
      "cell_type": "markdown",
      "metadata": {
        "id": "rYyrcBw18gNb"
      },
      "source": [
        "## CommaSeparatedListOutputParser\n",
        "\n",
        "`CommaSeparatedListOutputParser`는 쉼표로 구분된 항목 목록을 반환할 필요가 있을 때 유용한 출력 파서입니다.\n",
        "\n",
        "이 파서를 사용하면, 입력된 데이터나 요청된 정보를 쉼표로 구분하여 명확하고 간결한 목록 형태로 제공할 수 있습니다. 예를 들어, 여러 개의 데이터 포인트, 이름, 항목 또는 다양한 값을 나열할 때 효과적으로 정보를 정리하고 사용자에게 전달할 수 있습니다.\n",
        "\n",
        "이 방법은 정보를 구조화하고 가독성을 높이며, 특히 데이터를 다루거나 리스트 형태의 결과를 요구하는 경우에 매우 유용합니다."
      ]
    },
    {
      "cell_type": "code",
      "execution_count": null,
      "metadata": {
        "id": "DR1hyIRQ83Mv"
      },
      "outputs": [],
      "source": [
        "from langchain_core.output_parsers import CommaSeparatedListOutputParser\n",
        "\n",
        "# 콤마로 구분된 리스트 출력 파서 초기화\n",
        "output_parser = CommaSeparatedListOutputParser()\n",
        "\n",
        "# 출력 형식 지침 가져오기\n",
        "format_instructions = output_parser.get_format_instructions()\n",
        "# 프롬프트 템플릿 설정\n",
        "prompt = PromptTemplate(\n",
        "    # 제시한 요리의 재료를 나열하라는 템플릿\n",
        "    template=\"요리 {cook}의 재료를 나열하세요.\\n{format_instructions}\",\n",
        "    input_variables=[\"cook\"],  # 입력 변수로 'cook' 사용\n",
        "    # 부분 변수로 형식 지침 사용\n",
        "    partial_variables={\"format_instructions\": format_instructions},\n",
        ")\n",
        "\n",
        "# ChatOpenAI 모델 초기화\n",
        "model = ChatOpenAI(temperature=0.3, api_key=OPENAI_API_KEY)\n",
        "\n",
        "# 프롬프트, 모델, 출력 파서를 연결하여 체인 생성\n",
        "chain = prompt | model | output_parser"
      ]
    },
    {
      "cell_type": "markdown",
      "metadata": {
        "id": "VXYqta2LPGJK"
      },
      "source": [
        "### 실습2: 요리 이름을 입력하면 요리에 필요한 재료를 쉼표 구분으로 출력"
      ]
    },
    {
      "cell_type": "code",
      "execution_count": null,
      "metadata": {
        "colab": {
          "base_uri": "https://localhost:8080/"
        },
        "id": "plIBnEnQ9e_M",
        "outputId": "a3456ecb-d38e-473e-80be-87048e26114e"
      },
      "outputs": [
        {
          "data": {
            "text/plain": [
              "['된장',\n",
              " '물',\n",
              " '두부',\n",
              " '양파',\n",
              " '대파',\n",
              " '청양고추',\n",
              " '마늘',\n",
              " '돼지고기',\n",
              " '대파',\n",
              " '감자',\n",
              " '무',\n",
              " '김치',\n",
              " '고추장']"
            ]
          },
          "execution_count": 21,
          "metadata": {},
          "output_type": "execute_result"
        }
      ],
      "source": [
        "# \"된장찌개\"에 대한 체인 호출 실행\n",
        "chain.invoke({\"cook\": \"된장찌개\"})"
      ]
    },
    {
      "cell_type": "code",
      "execution_count": null,
      "metadata": {
        "colab": {
          "base_uri": "https://localhost:8080/"
        },
        "id": "7KqlIXG79lWh",
        "outputId": "c766a717-a1d9-4fb9-f54a-336de361feea"
      },
      "outputs": [
        {
          "data": {
            "text/plain": [
              "['새우', '올리브 오일', '마늘', '파슬리', '레몬 주스', '소금', '후추', '파프리카 분말']"
            ]
          },
          "execution_count": 22,
          "metadata": {},
          "output_type": "execute_result"
        }
      ],
      "source": [
        "# \"된장찌개\"에 대한 체인 호출 실행\n",
        "chain.invoke({\"cook\": \"감바스\"})"
      ]
    },
    {
      "cell_type": "code",
      "execution_count": null,
      "metadata": {
        "colab": {
          "base_uri": "https://localhost:8080/"
        },
        "id": "AH2t28yF9prc",
        "outputId": "402c41c7-549a-4a98-d8d8-45c3329f8106"
      },
      "outputs": [
        {
          "data": {
            "text/plain": [
              "['두부',\n",
              " '고기(돼지고기 또는 소고기)',\n",
              " '두반장',\n",
              " '고추기름',\n",
              " '대파',\n",
              " '마늘',\n",
              " '생강',\n",
              " '고추가루',\n",
              " '후추',\n",
              " '설탕',\n",
              " '간장',\n",
              " '물',\n",
              " '식용유']"
            ]
          },
          "execution_count": 23,
          "metadata": {},
          "output_type": "execute_result"
        }
      ],
      "source": [
        "# \"된장찌개\"에 대한 체인 호출 실행\n",
        "chain.invoke({\"cook\": \"마파두부\"})"
      ]
    },
    {
      "cell_type": "markdown",
      "metadata": {
        "id": "cq6JWAor9zSs"
      },
      "source": [
        "# StructuredOutputParser\n",
        "\n",
        "StructuredOutputParser는 LLM에 대한 답변을 `dict` 형식으로 구성하고, key/value 쌍으로 여러 필드를 반환하고자 할 때 유용하게 사용할 수 있습니다.\n",
        "\n",
        "## 장점\n",
        "Pydantic/JSON 파서가 더 강력하다는 평가를 받지만, StructuredOutputParser는 로컬 모델과 같은 덜 강력한 모델에서도 유용합니다. 이는 GPT나 Claude 모델보다 인텔리전스가 낮은(즉, parameter 수가 적은) 모델에서 특히 효과적입니다.\n",
        "\n",
        "## 참고 사항\n",
        "로컬 모델의 경우 `Pydantic` 파서가 동작하지 않는 상황이 빈번하게 발생할 수 있습니다. 이러한 경우, 대안으로 StructuredOutputParser를 사용하는 것이 좋은 해결책이 될 수 있습니다.\n"
      ]
    },
    {
      "cell_type": "code",
      "execution_count": null,
      "metadata": {
        "id": "TVl_9TOr-isC"
      },
      "outputs": [],
      "source": [
        "from langchain.output_parsers import ResponseSchema, StructuredOutputParser"
      ]
    },
    {
      "cell_type": "markdown",
      "metadata": {
        "id": "Dr6l-jpwPAVS"
      },
      "source": [
        "### 실습3: 사용자가 장소를 입력하면 해당 장소의 다양한 정보와 출처를 출력"
      ]
    },
    {
      "cell_type": "code",
      "execution_count": null,
      "metadata": {
        "id": "GKmgw3XP-lnw"
      },
      "outputs": [],
      "source": [
        "# 사용자의 질문에 대한 답변\n",
        "response_schemas = [\n",
        "    ResponseSchema(name=\"question\", description=\"사용자의 질문한 장소\"),\n",
        "    ResponseSchema(name=\"answer\", description=\"사용자의 질문한 장소에 대한 간단한 소개\"),\n",
        "    ResponseSchema(name=\"where\", description=\"사용자가 질문한 장소의 주소\"),\n",
        "    ResponseSchema(name=\"visit\", description=\"사용자가 질문한 장소로 가는 방법\"),\n",
        "    ResponseSchema(name=\"when\", description=\"사용자가 질문한 장소의 운영 시간 및 정기휴일 정보\"),\n",
        "    ResponseSchema(name=\"source\", description=\"사용자의 질문에 답하기 위해 사용된 `출처`, `웹사이트주소` 이여야 합니다.\", )\n",
        "]\n",
        "# 응답 스키마를 기반으로 한 구조화된 출력 파서 초기화\n",
        "output_parser = StructuredOutputParser.from_response_schemas(response_schemas)"
      ]
    },
    {
      "cell_type": "code",
      "execution_count": null,
      "metadata": {
        "id": "qe9YTzFS_vfx"
      },
      "outputs": [],
      "source": [
        "# 출력 형식 지시사항을 파싱합니다.\n",
        "format_instructions = output_parser.get_format_instructions()\n",
        "prompt = PromptTemplate(\n",
        "    # 사용자의 질문에 최대한 답변하도록 템플릿을 설정합니다.\n",
        "    template=\"사용자가 물어본 장소에 대해서 알려주세요. \\n{format_instructions}\\n{question}\",\n",
        "    # 입력 변수로 'question'을 사용합니다.\n",
        "    input_variables=[\"question\"],\n",
        "    # 부분 변수로 'format_instructions'을 사용합니다.\n",
        "    partial_variables={\"format_instructions\": format_instructions},\n",
        ")"
      ]
    },
    {
      "cell_type": "code",
      "execution_count": null,
      "metadata": {
        "id": "swHDQ_FEDN6A"
      },
      "outputs": [],
      "source": [
        "chain = prompt | model | output_parser  # 프롬프트, 모델, 출력 파서를 연결"
      ]
    },
    {
      "cell_type": "code",
      "execution_count": null,
      "metadata": {
        "colab": {
          "base_uri": "https://localhost:8080/"
        },
        "id": "cjbeQtL-C8LX",
        "outputId": "c8bcdbc3-2ced-45d7-ccb7-ff1da07b2f5e"
      },
      "outputs": [
        {
          "data": {
            "text/plain": [
              "{'question': '경복궁',\n",
              " 'answer': '경복궁은 조선 시대의 궁궐로, 서울의 대표적인 관광지이며 국보 1호로 지정되어 있는 역사적인 장소입니다.',\n",
              " 'where': '161 Sajik-ro, Sejongno, Jongno-gu, Seoul, South Korea',\n",
              " 'visit': '지하철 3호선 안국역 2번 출구에서 도보로 약 5분 소요',\n",
              " 'when': '매주 화요일은 휴관이며, 운영 시간은 9:00 - 18:00 입니다.',\n",
              " 'source': '한국관광공사, https://english.visitkorea.or.kr'}"
            ]
          },
          "execution_count": 32,
          "metadata": {},
          "output_type": "execute_result"
        }
      ],
      "source": [
        "# 경복궁에 대해서 질문합니다.\n",
        "chain.invoke({\"question\": \"경복궁\"})"
      ]
    },
    {
      "cell_type": "code",
      "execution_count": null,
      "metadata": {
        "colab": {
          "base_uri": "https://localhost:8080/"
        },
        "id": "Uo2A_FvqDaBO",
        "outputId": "afb907c0-8d4b-4d81-aabf-080c3d9de7ca"
      },
      "outputs": [
        {
          "data": {
            "text/plain": [
              "{'question': '서울 타워',\n",
              " 'answer': '서울의 대표적인 랜드마크이자 전망대로 유명한 관광지',\n",
              " 'where': '105 Namsangongwon-gil, Yongsan 2(i)ga-dong, Yongsan-gu, Seoul, South Korea',\n",
              " 'visit': '지하철 4호선 숙대입구역 9번 출구에서 도보로 약 15분 소요',\n",
              " 'when': '매일 10:00 - 23:00, 정기휴일 없음',\n",
              " 'source': '위키피디아, https://www.nseoultower.co.kr/'}"
            ]
          },
          "execution_count": 37,
          "metadata": {},
          "output_type": "execute_result"
        }
      ],
      "source": [
        "# 서울 타워에 대해서 질문합니다.\n",
        "chain.invoke({\"question\": \"서울 타워\"})"
      ]
    },
    {
      "cell_type": "code",
      "execution_count": null,
      "metadata": {
        "colab": {
          "base_uri": "https://localhost:8080/"
        },
        "id": "nWk1nWySDnfL",
        "outputId": "8977c00f-b5f2-46f3-a2be-02b6064fde69"
      },
      "outputs": [
        {
          "data": {
            "text/plain": [
              "{'question': '여의도 더현대',\n",
              " 'answer': '여의도 더현대는 서울 여의도에 위치한 상업시설로 쇼핑, 식사, 엔터테인먼트 등 다양한 즐길거리를 제공합니다.',\n",
              " 'where': '서울특별시 영등포구 여의도동 23-1',\n",
              " 'visit': '지하철 5호선 여의도역 3번 출구에서 도보로 약 5분 소요',\n",
              " 'when': '매일 10:30 - 22:00, 정기휴일 정보는 사이트를 참고하세요.',\n",
              " 'source': '공식 홈페이지: http://www.yeouidohyundai.co.kr/'}"
            ]
          },
          "execution_count": 39,
          "metadata": {},
          "output_type": "execute_result"
        }
      ],
      "source": [
        "# 여의도 더현대에 대해서 질문합니다.\n",
        "chain.invoke({\"question\": \"여의도 더현대\"})"
      ]
    },
    {
      "cell_type": "markdown",
      "metadata": {
        "id": "CZCgEHHgD9pi"
      },
      "source": [
        "## JsonOutputParser\n",
        "\n",
        "JsonOutputParser는 사용자가 원하는 JSON 스키마를 지정할 수 있게 해주는 도구입니다. 이 도구는 Large Language Model (LLM)이 데이터를 조회하고 결과를 도출할 때, 지정된 스키마에 맞게 JSON 형식으로 데이터를 반환할 수 있도록 설계되었습니다.\n",
        "\n",
        "LLM이 데이터를 정확하고 효율적으로 처리하여 사용자가 원하는 형태의 JSON을 생성하기 위해서는, 모델의 용량(예: 인텔리전스)이 충분히 커야 합니다. 예를 들어, llama-70B 모델은 llama-8B 모델보다 더 큰 용량을 가지고 있어 보다 복잡한 데이터를 처리하는 데 유리합니다.\n",
        "\n",
        "**[참고]**\n",
        "\n",
        "`JSON (JavaScript Object Notation)` 은 데이터를 저장하고 구조적으로 전달하기 위해 사용되는 경량의 데이터 교환 포맷입니다. 웹 개발에서 매우 중요한 역할을 하며, 서버와 클라이언트 간의 통신을 위해 널리 사용됩니다. JSON은 읽기 쉽고, 기계가 파싱하고 생성하기 쉬운 텍스트를 기반으로 합니다.\n",
        "\n",
        "JSON의 기본 구조\n",
        "JSON 데이터는 이름(키)과 값의 쌍으로 이루어져 있습니다. 여기서 \"이름\"은 문자열이고, \"값\"은 다양한 데이터 유형일 수 있습니다. JSON은 두 가지 기본 구조를 가집니다:\n",
        "\n",
        "- 객체: 중괄호 {}로 둘러싸인 키-값 쌍의 집합입니다. 각 키는 콜론 :을 사용하여 해당하는 값과 연결되며, 여러 키-값 쌍은 쉼표 ,로 구분됩니다.\n",
        "- 배열: 대괄호 []로 둘러싸인 값의 순서 있는 목록입니다. 배열 내의 값은 쉼표 ,로 구분됩니다."
      ]
    },
    {
      "cell_type": "code",
      "execution_count": null,
      "metadata": {
        "id": "1cbZB-WFErJP"
      },
      "outputs": [],
      "source": [
        "from langchain_core.prompts import ChatPromptTemplate\n",
        "from langchain_core.output_parsers import JsonOutputParser"
      ]
    },
    {
      "cell_type": "code",
      "execution_count": null,
      "metadata": {
        "id": "HeHGQuiJFj1g"
      },
      "outputs": [],
      "source": [
        "# OpenAI 객체를 생성합니다.\n",
        "model = ChatOpenAI(temperature=0.3, model_name=\"gpt-4.1-mini\", api_key=OPENAI_API_KEY)"
      ]
    },
    {
      "cell_type": "markdown",
      "metadata": {
        "id": "hrzAdNsrPc9j"
      },
      "source": [
        "### 실습3: 식재료를 입력하면 해당 식재료의 카테고리와 권장 소비기간, 보관 방법을 출력"
      ]
    },
    {
      "cell_type": "code",
      "execution_count": null,
      "metadata": {
        "id": "eXy1XTrjFrgo"
      },
      "outputs": [],
      "source": [
        "from ast import Num\n",
        "# 원하는 데이터 구조를 정의합니다.\n",
        "class Ingredient(BaseModel):\n",
        "    name: str = Field(description=\"식재료의 이름\")\n",
        "    category: str = Field(description=\"식재료의 카테고리\")\n",
        "    storageDesc: str = Field(description=\"식재료의 권장 소비기간 정보\")\n",
        "    storageDays: int = Field(description=\"식재료의 권장 소비기간 일수 숫자만\")\n",
        "    storageMethod: str = Field(description=\"식재료의 보관 방법 정보\")"
      ]
    },
    {
      "cell_type": "code",
      "execution_count": null,
      "metadata": {
        "colab": {
          "base_uri": "https://localhost:8080/"
        },
        "id": "3s-Nh1kMHQOy",
        "outputId": "0bc38735-d1f8-42dc-8c63-69dbcff196ca"
      },
      "outputs": [
        {
          "name": "stdout",
          "output_type": "stream",
          "text": [
            "The output should be formatted as a JSON instance that conforms to the JSON schema below.\n",
            "\n",
            "As an example, for the schema {\"properties\": {\"foo\": {\"title\": \"Foo\", \"description\": \"a list of strings\", \"type\": \"array\", \"items\": {\"type\": \"string\"}}}, \"required\": [\"foo\"]}\n",
            "the object {\"foo\": [\"bar\", \"baz\"]} is a well-formatted instance of the schema. The object {\"properties\": {\"foo\": [\"bar\", \"baz\"]}} is not well-formatted.\n",
            "\n",
            "Here is the output schema:\n",
            "```\n",
            "{\"properties\": {\"name\": {\"description\": \"식재료의 이름\", \"title\": \"Name\", \"type\": \"string\"}, \"category\": {\"description\": \"식재료의 카테고리\", \"title\": \"Category\", \"type\": \"string\"}, \"storageDesc\": {\"description\": \"식재료의 권장 소비기간 정보\", \"title\": \"Storagedesc\", \"type\": \"string\"}, \"storageDays\": {\"description\": \"식재료의 권장 소비기간 일수 숫자만\", \"title\": \"Storagedays\", \"type\": \"integer\"}, \"storageMethod\": {\"description\": \"식재료의 보관 방법 정보\", \"title\": \"Storagemethod\", \"type\": \"string\"}}, \"required\": [\"name\", \"category\", \"storageDesc\", \"storageDays\", \"storageMethod\"]}\n",
            "```\n"
          ]
        }
      ],
      "source": [
        "# 파서를 설정하고 프롬프트 템플릿에 지시사항을 주입합니다.\n",
        "parser = JsonOutputParser(pydantic_object=Ingredient)\n",
        "print(parser.get_format_instructions())"
      ]
    },
    {
      "cell_type": "code",
      "execution_count": null,
      "metadata": {
        "id": "AhSNIcK9HVSO"
      },
      "outputs": [],
      "source": [
        "# 프롬프트 템플릿을 설정합니다.\n",
        "prompt = ChatPromptTemplate.from_messages(\n",
        "    [\n",
        "        (\"system\", \"당신은 친절한 AI 어시스턴트 입니다. 질문한 식재료에 대한 정보를 알려주세요.\"),\n",
        "        (\"user\", \"#Format: {format_instructions}\\n\\n#Question: {question}\"),\n",
        "    ]\n",
        ")\n",
        "\n",
        "prompt = prompt.partial(format_instructions=parser.get_format_instructions())\n",
        "\n",
        "# 체인을 구성합니다.\n",
        "chain = prompt | model | parser\n",
        "\n",
        "question = \"당근\"\n",
        "\n",
        "# 체인을 호출하여 쿼리 실행\n",
        "answer = chain.invoke({\"question\": question})"
      ]
    },
    {
      "cell_type": "code",
      "execution_count": null,
      "metadata": {
        "colab": {
          "base_uri": "https://localhost:8080/"
        },
        "id": "HHd7uMa7Ipb7",
        "outputId": "12d2c69a-15af-439a-df14-46eeaab19454"
      },
      "outputs": [
        {
          "data": {
            "text/plain": [
              "dict"
            ]
          },
          "execution_count": 61,
          "metadata": {},
          "output_type": "execute_result"
        }
      ],
      "source": [
        "# 타입을 확인합니다.\n",
        "type(answer)"
      ]
    },
    {
      "cell_type": "code",
      "execution_count": null,
      "metadata": {
        "colab": {
          "base_uri": "https://localhost:8080/"
        },
        "id": "ASzKurFTIvv4",
        "outputId": "af870ab8-1697-471c-cb5a-dfb6dfafebf5"
      },
      "outputs": [
        {
          "data": {
            "text/plain": [
              "{'name': '당근',\n",
              " 'category': '채소',\n",
              " 'storageDesc': '냉장 보관 시 약 7~10일 이내에 소비하는 것이 좋습니다.',\n",
              " 'storageDays': 10,\n",
              " 'storageMethod': '종이 타월로 감싸서 비닐봉지에 넣어 냉장고 야채 칸에 보관하세요.'}"
            ]
          },
          "execution_count": 62,
          "metadata": {},
          "output_type": "execute_result"
        }
      ],
      "source": [
        "# answer 객체를 출력합니다.\n",
        "answer"
      ]
    },
    {
      "cell_type": "code",
      "execution_count": null,
      "metadata": {
        "colab": {
          "base_uri": "https://localhost:8080/"
        },
        "id": "dEkaL1MkJDrf",
        "outputId": "5a2f5968-eb6b-490f-a3fb-e829f865f0e1"
      },
      "outputs": [
        {
          "data": {
            "text/plain": [
              "{'name': '감자',\n",
              " 'category': '채소',\n",
              " 'storageDesc': '서늘하고 건조한 곳에서 보관하면 약 30일간 신선도를 유지할 수 있습니다.',\n",
              " 'storageDays': 30,\n",
              " 'storageMethod': '직사광선을 피하고 통풍이 잘 되는 서늘하고 건조한 곳에 보관하세요. 냉장 보관 시 전분이 변해 맛이 떨어질 수 있습니다.'}"
            ]
          },
          "execution_count": 63,
          "metadata": {},
          "output_type": "execute_result"
        }
      ],
      "source": [
        "question = \"감자\"\n",
        "\n",
        "# 체인을 호출하여 쿼리 실행\n",
        "answer = chain.invoke({\"question\": question})\n",
        "answer"
      ]
    },
    {
      "cell_type": "code",
      "execution_count": null,
      "metadata": {
        "colab": {
          "base_uri": "https://localhost:8080/"
        },
        "id": "oxtVWDj-JMvX",
        "outputId": "b1de23d2-6a8a-47fd-e129-b2c146c3f48c"
      },
      "outputs": [
        {
          "data": {
            "text/plain": [
              "{'name': '토마토',\n",
              " 'category': '채소',\n",
              " 'storageDesc': '냉장 보관 시 5~7일 내에 소비하는 것이 좋습니다.',\n",
              " 'storageDays': 7,\n",
              " 'storageMethod': '상온에서는 익으면 빨리 소비하고, 냉장 보관 시 신문지에 싸서 보관하면 신선도를 유지할 수 있습니다.'}"
            ]
          },
          "execution_count": 64,
          "metadata": {},
          "output_type": "execute_result"
        }
      ],
      "source": [
        "question = \"토마토\"\n",
        "\n",
        "# 체인을 호출하여 쿼리 실행\n",
        "answer = chain.invoke({\"question\": question})\n",
        "answer"
      ]
    },
    {
      "cell_type": "markdown",
      "metadata": {
        "id": "ft8uXxGZJbNg"
      },
      "source": [
        "# PandasDataFrameOutputParser\n",
        "\n",
        "**Pandas DataFrame**은 Python 프로그래밍 언어에서 널리 사용되는 데이터 구조로, 데이터 조작 및 분석을 위한 강력한 도구입니다. DataFrame은 구조화된 데이터를 효과적으로 다루기 위한 포괄적인 도구 세트를 제공하며, 이를 통해 데이터 정제, 변환 및 분석과 같은 다양한 작업을 수행할 수 있습니다.\n",
        "\n",
        "이 **출력 파서**는 사용자가 임의의 Pandas DataFrame을 지정하여 해당 DataFrame에서 데이터를 추출하고, 이를 형식화된 사전(dictionary) 형태로 조회할 수 있게 해주는 LLM(Large Language Model) 기반 도구입니다.\n"
      ]
    },
    {
      "cell_type": "code",
      "execution_count": 6,
      "metadata": {
        "id": "JbzI3cY5Jbl3"
      },
      "outputs": [],
      "source": [
        "import pprint\n",
        "from typing import Any, Dict\n",
        "\n",
        "import pandas as pd\n",
        "from langchain.output_parsers import PandasDataFrameOutputParser"
      ]
    },
    {
      "cell_type": "code",
      "execution_count": 7,
      "metadata": {
        "id": "9k7okeiyJmmz"
      },
      "outputs": [],
      "source": [
        "# OpenAI 객체를 생성합니다. (gpt-3.5-turbo 모델 사용을 권장)\n",
        "model = ChatOpenAI(temperature=0.3, model_name=\"gpt-4.1\")"
      ]
    },
    {
      "cell_type": "code",
      "execution_count": 8,
      "metadata": {
        "id": "Gi6-YSYCJtvF"
      },
      "outputs": [],
      "source": [
        "# 출력 목적으로만 사용됩니다.\n",
        "def format_parser_output(parser_output: Dict[str, Any]) -> None:\n",
        "    # 파서 출력의 키들을 순회합니다.\n",
        "    for key in parser_output.keys():\n",
        "        # 각 키의 값을 딕셔너리로 변환합니다.\n",
        "        parser_output[key] = parser_output[key].to_dict()\n",
        "    # 예쁘게 출력합니다.\n",
        "    return pprint.PrettyPrinter(width=4, compact=True).pprint(parser_output)"
      ]
    },
    {
      "cell_type": "markdown",
      "metadata": {
        "id": "LE8DnP23PkyT"
      },
      "source": [
        "### 실습4: 식재료와 권장 소비기간, 보관정보가 저장되어 있는 csv 파일을 padas로 읽어들이기"
      ]
    },
    {
      "cell_type": "code",
      "execution_count": 9,
      "metadata": {
        "colab": {
          "base_uri": "https://localhost:8080/",
          "height": 206
        },
        "id": "6rfwKsVsJ6c5",
        "outputId": "1aa7ab8c-49b3-438a-b43e-61ceedd214eb"
      },
      "outputs": [
        {
          "data": {
            "text/html": [
              "<div>\n",
              "<style scoped>\n",
              "    .dataframe tbody tr th:only-of-type {\n",
              "        vertical-align: middle;\n",
              "    }\n",
              "\n",
              "    .dataframe tbody tr th {\n",
              "        vertical-align: top;\n",
              "    }\n",
              "\n",
              "    .dataframe thead th {\n",
              "        text-align: right;\n",
              "    }\n",
              "</style>\n",
              "<table border=\"1\" class=\"dataframe\">\n",
              "  <thead>\n",
              "    <tr style=\"text-align: right;\">\n",
              "      <th></th>\n",
              "      <th>category</th>\n",
              "      <th>name</th>\n",
              "      <th>storageDays</th>\n",
              "      <th>storageDesc</th>\n",
              "      <th>storageMethod</th>\n",
              "    </tr>\n",
              "  </thead>\n",
              "  <tbody>\n",
              "    <tr>\n",
              "      <th>0</th>\n",
              "      <td>기타</td>\n",
              "      <td>두부</td>\n",
              "      <td>7</td>\n",
              "      <td>5~7일</td>\n",
              "      <td>물에 담가 밀폐용기에 넣어 냉장 보관. 매일 물을 갈아주면 더 오래 보관 가능합니다.</td>\n",
              "    </tr>\n",
              "    <tr>\n",
              "      <th>1</th>\n",
              "      <td>야채</td>\n",
              "      <td>콩나물</td>\n",
              "      <td>5</td>\n",
              "      <td>3~5일</td>\n",
              "      <td>씻지 않은 상태로 물기를 제거하고 밀폐용기에 담아 냉장 보관하세요. 빛을 차단하면 ...</td>\n",
              "    </tr>\n",
              "    <tr>\n",
              "      <th>2</th>\n",
              "      <td>야채</td>\n",
              "      <td>숙주나물</td>\n",
              "      <td>4</td>\n",
              "      <td>2~4일</td>\n",
              "      <td>콩나물보다 쉽게 무르므로, 씻지 않고 밀폐용기에 담아 냉장 보관 후 가급적 빨리 소...</td>\n",
              "    </tr>\n",
              "    <tr>\n",
              "      <th>3</th>\n",
              "      <td>야채</td>\n",
              "      <td>고구마</td>\n",
              "      <td>30</td>\n",
              "      <td>2~4주</td>\n",
              "      <td>10~15°C의 서늘하고 어두운 곳에 신문지로 감싸 보관하세요. (냉장 보관 시 맛...</td>\n",
              "    </tr>\n",
              "    <tr>\n",
              "      <th>4</th>\n",
              "      <td>야채</td>\n",
              "      <td>감자</td>\n",
              "      <td>30</td>\n",
              "      <td>2~4주</td>\n",
              "      <td>빛이 없는 서늘하고 통풍이 잘 되는 곳에 보관하세요. 사과와 함께 두면 싹 나는 것...</td>\n",
              "    </tr>\n",
              "  </tbody>\n",
              "</table>\n",
              "</div>"
            ],
            "text/plain": [
              "  category  name  storageDays storageDesc  \\\n",
              "0       기타    두부            7        5~7일   \n",
              "1       야채   콩나물            5        3~5일   \n",
              "2       야채  숙주나물            4        2~4일   \n",
              "3       야채   고구마           30        2~4주   \n",
              "4       야채    감자           30        2~4주   \n",
              "\n",
              "                                       storageMethod  \n",
              "0    물에 담가 밀폐용기에 넣어 냉장 보관. 매일 물을 갈아주면 더 오래 보관 가능합니다.  \n",
              "1  씻지 않은 상태로 물기를 제거하고 밀폐용기에 담아 냉장 보관하세요. 빛을 차단하면 ...  \n",
              "2  콩나물보다 쉽게 무르므로, 씻지 않고 밀폐용기에 담아 냉장 보관 후 가급적 빨리 소...  \n",
              "3  10~15°C의 서늘하고 어두운 곳에 신문지로 감싸 보관하세요. (냉장 보관 시 맛...  \n",
              "4  빛이 없는 서늘하고 통풍이 잘 되는 곳에 보관하세요. 사과와 함께 두면 싹 나는 것...  "
            ]
          },
          "execution_count": 9,
          "metadata": {},
          "output_type": "execute_result"
        }
      ],
      "source": [
        "# 원하는 Pandas DataFrame을 정의합니다.\n",
        "df = pd.read_csv(\"data/storageInfo.csv\")\n",
        "df.head()"
      ]
    },
    {
      "cell_type": "code",
      "execution_count": 10,
      "metadata": {
        "colab": {
          "base_uri": "https://localhost:8080/"
        },
        "id": "0Owdxu8PKbj6",
        "outputId": "235af8b7-eff3-4438-e672-a4d8ac25c62e"
      },
      "outputs": [
        {
          "name": "stdout",
          "output_type": "stream",
          "text": [
            "<class 'pandas.core.frame.DataFrame'>\n",
            "RangeIndex: 60 entries, 0 to 59\n",
            "Data columns (total 5 columns):\n",
            " #   Column         Non-Null Count  Dtype \n",
            "---  ------         --------------  ----- \n",
            " 0   category       60 non-null     object\n",
            " 1   name           60 non-null     object\n",
            " 2   storageDays    60 non-null     int64 \n",
            " 3   storageDesc    60 non-null     object\n",
            " 4   storageMethod  60 non-null     object\n",
            "dtypes: int64(1), object(4)\n",
            "memory usage: 2.5+ KB\n"
          ]
        }
      ],
      "source": [
        "df.info()"
      ]
    },
    {
      "cell_type": "code",
      "execution_count": 11,
      "metadata": {
        "colab": {
          "base_uri": "https://localhost:8080/"
        },
        "id": "62IvX3s2Kh3a",
        "outputId": "a88caf1c-e053-443f-e40d-6b4975ab2eee"
      },
      "outputs": [
        {
          "data": {
            "text/plain": [
              "(60, 5)"
            ]
          },
          "execution_count": 11,
          "metadata": {},
          "output_type": "execute_result"
        }
      ],
      "source": [
        "df.shape"
      ]
    },
    {
      "cell_type": "code",
      "execution_count": 12,
      "metadata": {
        "colab": {
          "base_uri": "https://localhost:8080/"
        },
        "id": "g-mN7QVrKjb3",
        "outputId": "60dc423f-e7a8-4de3-c06d-c642207da6b5"
      },
      "outputs": [
        {
          "name": "stdout",
          "output_type": "stream",
          "text": [
            "The output should be formatted as a string as the operation, followed by a colon, followed by the column or row to be queried on, followed by optional array parameters.\n",
            "1. The column names are limited to the possible columns below.\n",
            "2. Arrays must either be a comma-separated list of numbers formatted as [1,3,5], or it must be in range of numbers formatted as [0..4].\n",
            "3. Remember that arrays are optional and not necessarily required.\n",
            "4. If the column is not in the possible columns or the operation is not a valid Pandas DataFrame operation, return why it is invalid as a sentence starting with either \"Invalid column\" or \"Invalid operation\".\n",
            "\n",
            "As an example, for the formats:\n",
            "1. String \"column:num_legs\" is a well-formatted instance which gets the column num_legs, where num_legs is a possible column.\n",
            "2. String \"row:1\" is a well-formatted instance which gets row 1.\n",
            "3. String \"column:num_legs[1,2]\" is a well-formatted instance which gets the column num_legs for rows 1 and 2, where num_legs is a possible column.\n",
            "4. String \"row:1[num_legs]\" is a well-formatted instance which gets row 1, but for just column num_legs, where num_legs is a possible column.\n",
            "5. String \"mean:num_legs[1..3]\" is a well-formatted instance which takes the mean of num_legs from rows 1 to 3, where num_legs is a possible column and mean is a valid Pandas DataFrame operation.\n",
            "6. String \"do_something:num_legs\" is a badly-formatted instance, where do_something is not a valid Pandas DataFrame operation.\n",
            "7. String \"mean:invalid_col\" is a badly-formatted instance, where invalid_col is not a possible column.\n",
            "\n",
            "Here are the possible columns:\n",
            "```\n",
            "category, name, storageDays, storageDesc, storageMethod\n",
            "```\n",
            "\n"
          ]
        }
      ],
      "source": [
        "# 파서를 설정하고 프롬프트 템플릿에 지시사항을 주입합니다.\n",
        "parser = PandasDataFrameOutputParser(dataframe=df)\n",
        "\n",
        "# 파서의 지시사항을 출력합니다.\n",
        "print(parser.get_format_instructions())"
      ]
    },
    {
      "cell_type": "code",
      "execution_count": 13,
      "metadata": {
        "colab": {
          "base_uri": "https://localhost:8080/"
        },
        "id": "bDIwPvhpKp8i",
        "outputId": "f39e8f0b-259a-4c08-8559-de535d26f70f"
      },
      "outputs": [
        {
          "name": "stdout",
          "output_type": "stream",
          "text": [
            "{'name': {0: '두부',\n",
            "          1: '콩나물',\n",
            "          2: '숙주나물',\n",
            "          3: '고구마',\n",
            "          4: '감자',\n",
            "          5: '양파',\n",
            "          6: '마늘',\n",
            "          7: '파',\n",
            "          8: '생강',\n",
            "          9: '오이',\n",
            "          10: '가지',\n",
            "          11: '호박',\n",
            "          12: '옥수수',\n",
            "          13: '상추',\n",
            "          14: '깻잎',\n",
            "          15: '쌈채소',\n",
            "          16: '고추',\n",
            "          17: '피망',\n",
            "          18: '파프리카',\n",
            "          19: '시금치',\n",
            "          20: '부추',\n",
            "          21: '나물',\n",
            "          22: '양배추',\n",
            "          23: '양상추',\n",
            "          24: '브로콜리',\n",
            "          25: '당근',\n",
            "          26: '우엉',\n",
            "          27: '연근',\n",
            "          28: '마',\n",
            "          29: '버섯',\n",
            "          30: '배추',\n",
            "          31: '무',\n",
            "          32: '아스파라거스',\n",
            "          33: '인삼',\n",
            "          34: '더덕',\n",
            "          35: '사과',\n",
            "          36: '배',\n",
            "          37: '감귤',\n",
            "          38: '만감류',\n",
            "          39: '수박',\n",
            "          40: '멜론',\n",
            "          41: '참외',\n",
            "          42: '토마토',\n",
            "          43: '딸기',\n",
            "          44: '키위',\n",
            "          45: '블루베리',\n",
            "          46: '포도',\n",
            "          47: '자두',\n",
            "          48: '복숭아',\n",
            "          49: '감',\n",
            "          50: '곶감',\n",
            "          51: '바나나',\n",
            "          52: '파인애플',\n",
            "          53: '오렌지',\n",
            "          54: '자몽',\n",
            "          55: '레몬',\n",
            "          56: '망고',\n",
            "          57: '체리',\n",
            "          58: '석류',\n",
            "          59: '아보카도'}}\n"
          ]
        }
      ],
      "source": [
        "# 열 작업 예시입니다.\n",
        "df_query = \"name column을 조회해 주세요.\"\n",
        "\n",
        "\n",
        "# 프롬프트 템플릿을 설정합니다.\n",
        "prompt = PromptTemplate(\n",
        "    template=\"Answer the user query.\\n{format_instructions}\\n{question}\\n\",\n",
        "    input_variables=[\"question\"],  # 입력 변수 설정\n",
        "    partial_variables={\n",
        "        \"format_instructions\": parser.get_format_instructions()\n",
        "    },  # 부분 변수 설정\n",
        ")\n",
        "\n",
        "# 체인 생성\n",
        "chain = prompt | model | parser\n",
        "\n",
        "# 체인 실행\n",
        "parser_output = chain.invoke({\"question\": df_query})\n",
        "\n",
        "# 출력\n",
        "format_parser_output(parser_output)"
      ]
    },
    {
      "cell_type": "code",
      "execution_count": 14,
      "metadata": {
        "colab": {
          "base_uri": "https://localhost:8080/",
          "height": 206
        },
        "id": "d4G_n0dbLNbP",
        "outputId": "723424b5-cbbe-42ff-ce15-17cecc357db6"
      },
      "outputs": [
        {
          "data": {
            "text/html": [
              "<div>\n",
              "<style scoped>\n",
              "    .dataframe tbody tr th:only-of-type {\n",
              "        vertical-align: middle;\n",
              "    }\n",
              "\n",
              "    .dataframe tbody tr th {\n",
              "        vertical-align: top;\n",
              "    }\n",
              "\n",
              "    .dataframe thead th {\n",
              "        text-align: right;\n",
              "    }\n",
              "</style>\n",
              "<table border=\"1\" class=\"dataframe\">\n",
              "  <thead>\n",
              "    <tr style=\"text-align: right;\">\n",
              "      <th></th>\n",
              "      <th>category</th>\n",
              "      <th>name</th>\n",
              "      <th>storageDays</th>\n",
              "      <th>storageDesc</th>\n",
              "      <th>storageMethod</th>\n",
              "    </tr>\n",
              "  </thead>\n",
              "  <tbody>\n",
              "    <tr>\n",
              "      <th>0</th>\n",
              "      <td>기타</td>\n",
              "      <td>두부</td>\n",
              "      <td>7</td>\n",
              "      <td>5~7일</td>\n",
              "      <td>물에 담가 밀폐용기에 넣어 냉장 보관. 매일 물을 갈아주면 더 오래 보관 가능합니다.</td>\n",
              "    </tr>\n",
              "    <tr>\n",
              "      <th>1</th>\n",
              "      <td>야채</td>\n",
              "      <td>콩나물</td>\n",
              "      <td>5</td>\n",
              "      <td>3~5일</td>\n",
              "      <td>씻지 않은 상태로 물기를 제거하고 밀폐용기에 담아 냉장 보관하세요. 빛을 차단하면 ...</td>\n",
              "    </tr>\n",
              "    <tr>\n",
              "      <th>2</th>\n",
              "      <td>야채</td>\n",
              "      <td>숙주나물</td>\n",
              "      <td>4</td>\n",
              "      <td>2~4일</td>\n",
              "      <td>콩나물보다 쉽게 무르므로, 씻지 않고 밀폐용기에 담아 냉장 보관 후 가급적 빨리 소...</td>\n",
              "    </tr>\n",
              "    <tr>\n",
              "      <th>3</th>\n",
              "      <td>야채</td>\n",
              "      <td>고구마</td>\n",
              "      <td>30</td>\n",
              "      <td>2~4주</td>\n",
              "      <td>10~15°C의 서늘하고 어두운 곳에 신문지로 감싸 보관하세요. (냉장 보관 시 맛...</td>\n",
              "    </tr>\n",
              "    <tr>\n",
              "      <th>4</th>\n",
              "      <td>야채</td>\n",
              "      <td>감자</td>\n",
              "      <td>30</td>\n",
              "      <td>2~4주</td>\n",
              "      <td>빛이 없는 서늘하고 통풍이 잘 되는 곳에 보관하세요. 사과와 함께 두면 싹 나는 것...</td>\n",
              "    </tr>\n",
              "  </tbody>\n",
              "</table>\n",
              "</div>"
            ],
            "text/plain": [
              "  category  name  storageDays storageDesc  \\\n",
              "0       기타    두부            7        5~7일   \n",
              "1       야채   콩나물            5        3~5일   \n",
              "2       야채  숙주나물            4        2~4일   \n",
              "3       야채   고구마           30        2~4주   \n",
              "4       야채    감자           30        2~4주   \n",
              "\n",
              "                                       storageMethod  \n",
              "0    물에 담가 밀폐용기에 넣어 냉장 보관. 매일 물을 갈아주면 더 오래 보관 가능합니다.  \n",
              "1  씻지 않은 상태로 물기를 제거하고 밀폐용기에 담아 냉장 보관하세요. 빛을 차단하면 ...  \n",
              "2  콩나물보다 쉽게 무르므로, 씻지 않고 밀폐용기에 담아 냉장 보관 후 가급적 빨리 소...  \n",
              "3  10~15°C의 서늘하고 어두운 곳에 신문지로 감싸 보관하세요. (냉장 보관 시 맛...  \n",
              "4  빛이 없는 서늘하고 통풍이 잘 되는 곳에 보관하세요. 사과와 함께 두면 싹 나는 것...  "
            ]
          },
          "execution_count": 14,
          "metadata": {},
          "output_type": "execute_result"
        }
      ],
      "source": [
        "df.head()"
      ]
    },
    {
      "cell_type": "code",
      "execution_count": 15,
      "metadata": {
        "colab": {
          "base_uri": "https://localhost:8080/"
        },
        "id": "WnN5S-euK55K",
        "outputId": "f73f6ffa-69ee-432e-e32e-19d639335752"
      },
      "outputs": [
        {
          "data": {
            "text/plain": [
              "15.2"
            ]
          },
          "execution_count": 15,
          "metadata": {},
          "output_type": "execute_result"
        }
      ],
      "source": [
        "# row 0 ~ 4의 평균 소비기한을 구합니다.\n",
        "df[\"storageDays\"].head().mean()"
      ]
    },
    {
      "cell_type": "code",
      "execution_count": 16,
      "metadata": {
        "colab": {
          "base_uri": "https://localhost:8080/"
        },
        "id": "9aWlRsLALEb8",
        "outputId": "3969312b-57c6-446d-855d-137aaa6e9d5a"
      },
      "outputs": [
        {
          "name": "stdout",
          "output_type": "stream",
          "text": [
            "{'mean': 15.2}\n"
          ]
        }
      ],
      "source": [
        "# 임의의 Pandas DataFrame 작업 예시, 행의 수를 제한합니다.\n",
        "df_query = \"Retrieve the average of the storageDays from row 0 to 4.\"\n",
        "\n",
        "# 체인 실행\n",
        "parser_output = chain.invoke({\"question\": df_query})\n",
        "\n",
        "# 결과 출력\n",
        "print(parser_output)"
      ]
    },
    {
      "cell_type": "code",
      "execution_count": 17,
      "metadata": {
        "colab": {
          "base_uri": "https://localhost:8080/"
        },
        "id": "Z0oGxzJ_LtqJ",
        "outputId": "729b32b2-3bfe-478f-94e8-c652e0d97405"
      },
      "outputs": [
        {
          "data": {
            "text/plain": [
              "180"
            ]
          },
          "execution_count": 17,
          "metadata": {},
          "output_type": "execute_result"
        }
      ],
      "source": [
        "# 최대 소비기한을 구합니다.\n",
        "df[\"storageDays\"].max()"
      ]
    },
    {
      "cell_type": "code",
      "execution_count": 18,
      "metadata": {
        "colab": {
          "base_uri": "https://localhost:8080/"
        },
        "id": "RNrmujF6Lcap",
        "outputId": "571d67c4-fd9c-4456-9820-4dccb1717d8f"
      },
      "outputs": [
        {
          "name": "stdout",
          "output_type": "stream",
          "text": [
            "{'mean': 15.95}\n"
          ]
        }
      ],
      "source": [
        "# The user query needs to be in the format expected by the PandasDataFrameOutputParser\n",
        "df_query = \"storageDays의 평균값을 알고싶어.\"\n",
        "\n",
        "# 체인 실행\n",
        "parser_output = chain.invoke({\"question\": df_query})\n",
        "\n",
        "# 결과 출력\n",
        "print(parser_output)"
      ]
    },
    {
      "cell_type": "code",
      "execution_count": 19,
      "metadata": {
        "colab": {
          "base_uri": "https://localhost:8080/"
        },
        "id": "956bfe71",
        "outputId": "2b6f4418-6122-4277-8843-89f437e21287"
      },
      "outputs": [
        {
          "name": "stdout",
          "output_type": "stream",
          "text": [
            "category가 '과일'인 데이터의 갯수: 24\n"
          ]
        }
      ],
      "source": [
        "fruit_count = df[df['category'] == '과일'].shape[0]\n",
        "print(f\"category가 '과일'인 데이터의 갯수: {fruit_count}\")"
      ]
    },
    {
      "cell_type": "markdown",
      "metadata": {
        "id": "kFkTsavmQNLa"
      },
      "source": [
        "❓ 아래는 실패한 예시입니다.\n",
        "PandasDataFrameOutputParser의 query 문법이 별도로 있는건지,\n",
        "혹은 대응할 수 있는 query의 종류가 적은건지 좀 궁금합니다."
      ]
    },
    {
      "cell_type": "code",
      "execution_count": 21,
      "metadata": {
        "colab": {
          "base_uri": "https://localhost:8080/",
          "height": 373
        },
        "id": "goYLvtYSNB_G",
        "outputId": "52f74b23-2225-4950-c842-94d1920260ed"
      },
      "outputs": [
        {
          "ename": "OutputParserException",
          "evalue": "Invalid operation: shape is not a valid Pandas DataFrame operation in this context.. Please check the format instructions.\nFor troubleshooting, visit: https://python.langchain.com/docs/troubleshooting/errors/OUTPUT_PARSING_FAILURE ",
          "output_type": "error",
          "traceback": [
            "\u001b[31m---------------------------------------------------------------------------\u001b[39m",
            "\u001b[31mOutputParserException\u001b[39m                     Traceback (most recent call last)",
            "\u001b[36mCell\u001b[39m\u001b[36m \u001b[39m\u001b[32mIn[21]\u001b[39m\u001b[32m, line 2\u001b[39m\n\u001b[32m      1\u001b[39m df_query = \u001b[33m\"\u001b[39m\u001b[33mdf[df[\u001b[39m\u001b[33m'\u001b[39m\u001b[33mcategory\u001b[39m\u001b[33m'\u001b[39m\u001b[33m]==\u001b[39m\u001b[33m'\u001b[39m\u001b[33m과일\u001b[39m\u001b[33m'\u001b[39m\u001b[33m].shape[0]\u001b[39m\u001b[33m\"\u001b[39m\n\u001b[32m----> \u001b[39m\u001b[32m2\u001b[39m parser_output = \u001b[43mchain\u001b[49m\u001b[43m.\u001b[49m\u001b[43minvoke\u001b[49m\u001b[43m(\u001b[49m\u001b[43m{\u001b[49m\u001b[33;43m\"\u001b[39;49m\u001b[33;43mquestion\u001b[39;49m\u001b[33;43m\"\u001b[39;49m\u001b[43m:\u001b[49m\u001b[43m \u001b[49m\u001b[43mdf_query\u001b[49m\u001b[43m}\u001b[49m\u001b[43m)\u001b[49m\n\u001b[32m      3\u001b[39m \u001b[38;5;28mprint\u001b[39m(parser_output)\n",
            "\u001b[36mFile \u001b[39m\u001b[32mc:\\Users\\park0\\AppData\\Local\\pypoetry\\Cache\\virtualenvs\\langchain-kr-hTuzgesB-py3.11\\Lib\\site-packages\\langchain_core\\runnables\\base.py:3049\u001b[39m, in \u001b[36mRunnableSequence.invoke\u001b[39m\u001b[34m(self, input, config, **kwargs)\u001b[39m\n\u001b[32m   3047\u001b[39m                 input_ = context.run(step.invoke, input_, config, **kwargs)\n\u001b[32m   3048\u001b[39m             \u001b[38;5;28;01melse\u001b[39;00m:\n\u001b[32m-> \u001b[39m\u001b[32m3049\u001b[39m                 input_ = context.run(step.invoke, input_, config)\n\u001b[32m   3050\u001b[39m \u001b[38;5;66;03m# finish the root run\u001b[39;00m\n\u001b[32m   3051\u001b[39m \u001b[38;5;28;01mexcept\u001b[39;00m \u001b[38;5;167;01mBaseException\u001b[39;00m \u001b[38;5;28;01mas\u001b[39;00m e:\n",
            "\u001b[36mFile \u001b[39m\u001b[32mc:\\Users\\park0\\AppData\\Local\\pypoetry\\Cache\\virtualenvs\\langchain-kr-hTuzgesB-py3.11\\Lib\\site-packages\\langchain_core\\output_parsers\\base.py:197\u001b[39m, in \u001b[36mBaseOutputParser.invoke\u001b[39m\u001b[34m(self, input, config, **kwargs)\u001b[39m\n\u001b[32m    189\u001b[39m \u001b[38;5;129m@override\u001b[39m\n\u001b[32m    190\u001b[39m \u001b[38;5;28;01mdef\u001b[39;00m\u001b[38;5;250m \u001b[39m\u001b[34minvoke\u001b[39m(\n\u001b[32m    191\u001b[39m     \u001b[38;5;28mself\u001b[39m,\n\u001b[32m   (...)\u001b[39m\u001b[32m    194\u001b[39m     **kwargs: Any,\n\u001b[32m    195\u001b[39m ) -> T:\n\u001b[32m    196\u001b[39m     \u001b[38;5;28;01mif\u001b[39;00m \u001b[38;5;28misinstance\u001b[39m(\u001b[38;5;28minput\u001b[39m, BaseMessage):\n\u001b[32m--> \u001b[39m\u001b[32m197\u001b[39m         \u001b[38;5;28;01mreturn\u001b[39;00m \u001b[38;5;28;43mself\u001b[39;49m\u001b[43m.\u001b[49m\u001b[43m_call_with_config\u001b[49m\u001b[43m(\u001b[49m\n\u001b[32m    198\u001b[39m \u001b[43m            \u001b[49m\u001b[38;5;28;43;01mlambda\u001b[39;49;00m\u001b[43m \u001b[49m\u001b[43minner_input\u001b[49m\u001b[43m:\u001b[49m\u001b[43m \u001b[49m\u001b[38;5;28;43mself\u001b[39;49m\u001b[43m.\u001b[49m\u001b[43mparse_result\u001b[49m\u001b[43m(\u001b[49m\n\u001b[32m    199\u001b[39m \u001b[43m                \u001b[49m\u001b[43m[\u001b[49m\u001b[43mChatGeneration\u001b[49m\u001b[43m(\u001b[49m\u001b[43mmessage\u001b[49m\u001b[43m=\u001b[49m\u001b[43minner_input\u001b[49m\u001b[43m)\u001b[49m\u001b[43m]\u001b[49m\n\u001b[32m    200\u001b[39m \u001b[43m            \u001b[49m\u001b[43m)\u001b[49m\u001b[43m,\u001b[49m\n\u001b[32m    201\u001b[39m \u001b[43m            \u001b[49m\u001b[38;5;28;43minput\u001b[39;49m\u001b[43m,\u001b[49m\n\u001b[32m    202\u001b[39m \u001b[43m            \u001b[49m\u001b[43mconfig\u001b[49m\u001b[43m,\u001b[49m\n\u001b[32m    203\u001b[39m \u001b[43m            \u001b[49m\u001b[43mrun_type\u001b[49m\u001b[43m=\u001b[49m\u001b[33;43m\"\u001b[39;49m\u001b[33;43mparser\u001b[39;49m\u001b[33;43m\"\u001b[39;49m\u001b[43m,\u001b[49m\n\u001b[32m    204\u001b[39m \u001b[43m        \u001b[49m\u001b[43m)\u001b[49m\n\u001b[32m    205\u001b[39m     \u001b[38;5;28;01mreturn\u001b[39;00m \u001b[38;5;28mself\u001b[39m._call_with_config(\n\u001b[32m    206\u001b[39m         \u001b[38;5;28;01mlambda\u001b[39;00m inner_input: \u001b[38;5;28mself\u001b[39m.parse_result([Generation(text=inner_input)]),\n\u001b[32m    207\u001b[39m         \u001b[38;5;28minput\u001b[39m,\n\u001b[32m    208\u001b[39m         config,\n\u001b[32m    209\u001b[39m         run_type=\u001b[33m\"\u001b[39m\u001b[33mparser\u001b[39m\u001b[33m\"\u001b[39m,\n\u001b[32m    210\u001b[39m     )\n",
            "\u001b[36mFile \u001b[39m\u001b[32mc:\\Users\\park0\\AppData\\Local\\pypoetry\\Cache\\virtualenvs\\langchain-kr-hTuzgesB-py3.11\\Lib\\site-packages\\langchain_core\\runnables\\base.py:1938\u001b[39m, in \u001b[36mRunnable._call_with_config\u001b[39m\u001b[34m(self, func, input_, config, run_type, serialized, **kwargs)\u001b[39m\n\u001b[32m   1934\u001b[39m     child_config = patch_config(config, callbacks=run_manager.get_child())\n\u001b[32m   1935\u001b[39m     \u001b[38;5;28;01mwith\u001b[39;00m set_config_context(child_config) \u001b[38;5;28;01mas\u001b[39;00m context:\n\u001b[32m   1936\u001b[39m         output = cast(\n\u001b[32m   1937\u001b[39m             \u001b[33m\"\u001b[39m\u001b[33mOutput\u001b[39m\u001b[33m\"\u001b[39m,\n\u001b[32m-> \u001b[39m\u001b[32m1938\u001b[39m             \u001b[43mcontext\u001b[49m\u001b[43m.\u001b[49m\u001b[43mrun\u001b[49m\u001b[43m(\u001b[49m\n\u001b[32m   1939\u001b[39m \u001b[43m                \u001b[49m\u001b[43mcall_func_with_variable_args\u001b[49m\u001b[43m,\u001b[49m\u001b[43m  \u001b[49m\u001b[38;5;66;43;03m# type: ignore[arg-type]\u001b[39;49;00m\n\u001b[32m   1940\u001b[39m \u001b[43m                \u001b[49m\u001b[43mfunc\u001b[49m\u001b[43m,\u001b[49m\n\u001b[32m   1941\u001b[39m \u001b[43m                \u001b[49m\u001b[43minput_\u001b[49m\u001b[43m,\u001b[49m\n\u001b[32m   1942\u001b[39m \u001b[43m                \u001b[49m\u001b[43mconfig\u001b[49m\u001b[43m,\u001b[49m\n\u001b[32m   1943\u001b[39m \u001b[43m                \u001b[49m\u001b[43mrun_manager\u001b[49m\u001b[43m,\u001b[49m\n\u001b[32m   1944\u001b[39m \u001b[43m                \u001b[49m\u001b[43m*\u001b[49m\u001b[43m*\u001b[49m\u001b[43mkwargs\u001b[49m\u001b[43m,\u001b[49m\n\u001b[32m   1945\u001b[39m \u001b[43m            \u001b[49m\u001b[43m)\u001b[49m,\n\u001b[32m   1946\u001b[39m         )\n\u001b[32m   1947\u001b[39m \u001b[38;5;28;01mexcept\u001b[39;00m \u001b[38;5;167;01mBaseException\u001b[39;00m \u001b[38;5;28;01mas\u001b[39;00m e:\n\u001b[32m   1948\u001b[39m     run_manager.on_chain_error(e)\n",
            "\u001b[36mFile \u001b[39m\u001b[32mc:\\Users\\park0\\AppData\\Local\\pypoetry\\Cache\\virtualenvs\\langchain-kr-hTuzgesB-py3.11\\Lib\\site-packages\\langchain_core\\runnables\\config.py:429\u001b[39m, in \u001b[36mcall_func_with_variable_args\u001b[39m\u001b[34m(func, input, config, run_manager, **kwargs)\u001b[39m\n\u001b[32m    427\u001b[39m \u001b[38;5;28;01mif\u001b[39;00m run_manager \u001b[38;5;129;01mis\u001b[39;00m \u001b[38;5;129;01mnot\u001b[39;00m \u001b[38;5;28;01mNone\u001b[39;00m \u001b[38;5;129;01mand\u001b[39;00m accepts_run_manager(func):\n\u001b[32m    428\u001b[39m     kwargs[\u001b[33m\"\u001b[39m\u001b[33mrun_manager\u001b[39m\u001b[33m\"\u001b[39m] = run_manager\n\u001b[32m--> \u001b[39m\u001b[32m429\u001b[39m \u001b[38;5;28;01mreturn\u001b[39;00m \u001b[43mfunc\u001b[49m\u001b[43m(\u001b[49m\u001b[38;5;28;43minput\u001b[39;49m\u001b[43m,\u001b[49m\u001b[43m \u001b[49m\u001b[43m*\u001b[49m\u001b[43m*\u001b[49m\u001b[43mkwargs\u001b[49m\u001b[43m)\u001b[49m\n",
            "\u001b[36mFile \u001b[39m\u001b[32mc:\\Users\\park0\\AppData\\Local\\pypoetry\\Cache\\virtualenvs\\langchain-kr-hTuzgesB-py3.11\\Lib\\site-packages\\langchain_core\\output_parsers\\base.py:198\u001b[39m, in \u001b[36mBaseOutputParser.invoke.<locals>.<lambda>\u001b[39m\u001b[34m(inner_input)\u001b[39m\n\u001b[32m    189\u001b[39m \u001b[38;5;129m@override\u001b[39m\n\u001b[32m    190\u001b[39m \u001b[38;5;28;01mdef\u001b[39;00m\u001b[38;5;250m \u001b[39m\u001b[34minvoke\u001b[39m(\n\u001b[32m    191\u001b[39m     \u001b[38;5;28mself\u001b[39m,\n\u001b[32m   (...)\u001b[39m\u001b[32m    194\u001b[39m     **kwargs: Any,\n\u001b[32m    195\u001b[39m ) -> T:\n\u001b[32m    196\u001b[39m     \u001b[38;5;28;01mif\u001b[39;00m \u001b[38;5;28misinstance\u001b[39m(\u001b[38;5;28minput\u001b[39m, BaseMessage):\n\u001b[32m    197\u001b[39m         \u001b[38;5;28;01mreturn\u001b[39;00m \u001b[38;5;28mself\u001b[39m._call_with_config(\n\u001b[32m--> \u001b[39m\u001b[32m198\u001b[39m             \u001b[38;5;28;01mlambda\u001b[39;00m inner_input: \u001b[38;5;28;43mself\u001b[39;49m\u001b[43m.\u001b[49m\u001b[43mparse_result\u001b[49m\u001b[43m(\u001b[49m\n\u001b[32m    199\u001b[39m \u001b[43m                \u001b[49m\u001b[43m[\u001b[49m\u001b[43mChatGeneration\u001b[49m\u001b[43m(\u001b[49m\u001b[43mmessage\u001b[49m\u001b[43m=\u001b[49m\u001b[43minner_input\u001b[49m\u001b[43m)\u001b[49m\u001b[43m]\u001b[49m\n\u001b[32m    200\u001b[39m \u001b[43m            \u001b[49m\u001b[43m)\u001b[49m,\n\u001b[32m    201\u001b[39m             \u001b[38;5;28minput\u001b[39m,\n\u001b[32m    202\u001b[39m             config,\n\u001b[32m    203\u001b[39m             run_type=\u001b[33m\"\u001b[39m\u001b[33mparser\u001b[39m\u001b[33m\"\u001b[39m,\n\u001b[32m    204\u001b[39m         )\n\u001b[32m    205\u001b[39m     \u001b[38;5;28;01mreturn\u001b[39;00m \u001b[38;5;28mself\u001b[39m._call_with_config(\n\u001b[32m    206\u001b[39m         \u001b[38;5;28;01mlambda\u001b[39;00m inner_input: \u001b[38;5;28mself\u001b[39m.parse_result([Generation(text=inner_input)]),\n\u001b[32m    207\u001b[39m         \u001b[38;5;28minput\u001b[39m,\n\u001b[32m    208\u001b[39m         config,\n\u001b[32m    209\u001b[39m         run_type=\u001b[33m\"\u001b[39m\u001b[33mparser\u001b[39m\u001b[33m\"\u001b[39m,\n\u001b[32m    210\u001b[39m     )\n",
            "\u001b[36mFile \u001b[39m\u001b[32mc:\\Users\\park0\\AppData\\Local\\pypoetry\\Cache\\virtualenvs\\langchain-kr-hTuzgesB-py3.11\\Lib\\site-packages\\langchain_core\\output_parsers\\base.py:251\u001b[39m, in \u001b[36mBaseOutputParser.parse_result\u001b[39m\u001b[34m(self, result, partial)\u001b[39m\n\u001b[32m    235\u001b[39m \u001b[38;5;129m@override\u001b[39m\n\u001b[32m    236\u001b[39m \u001b[38;5;28;01mdef\u001b[39;00m\u001b[38;5;250m \u001b[39m\u001b[34mparse_result\u001b[39m(\u001b[38;5;28mself\u001b[39m, result: \u001b[38;5;28mlist\u001b[39m[Generation], *, partial: \u001b[38;5;28mbool\u001b[39m = \u001b[38;5;28;01mFalse\u001b[39;00m) -> T:\n\u001b[32m    237\u001b[39m \u001b[38;5;250m    \u001b[39m\u001b[33;03m\"\"\"Parse a list of candidate model Generations into a specific format.\u001b[39;00m\n\u001b[32m    238\u001b[39m \n\u001b[32m    239\u001b[39m \u001b[33;03m    The return value is parsed from only the first Generation in the result, which\u001b[39;00m\n\u001b[32m   (...)\u001b[39m\u001b[32m    249\u001b[39m \u001b[33;03m        Structured output.\u001b[39;00m\n\u001b[32m    250\u001b[39m \u001b[33;03m    \"\"\"\u001b[39;00m\n\u001b[32m--> \u001b[39m\u001b[32m251\u001b[39m     \u001b[38;5;28;01mreturn\u001b[39;00m \u001b[38;5;28;43mself\u001b[39;49m\u001b[43m.\u001b[49m\u001b[43mparse\u001b[49m\u001b[43m(\u001b[49m\u001b[43mresult\u001b[49m\u001b[43m[\u001b[49m\u001b[32;43m0\u001b[39;49m\u001b[43m]\u001b[49m\u001b[43m.\u001b[49m\u001b[43mtext\u001b[49m\u001b[43m)\u001b[49m\n",
            "\u001b[36mFile \u001b[39m\u001b[32mc:\\Users\\park0\\AppData\\Local\\pypoetry\\Cache\\virtualenvs\\langchain-kr-hTuzgesB-py3.11\\Lib\\site-packages\\langchain\\output_parsers\\pandas_dataframe.py:91\u001b[39m, in \u001b[36mPandasDataFrameOutputParser.parse\u001b[39m\u001b[34m(self, request)\u001b[39m\n\u001b[32m     89\u001b[39m \u001b[38;5;28;01mif\u001b[39;00m request_type \u001b[38;5;129;01min\u001b[39;00m {\u001b[33m\"\u001b[39m\u001b[33mInvalid column\u001b[39m\u001b[33m\"\u001b[39m, \u001b[33m\"\u001b[39m\u001b[33mInvalid operation\u001b[39m\u001b[33m\"\u001b[39m}:\n\u001b[32m     90\u001b[39m     msg = \u001b[33mf\u001b[39m\u001b[33m\"\u001b[39m\u001b[38;5;132;01m{\u001b[39;00mrequest\u001b[38;5;132;01m}\u001b[39;00m\u001b[33m. Please check the format instructions.\u001b[39m\u001b[33m\"\u001b[39m\n\u001b[32m---> \u001b[39m\u001b[32m91\u001b[39m     \u001b[38;5;28;01mraise\u001b[39;00m OutputParserException(msg)\n\u001b[32m     92\u001b[39m array_exists = re.search(\u001b[33mr\u001b[39m\u001b[33m\"\u001b[39m\u001b[33m(\u001b[39m\u001b[33m\\\u001b[39m\u001b[33m[.*?\u001b[39m\u001b[33m\\\u001b[39m\u001b[33m])\u001b[39m\u001b[33m\"\u001b[39m, request_params)\n\u001b[32m     93\u001b[39m \u001b[38;5;28;01mif\u001b[39;00m array_exists:\n",
            "\u001b[31mOutputParserException\u001b[39m: Invalid operation: shape is not a valid Pandas DataFrame operation in this context.. Please check the format instructions.\nFor troubleshooting, visit: https://python.langchain.com/docs/troubleshooting/errors/OUTPUT_PARSING_FAILURE "
          ]
        }
      ],
      "source": [
        "df_query = \"df[df['category']=='과일'].shape[0]\"\n",
        "parser_output = chain.invoke({\"question\": df_query})\n",
        "print(parser_output)"
      ]
    },
    {
      "cell_type": "code",
      "execution_count": null,
      "metadata": {
        "colab": {
          "base_uri": "https://localhost:8080/",
          "height": 373
        },
        "id": "QxwAHYJxP3nZ",
        "outputId": "fae4f0d6-a7df-4f35-9274-0f008a7a95f1"
      },
      "outputs": [
        {
          "ename": "OutputParserException",
          "evalue": "Invalid array format in 'storageMethod[name=='고구마']'.                     Please check the format instructions.\nFor troubleshooting, visit: https://python.langchain.com/docs/troubleshooting/errors/OUTPUT_PARSING_FAILURE ",
          "output_type": "error",
          "traceback": [
            "\u001b[0;31m---------------------------------------------------------------------------\u001b[0m",
            "\u001b[0;31mOutputParserException\u001b[0m                     Traceback (most recent call last)",
            "\u001b[0;32m/tmp/ipython-input-3085688803.py\u001b[0m in \u001b[0;36m<cell line: 0>\u001b[0;34m()\u001b[0m\n\u001b[1;32m      3\u001b[0m \u001b[0;34m\u001b[0m\u001b[0m\n\u001b[1;32m      4\u001b[0m \u001b[0;31m# 체인 실행\u001b[0m\u001b[0;34m\u001b[0m\u001b[0;34m\u001b[0m\u001b[0m\n\u001b[0;32m----> 5\u001b[0;31m \u001b[0mparser_output\u001b[0m \u001b[0;34m=\u001b[0m \u001b[0mchain\u001b[0m\u001b[0;34m.\u001b[0m\u001b[0minvoke\u001b[0m\u001b[0;34m(\u001b[0m\u001b[0;34m{\u001b[0m\u001b[0;34m\"question\"\u001b[0m\u001b[0;34m:\u001b[0m \u001b[0mdf_query\u001b[0m\u001b[0;34m}\u001b[0m\u001b[0;34m)\u001b[0m\u001b[0;34m\u001b[0m\u001b[0;34m\u001b[0m\u001b[0m\n\u001b[0m\u001b[1;32m      6\u001b[0m \u001b[0;34m\u001b[0m\u001b[0m\n\u001b[1;32m      7\u001b[0m \u001b[0;31m# 결과 출력\u001b[0m\u001b[0;34m\u001b[0m\u001b[0;34m\u001b[0m\u001b[0m\n",
            "\u001b[0;32m/usr/local/lib/python3.11/dist-packages/langchain_core/runnables/base.py\u001b[0m in \u001b[0;36minvoke\u001b[0;34m(self, input, config, **kwargs)\u001b[0m\n\u001b[1;32m   3047\u001b[0m                         \u001b[0minput_\u001b[0m \u001b[0;34m=\u001b[0m \u001b[0mcontext\u001b[0m\u001b[0;34m.\u001b[0m\u001b[0mrun\u001b[0m\u001b[0;34m(\u001b[0m\u001b[0mstep\u001b[0m\u001b[0;34m.\u001b[0m\u001b[0minvoke\u001b[0m\u001b[0;34m,\u001b[0m \u001b[0minput_\u001b[0m\u001b[0;34m,\u001b[0m \u001b[0mconfig\u001b[0m\u001b[0;34m,\u001b[0m \u001b[0;34m**\u001b[0m\u001b[0mkwargs\u001b[0m\u001b[0;34m)\u001b[0m\u001b[0;34m\u001b[0m\u001b[0;34m\u001b[0m\u001b[0m\n\u001b[1;32m   3048\u001b[0m                     \u001b[0;32melse\u001b[0m\u001b[0;34m:\u001b[0m\u001b[0;34m\u001b[0m\u001b[0;34m\u001b[0m\u001b[0m\n\u001b[0;32m-> 3049\u001b[0;31m                         \u001b[0minput_\u001b[0m \u001b[0;34m=\u001b[0m \u001b[0mcontext\u001b[0m\u001b[0;34m.\u001b[0m\u001b[0mrun\u001b[0m\u001b[0;34m(\u001b[0m\u001b[0mstep\u001b[0m\u001b[0;34m.\u001b[0m\u001b[0minvoke\u001b[0m\u001b[0;34m,\u001b[0m \u001b[0minput_\u001b[0m\u001b[0;34m,\u001b[0m \u001b[0mconfig\u001b[0m\u001b[0;34m)\u001b[0m\u001b[0;34m\u001b[0m\u001b[0;34m\u001b[0m\u001b[0m\n\u001b[0m\u001b[1;32m   3050\u001b[0m         \u001b[0;31m# finish the root run\u001b[0m\u001b[0;34m\u001b[0m\u001b[0;34m\u001b[0m\u001b[0m\n\u001b[1;32m   3051\u001b[0m         \u001b[0;32mexcept\u001b[0m \u001b[0mBaseException\u001b[0m \u001b[0;32mas\u001b[0m \u001b[0me\u001b[0m\u001b[0;34m:\u001b[0m\u001b[0;34m\u001b[0m\u001b[0;34m\u001b[0m\u001b[0m\n",
            "\u001b[0;32m/usr/local/lib/python3.11/dist-packages/langchain_core/output_parsers/base.py\u001b[0m in \u001b[0;36minvoke\u001b[0;34m(self, input, config, **kwargs)\u001b[0m\n\u001b[1;32m    195\u001b[0m     ) -> T:\n\u001b[1;32m    196\u001b[0m         \u001b[0;32mif\u001b[0m \u001b[0misinstance\u001b[0m\u001b[0;34m(\u001b[0m\u001b[0minput\u001b[0m\u001b[0;34m,\u001b[0m \u001b[0mBaseMessage\u001b[0m\u001b[0;34m)\u001b[0m\u001b[0;34m:\u001b[0m\u001b[0;34m\u001b[0m\u001b[0;34m\u001b[0m\u001b[0m\n\u001b[0;32m--> 197\u001b[0;31m             return self._call_with_config(\n\u001b[0m\u001b[1;32m    198\u001b[0m                 lambda inner_input: self.parse_result(\n\u001b[1;32m    199\u001b[0m                     \u001b[0;34m[\u001b[0m\u001b[0mChatGeneration\u001b[0m\u001b[0;34m(\u001b[0m\u001b[0mmessage\u001b[0m\u001b[0;34m=\u001b[0m\u001b[0minner_input\u001b[0m\u001b[0;34m)\u001b[0m\u001b[0;34m]\u001b[0m\u001b[0;34m\u001b[0m\u001b[0;34m\u001b[0m\u001b[0m\n",
            "\u001b[0;32m/usr/local/lib/python3.11/dist-packages/langchain_core/runnables/base.py\u001b[0m in \u001b[0;36m_call_with_config\u001b[0;34m(self, func, input_, config, run_type, serialized, **kwargs)\u001b[0m\n\u001b[1;32m   1936\u001b[0m                 output = cast(\n\u001b[1;32m   1937\u001b[0m                     \u001b[0;34m\"Output\"\u001b[0m\u001b[0;34m,\u001b[0m\u001b[0;34m\u001b[0m\u001b[0;34m\u001b[0m\u001b[0m\n\u001b[0;32m-> 1938\u001b[0;31m                     context.run(\n\u001b[0m\u001b[1;32m   1939\u001b[0m                         \u001b[0mcall_func_with_variable_args\u001b[0m\u001b[0;34m,\u001b[0m  \u001b[0;31m# type: ignore[arg-type]\u001b[0m\u001b[0;34m\u001b[0m\u001b[0;34m\u001b[0m\u001b[0m\n\u001b[1;32m   1940\u001b[0m                         \u001b[0mfunc\u001b[0m\u001b[0;34m,\u001b[0m\u001b[0;34m\u001b[0m\u001b[0;34m\u001b[0m\u001b[0m\n",
            "\u001b[0;32m/usr/local/lib/python3.11/dist-packages/langchain_core/runnables/config.py\u001b[0m in \u001b[0;36mcall_func_with_variable_args\u001b[0;34m(func, input, config, run_manager, **kwargs)\u001b[0m\n\u001b[1;32m    427\u001b[0m     \u001b[0;32mif\u001b[0m \u001b[0mrun_manager\u001b[0m \u001b[0;32mis\u001b[0m \u001b[0;32mnot\u001b[0m \u001b[0;32mNone\u001b[0m \u001b[0;32mand\u001b[0m \u001b[0maccepts_run_manager\u001b[0m\u001b[0;34m(\u001b[0m\u001b[0mfunc\u001b[0m\u001b[0;34m)\u001b[0m\u001b[0;34m:\u001b[0m\u001b[0;34m\u001b[0m\u001b[0;34m\u001b[0m\u001b[0m\n\u001b[1;32m    428\u001b[0m         \u001b[0mkwargs\u001b[0m\u001b[0;34m[\u001b[0m\u001b[0;34m\"run_manager\"\u001b[0m\u001b[0;34m]\u001b[0m \u001b[0;34m=\u001b[0m \u001b[0mrun_manager\u001b[0m\u001b[0;34m\u001b[0m\u001b[0;34m\u001b[0m\u001b[0m\n\u001b[0;32m--> 429\u001b[0;31m     \u001b[0;32mreturn\u001b[0m \u001b[0mfunc\u001b[0m\u001b[0;34m(\u001b[0m\u001b[0minput\u001b[0m\u001b[0;34m,\u001b[0m \u001b[0;34m**\u001b[0m\u001b[0mkwargs\u001b[0m\u001b[0;34m)\u001b[0m  \u001b[0;31m# type: ignore[call-arg]\u001b[0m\u001b[0;34m\u001b[0m\u001b[0;34m\u001b[0m\u001b[0m\n\u001b[0m\u001b[1;32m    430\u001b[0m \u001b[0;34m\u001b[0m\u001b[0m\n\u001b[1;32m    431\u001b[0m \u001b[0;34m\u001b[0m\u001b[0m\n",
            "\u001b[0;32m/usr/local/lib/python3.11/dist-packages/langchain_core/output_parsers/base.py\u001b[0m in \u001b[0;36m<lambda>\u001b[0;34m(inner_input)\u001b[0m\n\u001b[1;32m    196\u001b[0m         \u001b[0;32mif\u001b[0m \u001b[0misinstance\u001b[0m\u001b[0;34m(\u001b[0m\u001b[0minput\u001b[0m\u001b[0;34m,\u001b[0m \u001b[0mBaseMessage\u001b[0m\u001b[0;34m)\u001b[0m\u001b[0;34m:\u001b[0m\u001b[0;34m\u001b[0m\u001b[0;34m\u001b[0m\u001b[0m\n\u001b[1;32m    197\u001b[0m             return self._call_with_config(\n\u001b[0;32m--> 198\u001b[0;31m                 lambda inner_input: self.parse_result(\n\u001b[0m\u001b[1;32m    199\u001b[0m                     \u001b[0;34m[\u001b[0m\u001b[0mChatGeneration\u001b[0m\u001b[0;34m(\u001b[0m\u001b[0mmessage\u001b[0m\u001b[0;34m=\u001b[0m\u001b[0minner_input\u001b[0m\u001b[0;34m)\u001b[0m\u001b[0;34m]\u001b[0m\u001b[0;34m\u001b[0m\u001b[0;34m\u001b[0m\u001b[0m\n\u001b[1;32m    200\u001b[0m                 ),\n",
            "\u001b[0;32m/usr/local/lib/python3.11/dist-packages/langchain_core/output_parsers/base.py\u001b[0m in \u001b[0;36mparse_result\u001b[0;34m(self, result, partial)\u001b[0m\n\u001b[1;32m    249\u001b[0m             \u001b[0mStructured\u001b[0m \u001b[0moutput\u001b[0m\u001b[0;34m.\u001b[0m\u001b[0;34m\u001b[0m\u001b[0;34m\u001b[0m\u001b[0m\n\u001b[1;32m    250\u001b[0m         \"\"\"\n\u001b[0;32m--> 251\u001b[0;31m         \u001b[0;32mreturn\u001b[0m \u001b[0mself\u001b[0m\u001b[0;34m.\u001b[0m\u001b[0mparse\u001b[0m\u001b[0;34m(\u001b[0m\u001b[0mresult\u001b[0m\u001b[0;34m[\u001b[0m\u001b[0;36m0\u001b[0m\u001b[0;34m]\u001b[0m\u001b[0;34m.\u001b[0m\u001b[0mtext\u001b[0m\u001b[0;34m)\u001b[0m\u001b[0;34m\u001b[0m\u001b[0;34m\u001b[0m\u001b[0m\n\u001b[0m\u001b[1;32m    252\u001b[0m \u001b[0;34m\u001b[0m\u001b[0m\n\u001b[1;32m    253\u001b[0m     \u001b[0;34m@\u001b[0m\u001b[0mabstractmethod\u001b[0m\u001b[0;34m\u001b[0m\u001b[0;34m\u001b[0m\u001b[0m\n",
            "\u001b[0;32m/usr/local/lib/python3.11/dist-packages/langchain/output_parsers/pandas_dataframe.py\u001b[0m in \u001b[0;36mparse\u001b[0;34m(self, request)\u001b[0m\n\u001b[1;32m     92\u001b[0m             \u001b[0marray_exists\u001b[0m \u001b[0;34m=\u001b[0m \u001b[0mre\u001b[0m\u001b[0;34m.\u001b[0m\u001b[0msearch\u001b[0m\u001b[0;34m(\u001b[0m\u001b[0;34mr\"(\\[.*?\\])\"\u001b[0m\u001b[0;34m,\u001b[0m \u001b[0mrequest_params\u001b[0m\u001b[0;34m)\u001b[0m\u001b[0;34m\u001b[0m\u001b[0;34m\u001b[0m\u001b[0m\n\u001b[1;32m     93\u001b[0m             \u001b[0;32mif\u001b[0m \u001b[0marray_exists\u001b[0m\u001b[0;34m:\u001b[0m\u001b[0;34m\u001b[0m\u001b[0;34m\u001b[0m\u001b[0m\n\u001b[0;32m---> 94\u001b[0;31m                 parsed_array, stripped_request_params = self.parse_array(\n\u001b[0m\u001b[1;32m     95\u001b[0m                     \u001b[0marray_exists\u001b[0m\u001b[0;34m.\u001b[0m\u001b[0mgroup\u001b[0m\u001b[0;34m(\u001b[0m\u001b[0;36m1\u001b[0m\u001b[0;34m)\u001b[0m\u001b[0;34m,\u001b[0m\u001b[0;34m\u001b[0m\u001b[0;34m\u001b[0m\u001b[0m\n\u001b[1;32m     96\u001b[0m                     \u001b[0mrequest_params\u001b[0m\u001b[0;34m,\u001b[0m\u001b[0;34m\u001b[0m\u001b[0;34m\u001b[0m\u001b[0m\n",
            "\u001b[0;32m/usr/local/lib/python3.11/dist-packages/langchain/output_parsers/pandas_dataframe.py\u001b[0m in \u001b[0;36mparse_array\u001b[0;34m(self, array, original_request_params)\u001b[0m\n\u001b[1;32m     66\u001b[0m             \u001b[0mmsg\u001b[0m \u001b[0;34m=\u001b[0m \u001b[0mf\u001b[0m\u001b[0;31m\"\u001b[0m\u001b[0mInvalid\u001b[0m \u001b[0marray\u001b[0m \u001b[0mformat\u001b[0m \u001b[0;32min\u001b[0m \u001b[0;34m'{original_request_params}'\u001b[0m\u001b[0;34m.\u001b[0m\u001b[0;31m \u001b[0m\u001b[0;31m\\\u001b[0m\u001b[0;34m\u001b[0m\u001b[0;34m\u001b[0m\u001b[0m\n\u001b[1;32m     67\u001b[0m                     \u001b[0mPlease\u001b[0m \u001b[0mcheck\u001b[0m \u001b[0mthe\u001b[0m \u001b[0mformat\u001b[0m \u001b[0minstructions\u001b[0m\u001b[0;34m.\u001b[0m\u001b[0;31m\"\u001b[0m\u001b[0;34m\u001b[0m\u001b[0;34m\u001b[0m\u001b[0m\n\u001b[0;32m---> 68\u001b[0;31m             \u001b[0;32mraise\u001b[0m \u001b[0mOutputParserException\u001b[0m\u001b[0;34m(\u001b[0m\u001b[0mmsg\u001b[0m\u001b[0;34m)\u001b[0m\u001b[0;34m\u001b[0m\u001b[0;34m\u001b[0m\u001b[0m\n\u001b[0m\u001b[1;32m     69\u001b[0m         if (\n\u001b[1;32m     70\u001b[0m             \u001b[0misinstance\u001b[0m\u001b[0;34m(\u001b[0m\u001b[0mparsed_array\u001b[0m\u001b[0;34m[\u001b[0m\u001b[0;36m0\u001b[0m\u001b[0;34m]\u001b[0m\u001b[0;34m,\u001b[0m \u001b[0mint\u001b[0m\u001b[0;34m)\u001b[0m\u001b[0;34m\u001b[0m\u001b[0;34m\u001b[0m\u001b[0m\n",
            "\u001b[0;31mOutputParserException\u001b[0m: Invalid array format in 'storageMethod[name=='고구마']'.                     Please check the format instructions.\nFor troubleshooting, visit: https://python.langchain.com/docs/troubleshooting/errors/OUTPUT_PARSING_FAILURE "
          ]
        }
      ],
      "source": [
        "# The user query needs to be in the format expected by the PandasDataFrameOutputParser\n",
        "df_query = \"name이 고구마인 데이터의 storageMethod컬럼을 조회해 주세요.\"\n",
        "\n",
        "# 체인 실행\n",
        "parser_output = chain.invoke({\"question\": df_query})\n",
        "\n",
        "# 결과 출력\n",
        "print(parser_output)"
      ]
    },
    {
      "cell_type": "code",
      "execution_count": null,
      "metadata": {
        "colab": {
          "base_uri": "https://localhost:8080/",
          "height": 651
        },
        "id": "lPikYQDUQvqe",
        "outputId": "112e79d7-0983-471a-a541-22d3bd986f6b"
      },
      "outputs": [
        {
          "ename": "OutputParserException",
          "evalue": "Requested index name,storageDesc is out of bounds.\nFor troubleshooting, visit: https://python.langchain.com/docs/troubleshooting/errors/OUTPUT_PARSING_FAILURE ",
          "output_type": "error",
          "traceback": [
            "\u001b[0;31m---------------------------------------------------------------------------\u001b[0m",
            "\u001b[0;31mKeyError\u001b[0m                                  Traceback (most recent call last)",
            "\u001b[0;32m/usr/local/lib/python3.11/dist-packages/pandas/core/indexes/base.py\u001b[0m in \u001b[0;36mget_loc\u001b[0;34m(self, key)\u001b[0m\n\u001b[1;32m   3811\u001b[0m         \u001b[0;32mtry\u001b[0m\u001b[0;34m:\u001b[0m\u001b[0;34m\u001b[0m\u001b[0;34m\u001b[0m\u001b[0m\n\u001b[0;32m-> 3812\u001b[0;31m             \u001b[0;32mreturn\u001b[0m \u001b[0mself\u001b[0m\u001b[0;34m.\u001b[0m\u001b[0m_engine\u001b[0m\u001b[0;34m.\u001b[0m\u001b[0mget_loc\u001b[0m\u001b[0;34m(\u001b[0m\u001b[0mcasted_key\u001b[0m\u001b[0;34m)\u001b[0m\u001b[0;34m\u001b[0m\u001b[0;34m\u001b[0m\u001b[0m\n\u001b[0m\u001b[1;32m   3813\u001b[0m         \u001b[0;32mexcept\u001b[0m \u001b[0mKeyError\u001b[0m \u001b[0;32mas\u001b[0m \u001b[0merr\u001b[0m\u001b[0;34m:\u001b[0m\u001b[0;34m\u001b[0m\u001b[0;34m\u001b[0m\u001b[0m\n",
            "\u001b[0;32mpandas/_libs/index.pyx\u001b[0m in \u001b[0;36mpandas._libs.index.IndexEngine.get_loc\u001b[0;34m()\u001b[0m\n",
            "\u001b[0;32mpandas/_libs/index.pyx\u001b[0m in \u001b[0;36mpandas._libs.index.IndexEngine.get_loc\u001b[0;34m()\u001b[0m\n",
            "\u001b[0;32mpandas/_libs/hashtable_class_helper.pxi\u001b[0m in \u001b[0;36mpandas._libs.hashtable.PyObjectHashTable.get_item\u001b[0;34m()\u001b[0m\n",
            "\u001b[0;32mpandas/_libs/hashtable_class_helper.pxi\u001b[0m in \u001b[0;36mpandas._libs.hashtable.PyObjectHashTable.get_item\u001b[0;34m()\u001b[0m\n",
            "\u001b[0;31mKeyError\u001b[0m: 'name,storageDesc'",
            "\nThe above exception was the direct cause of the following exception:\n",
            "\u001b[0;31mKeyError\u001b[0m                                  Traceback (most recent call last)",
            "\u001b[0;32m/usr/local/lib/python3.11/dist-packages/langchain/output_parsers/pandas_dataframe.py\u001b[0m in \u001b[0;36mparse\u001b[0;34m(self, request)\u001b[0m\n\u001b[1;32m    130\u001b[0m             \u001b[0;32melif\u001b[0m \u001b[0mrequest_type\u001b[0m \u001b[0;34m==\u001b[0m \u001b[0;34m\"column\"\u001b[0m\u001b[0;34m:\u001b[0m\u001b[0;34m\u001b[0m\u001b[0;34m\u001b[0m\u001b[0m\n\u001b[0;32m--> 131\u001b[0;31m                 \u001b[0mresult\u001b[0m\u001b[0;34m[\u001b[0m\u001b[0mrequest_params\u001b[0m\u001b[0;34m]\u001b[0m \u001b[0;34m=\u001b[0m \u001b[0mself\u001b[0m\u001b[0;34m.\u001b[0m\u001b[0mdataframe\u001b[0m\u001b[0;34m[\u001b[0m\u001b[0mrequest_params\u001b[0m\u001b[0;34m]\u001b[0m\u001b[0;34m\u001b[0m\u001b[0;34m\u001b[0m\u001b[0m\n\u001b[0m\u001b[1;32m    132\u001b[0m             \u001b[0;32melif\u001b[0m \u001b[0mrequest_type\u001b[0m \u001b[0;34m==\u001b[0m \u001b[0;34m\"row\"\u001b[0m\u001b[0;34m:\u001b[0m\u001b[0;34m\u001b[0m\u001b[0;34m\u001b[0m\u001b[0m\n",
            "\u001b[0;32m/usr/local/lib/python3.11/dist-packages/pandas/core/frame.py\u001b[0m in \u001b[0;36m__getitem__\u001b[0;34m(self, key)\u001b[0m\n\u001b[1;32m   4106\u001b[0m                 \u001b[0;32mreturn\u001b[0m \u001b[0mself\u001b[0m\u001b[0;34m.\u001b[0m\u001b[0m_getitem_multilevel\u001b[0m\u001b[0;34m(\u001b[0m\u001b[0mkey\u001b[0m\u001b[0;34m)\u001b[0m\u001b[0;34m\u001b[0m\u001b[0;34m\u001b[0m\u001b[0m\n\u001b[0;32m-> 4107\u001b[0;31m             \u001b[0mindexer\u001b[0m \u001b[0;34m=\u001b[0m \u001b[0mself\u001b[0m\u001b[0;34m.\u001b[0m\u001b[0mcolumns\u001b[0m\u001b[0;34m.\u001b[0m\u001b[0mget_loc\u001b[0m\u001b[0;34m(\u001b[0m\u001b[0mkey\u001b[0m\u001b[0;34m)\u001b[0m\u001b[0;34m\u001b[0m\u001b[0;34m\u001b[0m\u001b[0m\n\u001b[0m\u001b[1;32m   4108\u001b[0m             \u001b[0;32mif\u001b[0m \u001b[0mis_integer\u001b[0m\u001b[0;34m(\u001b[0m\u001b[0mindexer\u001b[0m\u001b[0;34m)\u001b[0m\u001b[0;34m:\u001b[0m\u001b[0;34m\u001b[0m\u001b[0;34m\u001b[0m\u001b[0m\n",
            "\u001b[0;32m/usr/local/lib/python3.11/dist-packages/pandas/core/indexes/base.py\u001b[0m in \u001b[0;36mget_loc\u001b[0;34m(self, key)\u001b[0m\n\u001b[1;32m   3818\u001b[0m                 \u001b[0;32mraise\u001b[0m \u001b[0mInvalidIndexError\u001b[0m\u001b[0;34m(\u001b[0m\u001b[0mkey\u001b[0m\u001b[0;34m)\u001b[0m\u001b[0;34m\u001b[0m\u001b[0;34m\u001b[0m\u001b[0m\n\u001b[0;32m-> 3819\u001b[0;31m             \u001b[0;32mraise\u001b[0m \u001b[0mKeyError\u001b[0m\u001b[0;34m(\u001b[0m\u001b[0mkey\u001b[0m\u001b[0;34m)\u001b[0m \u001b[0;32mfrom\u001b[0m \u001b[0merr\u001b[0m\u001b[0;34m\u001b[0m\u001b[0;34m\u001b[0m\u001b[0m\n\u001b[0m\u001b[1;32m   3820\u001b[0m         \u001b[0;32mexcept\u001b[0m \u001b[0mTypeError\u001b[0m\u001b[0;34m:\u001b[0m\u001b[0;34m\u001b[0m\u001b[0;34m\u001b[0m\u001b[0m\n",
            "\u001b[0;31mKeyError\u001b[0m: 'name,storageDesc'",
            "\nThe above exception was the direct cause of the following exception:\n",
            "\u001b[0;31mOutputParserException\u001b[0m                     Traceback (most recent call last)",
            "\u001b[0;32m/tmp/ipython-input-2595435062.py\u001b[0m in \u001b[0;36m<cell line: 0>\u001b[0;34m()\u001b[0m\n\u001b[1;32m      3\u001b[0m \u001b[0;34m\u001b[0m\u001b[0m\n\u001b[1;32m      4\u001b[0m \u001b[0;31m# 체인 실행\u001b[0m\u001b[0;34m\u001b[0m\u001b[0;34m\u001b[0m\u001b[0m\n\u001b[0;32m----> 5\u001b[0;31m \u001b[0mparser_output\u001b[0m \u001b[0;34m=\u001b[0m \u001b[0mchain\u001b[0m\u001b[0;34m.\u001b[0m\u001b[0minvoke\u001b[0m\u001b[0;34m(\u001b[0m\u001b[0;34m{\u001b[0m\u001b[0;34m\"question\"\u001b[0m\u001b[0;34m:\u001b[0m \u001b[0mdf_query\u001b[0m\u001b[0;34m}\u001b[0m\u001b[0;34m)\u001b[0m\u001b[0;34m\u001b[0m\u001b[0;34m\u001b[0m\u001b[0m\n\u001b[0m\u001b[1;32m      6\u001b[0m \u001b[0;34m\u001b[0m\u001b[0m\n\u001b[1;32m      7\u001b[0m \u001b[0;31m# 결과 출력\u001b[0m\u001b[0;34m\u001b[0m\u001b[0;34m\u001b[0m\u001b[0m\n",
            "\u001b[0;32m/usr/local/lib/python3.11/dist-packages/langchain_core/runnables/base.py\u001b[0m in \u001b[0;36minvoke\u001b[0;34m(self, input, config, **kwargs)\u001b[0m\n\u001b[1;32m   3047\u001b[0m                         \u001b[0minput_\u001b[0m \u001b[0;34m=\u001b[0m \u001b[0mcontext\u001b[0m\u001b[0;34m.\u001b[0m\u001b[0mrun\u001b[0m\u001b[0;34m(\u001b[0m\u001b[0mstep\u001b[0m\u001b[0;34m.\u001b[0m\u001b[0minvoke\u001b[0m\u001b[0;34m,\u001b[0m \u001b[0minput_\u001b[0m\u001b[0;34m,\u001b[0m \u001b[0mconfig\u001b[0m\u001b[0;34m,\u001b[0m \u001b[0;34m**\u001b[0m\u001b[0mkwargs\u001b[0m\u001b[0;34m)\u001b[0m\u001b[0;34m\u001b[0m\u001b[0;34m\u001b[0m\u001b[0m\n\u001b[1;32m   3048\u001b[0m                     \u001b[0;32melse\u001b[0m\u001b[0;34m:\u001b[0m\u001b[0;34m\u001b[0m\u001b[0;34m\u001b[0m\u001b[0m\n\u001b[0;32m-> 3049\u001b[0;31m                         \u001b[0minput_\u001b[0m \u001b[0;34m=\u001b[0m \u001b[0mcontext\u001b[0m\u001b[0;34m.\u001b[0m\u001b[0mrun\u001b[0m\u001b[0;34m(\u001b[0m\u001b[0mstep\u001b[0m\u001b[0;34m.\u001b[0m\u001b[0minvoke\u001b[0m\u001b[0;34m,\u001b[0m \u001b[0minput_\u001b[0m\u001b[0;34m,\u001b[0m \u001b[0mconfig\u001b[0m\u001b[0;34m)\u001b[0m\u001b[0;34m\u001b[0m\u001b[0;34m\u001b[0m\u001b[0m\n\u001b[0m\u001b[1;32m   3050\u001b[0m         \u001b[0;31m# finish the root run\u001b[0m\u001b[0;34m\u001b[0m\u001b[0;34m\u001b[0m\u001b[0m\n\u001b[1;32m   3051\u001b[0m         \u001b[0;32mexcept\u001b[0m \u001b[0mBaseException\u001b[0m \u001b[0;32mas\u001b[0m \u001b[0me\u001b[0m\u001b[0;34m:\u001b[0m\u001b[0;34m\u001b[0m\u001b[0;34m\u001b[0m\u001b[0m\n",
            "\u001b[0;32m/usr/local/lib/python3.11/dist-packages/langchain_core/output_parsers/base.py\u001b[0m in \u001b[0;36minvoke\u001b[0;34m(self, input, config, **kwargs)\u001b[0m\n\u001b[1;32m    195\u001b[0m     ) -> T:\n\u001b[1;32m    196\u001b[0m         \u001b[0;32mif\u001b[0m \u001b[0misinstance\u001b[0m\u001b[0;34m(\u001b[0m\u001b[0minput\u001b[0m\u001b[0;34m,\u001b[0m \u001b[0mBaseMessage\u001b[0m\u001b[0;34m)\u001b[0m\u001b[0;34m:\u001b[0m\u001b[0;34m\u001b[0m\u001b[0;34m\u001b[0m\u001b[0m\n\u001b[0;32m--> 197\u001b[0;31m             return self._call_with_config(\n\u001b[0m\u001b[1;32m    198\u001b[0m                 lambda inner_input: self.parse_result(\n\u001b[1;32m    199\u001b[0m                     \u001b[0;34m[\u001b[0m\u001b[0mChatGeneration\u001b[0m\u001b[0;34m(\u001b[0m\u001b[0mmessage\u001b[0m\u001b[0;34m=\u001b[0m\u001b[0minner_input\u001b[0m\u001b[0;34m)\u001b[0m\u001b[0;34m]\u001b[0m\u001b[0;34m\u001b[0m\u001b[0;34m\u001b[0m\u001b[0m\n",
            "\u001b[0;32m/usr/local/lib/python3.11/dist-packages/langchain_core/runnables/base.py\u001b[0m in \u001b[0;36m_call_with_config\u001b[0;34m(self, func, input_, config, run_type, serialized, **kwargs)\u001b[0m\n\u001b[1;32m   1936\u001b[0m                 output = cast(\n\u001b[1;32m   1937\u001b[0m                     \u001b[0;34m\"Output\"\u001b[0m\u001b[0;34m,\u001b[0m\u001b[0;34m\u001b[0m\u001b[0;34m\u001b[0m\u001b[0m\n\u001b[0;32m-> 1938\u001b[0;31m                     context.run(\n\u001b[0m\u001b[1;32m   1939\u001b[0m                         \u001b[0mcall_func_with_variable_args\u001b[0m\u001b[0;34m,\u001b[0m  \u001b[0;31m# type: ignore[arg-type]\u001b[0m\u001b[0;34m\u001b[0m\u001b[0;34m\u001b[0m\u001b[0m\n\u001b[1;32m   1940\u001b[0m                         \u001b[0mfunc\u001b[0m\u001b[0;34m,\u001b[0m\u001b[0;34m\u001b[0m\u001b[0;34m\u001b[0m\u001b[0m\n",
            "\u001b[0;32m/usr/local/lib/python3.11/dist-packages/langchain_core/runnables/config.py\u001b[0m in \u001b[0;36mcall_func_with_variable_args\u001b[0;34m(func, input, config, run_manager, **kwargs)\u001b[0m\n\u001b[1;32m    427\u001b[0m     \u001b[0;32mif\u001b[0m \u001b[0mrun_manager\u001b[0m \u001b[0;32mis\u001b[0m \u001b[0;32mnot\u001b[0m \u001b[0;32mNone\u001b[0m \u001b[0;32mand\u001b[0m \u001b[0maccepts_run_manager\u001b[0m\u001b[0;34m(\u001b[0m\u001b[0mfunc\u001b[0m\u001b[0;34m)\u001b[0m\u001b[0;34m:\u001b[0m\u001b[0;34m\u001b[0m\u001b[0;34m\u001b[0m\u001b[0m\n\u001b[1;32m    428\u001b[0m         \u001b[0mkwargs\u001b[0m\u001b[0;34m[\u001b[0m\u001b[0;34m\"run_manager\"\u001b[0m\u001b[0;34m]\u001b[0m \u001b[0;34m=\u001b[0m \u001b[0mrun_manager\u001b[0m\u001b[0;34m\u001b[0m\u001b[0;34m\u001b[0m\u001b[0m\n\u001b[0;32m--> 429\u001b[0;31m     \u001b[0;32mreturn\u001b[0m \u001b[0mfunc\u001b[0m\u001b[0;34m(\u001b[0m\u001b[0minput\u001b[0m\u001b[0;34m,\u001b[0m \u001b[0;34m**\u001b[0m\u001b[0mkwargs\u001b[0m\u001b[0;34m)\u001b[0m  \u001b[0;31m# type: ignore[call-arg]\u001b[0m\u001b[0;34m\u001b[0m\u001b[0;34m\u001b[0m\u001b[0m\n\u001b[0m\u001b[1;32m    430\u001b[0m \u001b[0;34m\u001b[0m\u001b[0m\n\u001b[1;32m    431\u001b[0m \u001b[0;34m\u001b[0m\u001b[0m\n",
            "\u001b[0;32m/usr/local/lib/python3.11/dist-packages/langchain_core/output_parsers/base.py\u001b[0m in \u001b[0;36m<lambda>\u001b[0;34m(inner_input)\u001b[0m\n\u001b[1;32m    196\u001b[0m         \u001b[0;32mif\u001b[0m \u001b[0misinstance\u001b[0m\u001b[0;34m(\u001b[0m\u001b[0minput\u001b[0m\u001b[0;34m,\u001b[0m \u001b[0mBaseMessage\u001b[0m\u001b[0;34m)\u001b[0m\u001b[0;34m:\u001b[0m\u001b[0;34m\u001b[0m\u001b[0;34m\u001b[0m\u001b[0m\n\u001b[1;32m    197\u001b[0m             return self._call_with_config(\n\u001b[0;32m--> 198\u001b[0;31m                 lambda inner_input: self.parse_result(\n\u001b[0m\u001b[1;32m    199\u001b[0m                     \u001b[0;34m[\u001b[0m\u001b[0mChatGeneration\u001b[0m\u001b[0;34m(\u001b[0m\u001b[0mmessage\u001b[0m\u001b[0;34m=\u001b[0m\u001b[0minner_input\u001b[0m\u001b[0;34m)\u001b[0m\u001b[0;34m]\u001b[0m\u001b[0;34m\u001b[0m\u001b[0;34m\u001b[0m\u001b[0m\n\u001b[1;32m    200\u001b[0m                 ),\n",
            "\u001b[0;32m/usr/local/lib/python3.11/dist-packages/langchain_core/output_parsers/base.py\u001b[0m in \u001b[0;36mparse_result\u001b[0;34m(self, result, partial)\u001b[0m\n\u001b[1;32m    249\u001b[0m             \u001b[0mStructured\u001b[0m \u001b[0moutput\u001b[0m\u001b[0;34m.\u001b[0m\u001b[0;34m\u001b[0m\u001b[0;34m\u001b[0m\u001b[0m\n\u001b[1;32m    250\u001b[0m         \"\"\"\n\u001b[0;32m--> 251\u001b[0;31m         \u001b[0;32mreturn\u001b[0m \u001b[0mself\u001b[0m\u001b[0;34m.\u001b[0m\u001b[0mparse\u001b[0m\u001b[0;34m(\u001b[0m\u001b[0mresult\u001b[0m\u001b[0;34m[\u001b[0m\u001b[0;36m0\u001b[0m\u001b[0;34m]\u001b[0m\u001b[0;34m.\u001b[0m\u001b[0mtext\u001b[0m\u001b[0;34m)\u001b[0m\u001b[0;34m\u001b[0m\u001b[0;34m\u001b[0m\u001b[0m\n\u001b[0m\u001b[1;32m    252\u001b[0m \u001b[0;34m\u001b[0m\u001b[0m\n\u001b[1;32m    253\u001b[0m     \u001b[0;34m@\u001b[0m\u001b[0mabstractmethod\u001b[0m\u001b[0;34m\u001b[0m\u001b[0;34m\u001b[0m\u001b[0m\n",
            "\u001b[0;32m/usr/local/lib/python3.11/dist-packages/langchain/output_parsers/pandas_dataframe.py\u001b[0m in \u001b[0;36mparse\u001b[0;34m(self, request)\u001b[0m\n\u001b[1;32m    147\u001b[0m                 \u001b[0;32melse\u001b[0m \u001b[0mstripped_request_params\u001b[0m\u001b[0;34m\u001b[0m\u001b[0;34m\u001b[0m\u001b[0m\n\u001b[1;32m    148\u001b[0m             } is out of bounds.\"\"\"\n\u001b[0;32m--> 149\u001b[0;31m             \u001b[0;32mraise\u001b[0m \u001b[0mOutputParserException\u001b[0m\u001b[0;34m(\u001b[0m\u001b[0mmsg\u001b[0m\u001b[0;34m)\u001b[0m \u001b[0;32mfrom\u001b[0m \u001b[0me\u001b[0m\u001b[0;34m\u001b[0m\u001b[0;34m\u001b[0m\u001b[0m\n\u001b[0m\u001b[1;32m    150\u001b[0m \u001b[0;34m\u001b[0m\u001b[0m\n\u001b[1;32m    151\u001b[0m         \u001b[0;32mreturn\u001b[0m \u001b[0mresult\u001b[0m\u001b[0;34m\u001b[0m\u001b[0;34m\u001b[0m\u001b[0m\n",
            "\u001b[0;31mOutputParserException\u001b[0m: Requested index name,storageDesc is out of bounds.\nFor troubleshooting, visit: https://python.langchain.com/docs/troubleshooting/errors/OUTPUT_PARSING_FAILURE "
          ]
        }
      ],
      "source": [
        "# The user query needs to be in the format expected by the PandasDataFrameOutputParser\n",
        "df_query = \"name, storageDesc 컬럼을 조회해주세요. \"\n",
        "\n",
        "# 체인 실행\n",
        "parser_output = chain.invoke({\"question\": df_query})\n",
        "\n",
        "# 결과 출력\n",
        "print(parser_output)"
      ]
    }
  ],
  "metadata": {
    "colab": {
      "provenance": []
    },
    "kernelspec": {
      "display_name": "langchain-kr-hTuzgesB-py3.11",
      "language": "python",
      "name": "python3"
    },
    "language_info": {
      "codemirror_mode": {
        "name": "ipython",
        "version": 3
      },
      "file_extension": ".py",
      "mimetype": "text/x-python",
      "name": "python",
      "nbconvert_exporter": "python",
      "pygments_lexer": "ipython3",
      "version": "3.11.9"
    }
  },
  "nbformat": 4,
  "nbformat_minor": 0
}
