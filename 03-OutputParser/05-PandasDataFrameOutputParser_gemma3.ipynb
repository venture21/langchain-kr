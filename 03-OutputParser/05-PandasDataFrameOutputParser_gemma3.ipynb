{
 "cells": [
  {
   "cell_type": "code",
   "execution_count": 3,
   "id": "b9cafebb",
   "metadata": {},
   "outputs": [
    {
     "data": {
      "text/plain": [
       "True"
      ]
     },
     "execution_count": 3,
     "metadata": {},
     "output_type": "execute_result"
    }
   ],
   "source": [
    "from dotenv import load_dotenv\n",
    "\n",
    "# .env 파일에서 환경 변수를 불러옵니다.\n",
    "# OPENAI_API_KEY가 .env 파일에 설정되어 있어야 합니다.\n",
    "load_dotenv()"
   ]
  },
  {
   "cell_type": "code",
   "execution_count": 1,
   "id": "7b639f7a",
   "metadata": {},
   "outputs": [],
   "source": [
    "import pandas as pd\n",
    "from langchain_openai import ChatOpenAI\n",
    "from langchain.output_parsers import PandasDataFrameOutputParser\n",
    "from langchain.prompts import PromptTemplate"
   ]
  },
  {
   "cell_type": "code",
   "execution_count": 4,
   "id": "43311c30",
   "metadata": {},
   "outputs": [
    {
     "name": "stdout",
     "output_type": "stream",
     "text": [
      "<class 'pandas.core.frame.DataFrame'>\n",
      "RangeIndex: 60 entries, 0 to 59\n",
      "Data columns (total 5 columns):\n",
      " #   Column         Non-Null Count  Dtype \n",
      "---  ------         --------------  ----- \n",
      " 0   category       60 non-null     object\n",
      " 1   name           60 non-null     object\n",
      " 2   storageDays    60 non-null     int64 \n",
      " 3   storageDesc    60 non-null     object\n",
      " 4   storageMethod  60 non-null     object\n",
      "dtypes: int64(1), object(4)\n",
      "memory usage: 2.5+ KB\n"
     ]
    }
   ],
   "source": [
    "# CSV 파일 불러오기\n",
    "df = pd.read_csv(\"./data/storageInfo.csv\")\n",
    "df.info()"
   ]
  },
  {
   "cell_type": "code",
   "execution_count": 5,
   "id": "cd36c8c0",
   "metadata": {},
   "outputs": [
    {
     "data": {
      "text/html": [
       "<div>\n",
       "<style scoped>\n",
       "    .dataframe tbody tr th:only-of-type {\n",
       "        vertical-align: middle;\n",
       "    }\n",
       "\n",
       "    .dataframe tbody tr th {\n",
       "        vertical-align: top;\n",
       "    }\n",
       "\n",
       "    .dataframe thead th {\n",
       "        text-align: right;\n",
       "    }\n",
       "</style>\n",
       "<table border=\"1\" class=\"dataframe\">\n",
       "  <thead>\n",
       "    <tr style=\"text-align: right;\">\n",
       "      <th></th>\n",
       "      <th>category</th>\n",
       "      <th>name</th>\n",
       "      <th>storageDays</th>\n",
       "      <th>storageDesc</th>\n",
       "      <th>storageMethod</th>\n",
       "    </tr>\n",
       "  </thead>\n",
       "  <tbody>\n",
       "    <tr>\n",
       "      <th>0</th>\n",
       "      <td>기타</td>\n",
       "      <td>두부</td>\n",
       "      <td>7</td>\n",
       "      <td>5~7일</td>\n",
       "      <td>물에 담가 밀폐용기에 넣어 냉장 보관. 매일 물을 갈아주면 더 오래 보관 가능합니다.</td>\n",
       "    </tr>\n",
       "    <tr>\n",
       "      <th>1</th>\n",
       "      <td>야채</td>\n",
       "      <td>콩나물</td>\n",
       "      <td>5</td>\n",
       "      <td>3~5일</td>\n",
       "      <td>씻지 않은 상태로 물기를 제거하고 밀폐용기에 담아 냉장 보관하세요. 빛을 차단하면 ...</td>\n",
       "    </tr>\n",
       "    <tr>\n",
       "      <th>2</th>\n",
       "      <td>야채</td>\n",
       "      <td>숙주나물</td>\n",
       "      <td>4</td>\n",
       "      <td>2~4일</td>\n",
       "      <td>콩나물보다 쉽게 무르므로, 씻지 않고 밀폐용기에 담아 냉장 보관 후 가급적 빨리 소...</td>\n",
       "    </tr>\n",
       "    <tr>\n",
       "      <th>3</th>\n",
       "      <td>야채</td>\n",
       "      <td>고구마</td>\n",
       "      <td>30</td>\n",
       "      <td>2~4주</td>\n",
       "      <td>10~15°C의 서늘하고 어두운 곳에 신문지로 감싸 보관하세요. (냉장 보관 시 맛...</td>\n",
       "    </tr>\n",
       "    <tr>\n",
       "      <th>4</th>\n",
       "      <td>야채</td>\n",
       "      <td>감자</td>\n",
       "      <td>30</td>\n",
       "      <td>2~4주</td>\n",
       "      <td>빛이 없는 서늘하고 통풍이 잘 되는 곳에 보관하세요. 사과와 함께 두면 싹 나는 것...</td>\n",
       "    </tr>\n",
       "  </tbody>\n",
       "</table>\n",
       "</div>"
      ],
      "text/plain": [
       "  category  name  storageDays storageDesc  \\\n",
       "0       기타    두부            7        5~7일   \n",
       "1       야채   콩나물            5        3~5일   \n",
       "2       야채  숙주나물            4        2~4일   \n",
       "3       야채   고구마           30        2~4주   \n",
       "4       야채    감자           30        2~4주   \n",
       "\n",
       "                                       storageMethod  \n",
       "0    물에 담가 밀폐용기에 넣어 냉장 보관. 매일 물을 갈아주면 더 오래 보관 가능합니다.  \n",
       "1  씻지 않은 상태로 물기를 제거하고 밀폐용기에 담아 냉장 보관하세요. 빛을 차단하면 ...  \n",
       "2  콩나물보다 쉽게 무르므로, 씻지 않고 밀폐용기에 담아 냉장 보관 후 가급적 빨리 소...  \n",
       "3  10~15°C의 서늘하고 어두운 곳에 신문지로 감싸 보관하세요. (냉장 보관 시 맛...  \n",
       "4  빛이 없는 서늘하고 통풍이 잘 되는 곳에 보관하세요. 사과와 함께 두면 싹 나는 것...  "
      ]
     },
     "execution_count": 5,
     "metadata": {},
     "output_type": "execute_result"
    }
   ],
   "source": [
    "df.head()"
   ]
  },
  {
   "cell_type": "code",
   "execution_count": 6,
   "id": "080cbd85",
   "metadata": {},
   "outputs": [
    {
     "name": "stdout",
     "output_type": "stream",
     "text": [
      "The output should be formatted as a string as the operation, followed by a colon, followed by the column or row to be queried on, followed by optional array parameters.\n",
      "1. The column names are limited to the possible columns below.\n",
      "2. Arrays must either be a comma-separated list of numbers formatted as [1,3,5], or it must be in range of numbers formatted as [0..4].\n",
      "3. Remember that arrays are optional and not necessarily required.\n",
      "4. If the column is not in the possible columns or the operation is not a valid Pandas DataFrame operation, return why it is invalid as a sentence starting with either \"Invalid column\" or \"Invalid operation\".\n",
      "\n",
      "As an example, for the formats:\n",
      "1. String \"column:num_legs\" is a well-formatted instance which gets the column num_legs, where num_legs is a possible column.\n",
      "2. String \"row:1\" is a well-formatted instance which gets row 1.\n",
      "3. String \"column:num_legs[1,2]\" is a well-formatted instance which gets the column num_legs for rows 1 and 2, where num_legs is a possible column.\n",
      "4. String \"row:1[num_legs]\" is a well-formatted instance which gets row 1, but for just column num_legs, where num_legs is a possible column.\n",
      "5. String \"mean:num_legs[1..3]\" is a well-formatted instance which takes the mean of num_legs from rows 1 to 3, where num_legs is a possible column and mean is a valid Pandas DataFrame operation.\n",
      "6. String \"do_something:num_legs\" is a badly-formatted instance, where do_something is not a valid Pandas DataFrame operation.\n",
      "7. String \"mean:invalid_col\" is a badly-formatted instance, where invalid_col is not a possible column.\n",
      "\n",
      "Here are the possible columns:\n",
      "```\n",
      "category, name, storageDays, storageDesc, storageMethod\n",
      "```\n",
      "\n"
     ]
    }
   ],
   "source": [
    "# PandasDataFrameOutputParser 설정\n",
    "parser = PandasDataFrameOutputParser(dataframe=df)\n",
    "print(parser.get_format_instructions())"
   ]
  },
  {
   "cell_type": "code",
   "execution_count": 7,
   "id": "2abb1e9e",
   "metadata": {},
   "outputs": [
    {
     "data": {
      "text/html": [
       "<div>\n",
       "<style scoped>\n",
       "    .dataframe tbody tr th:only-of-type {\n",
       "        vertical-align: middle;\n",
       "    }\n",
       "\n",
       "    .dataframe tbody tr th {\n",
       "        vertical-align: top;\n",
       "    }\n",
       "\n",
       "    .dataframe thead th {\n",
       "        text-align: right;\n",
       "    }\n",
       "</style>\n",
       "<table border=\"1\" class=\"dataframe\">\n",
       "  <thead>\n",
       "    <tr style=\"text-align: right;\">\n",
       "      <th></th>\n",
       "      <th>category</th>\n",
       "      <th>name</th>\n",
       "      <th>storageDays</th>\n",
       "      <th>storageDesc</th>\n",
       "      <th>storageMethod</th>\n",
       "    </tr>\n",
       "  </thead>\n",
       "  <tbody>\n",
       "    <tr>\n",
       "      <th>55</th>\n",
       "      <td>과일</td>\n",
       "      <td>레몬</td>\n",
       "      <td>28</td>\n",
       "      <td>3~4주</td>\n",
       "      <td>낱개로 랩이나 비닐 팩에 싸서 냉장 보관하면 수분 증발을 막을 수 있습니다.</td>\n",
       "    </tr>\n",
       "    <tr>\n",
       "      <th>56</th>\n",
       "      <td>과일</td>\n",
       "      <td>망고</td>\n",
       "      <td>5</td>\n",
       "      <td>후숙 후 3~5일</td>\n",
       "      <td>검은 반점이 생길 때까지 실온에서 후숙시킨 후 냉장 보관하세요.</td>\n",
       "    </tr>\n",
       "    <tr>\n",
       "      <th>57</th>\n",
       "      <td>과일</td>\n",
       "      <td>체리</td>\n",
       "      <td>7</td>\n",
       "      <td>5~7일</td>\n",
       "      <td>씻지 않은 상태로 밀폐용기에 담아 냉장 보관하세요.</td>\n",
       "    </tr>\n",
       "    <tr>\n",
       "      <th>58</th>\n",
       "      <td>과일</td>\n",
       "      <td>석류</td>\n",
       "      <td>21</td>\n",
       "      <td>2~3주</td>\n",
       "      <td>통째로 서늘한 실온이나 냉장 보관하세요.</td>\n",
       "    </tr>\n",
       "    <tr>\n",
       "      <th>59</th>\n",
       "      <td>과일</td>\n",
       "      <td>아보카도</td>\n",
       "      <td>5</td>\n",
       "      <td>후숙 후 3~5일</td>\n",
       "      <td>단단하면 실온에서 후숙시키고, 익은 후에는 냉장 보관하세요.</td>\n",
       "    </tr>\n",
       "  </tbody>\n",
       "</table>\n",
       "</div>"
      ],
      "text/plain": [
       "   category  name  storageDays storageDesc  \\\n",
       "55       과일    레몬           28        3~4주   \n",
       "56       과일    망고            5   후숙 후 3~5일   \n",
       "57       과일    체리            7        5~7일   \n",
       "58       과일    석류           21        2~3주   \n",
       "59       과일  아보카도            5   후숙 후 3~5일   \n",
       "\n",
       "                                 storageMethod  \n",
       "55  낱개로 랩이나 비닐 팩에 싸서 냉장 보관하면 수분 증발을 막을 수 있습니다.  \n",
       "56         검은 반점이 생길 때까지 실온에서 후숙시킨 후 냉장 보관하세요.  \n",
       "57                씻지 않은 상태로 밀폐용기에 담아 냉장 보관하세요.  \n",
       "58                      통째로 서늘한 실온이나 냉장 보관하세요.  \n",
       "59           단단하면 실온에서 후숙시키고, 익은 후에는 냉장 보관하세요.  "
      ]
     },
     "execution_count": 7,
     "metadata": {},
     "output_type": "execute_result"
    }
   ],
   "source": [
    "df.tail()"
   ]
  },
  {
   "cell_type": "code",
   "execution_count": 8,
   "id": "9b2c7360",
   "metadata": {},
   "outputs": [
    {
     "name": "stdout",
     "output_type": "stream",
     "text": [
      "<class 'pandas.core.frame.DataFrame'>\n",
      "RangeIndex: 60 entries, 0 to 59\n",
      "Data columns (total 5 columns):\n",
      " #   Column         Non-Null Count  Dtype \n",
      "---  ------         --------------  ----- \n",
      " 0   category       60 non-null     object\n",
      " 1   name           60 non-null     object\n",
      " 2   storageDays    60 non-null     int64 \n",
      " 3   storageDesc    60 non-null     object\n",
      " 4   storageMethod  60 non-null     object\n",
      "dtypes: int64(1), object(4)\n",
      "memory usage: 2.5+ KB\n",
      "None\n"
     ]
    }
   ],
   "source": [
    "# parser내부에 저장된 df를 확인하는 방법\n",
    "print(parser.dataframe.info())"
   ]
  },
  {
   "cell_type": "code",
   "execution_count": null,
   "id": "40b25acc",
   "metadata": {},
   "outputs": [],
   "source": [
    "from langchain_ollama import ChatOllama\n",
    "from langchain_google_genai import ChatGoogleGenerativeAI\n",
    "\n",
    "# LLM 초기화\n",
    "# llm = ChatOpenAI(model=\"gpt-4o\", temperature=0)\n",
    "# llm = ChatOllama(model=\"gemma3:27b\", temperature=0)\n",
    "llm = ChatGoogleGenerativeAI(model=\"gemma-3-27b-it\")\n",
    "\n",
    "# 프롬프트 템플릿 생성\n",
    "prompt = PromptTemplate(\n",
    "    template=\"\"\"Answer the user query.\n",
    "{format_instructions}\n",
    "\n",
    "User Query: {query}\n",
    "\n",
    "Remember to format your response exactly as specified in the instructions.\n",
    "For example:\n",
    "- To get a column: \"column:column_name\"\n",
    "- To get a row: \"row:row_number\"\n",
    "- To get mean: \"mean:column_name\"\n",
    "- To count values: \"value_counts:column_name\"\n",
    "\"\"\",\n",
    "    input_variables=[\"query\"],\n",
    "    partial_variables={\"format_instructions\": parser.get_format_instructions()},\n",
    ")"
   ]
  },
  {
   "cell_type": "code",
   "execution_count": 14,
   "id": "a0ddb0cc",
   "metadata": {},
   "outputs": [],
   "source": [
    "# 분석 쿼리 실행 함수\n",
    "def analyze_data(query):\n",
    "    \"\"\"데이터프레임에 대한 쿼리를 실행하는 함수\"\"\"\n",
    "    chain = prompt | llm | parser\n",
    "    try:\n",
    "        result = chain.invoke({\"query\": query})\n",
    "        return result\n",
    "    except Exception as e:\n",
    "        print(f\"Error: {e}\")\n",
    "        return None"
   ]
  },
  {
   "cell_type": "code",
   "execution_count": 15,
   "id": "fc809b0e",
   "metadata": {},
   "outputs": [
    {
     "name": "stdout",
     "output_type": "stream",
     "text": [
      "\n",
      "=== 데이터 분석 예제 ===\n",
      "\n",
      "1. category 컬럼 조회:\n",
      "카테고리 종류: {'과일', '야채', '기타'}\n",
      "총 데이터 수: 60\n"
     ]
    }
   ],
   "source": [
    "# 다양한 분석 예제\n",
    "print(\"\\n=== 데이터 분석 예제 ===\")\n",
    "\n",
    "# 1. 특정 컬럼 조회\n",
    "print(\"\\n1. category 컬럼 조회:\")\n",
    "query1 = \"Get the category column\"\n",
    "result1 = analyze_data(query1)\n",
    "if result1:\n",
    "    print(f\"카테고리 종류: {set(result1['category'])}\")\n",
    "    print(f\"총 데이터 수: {len(result1['category'])}\")"
   ]
  },
  {
   "cell_type": "code",
   "execution_count": 16,
   "id": "c25de4e6",
   "metadata": {},
   "outputs": [
    {
     "name": "stdout",
     "output_type": "stream",
     "text": [
      "\n",
      "2. storageDays 컬럼 조회:\n",
      "평균 보관일수: 15.9일\n",
      "최대 보관일수: 180일\n",
      "최소 보관일수: 3일\n"
     ]
    }
   ],
   "source": [
    "# 2. storageDays 컬럼 조회\n",
    "print(\"\\n2. storageDays 컬럼 조회:\")\n",
    "query2 = \"Get the storageDays column\"\n",
    "result2 = analyze_data(query2)\n",
    "if result2:\n",
    "    storage_days = pd.Series(result2[\"storageDays\"])\n",
    "    print(f\"평균 보관일수: {storage_days.mean():.1f}일\")\n",
    "    print(f\"최대 보관일수: {storage_days.max()}일\")\n",
    "    print(f\"최소 보관일수: {storage_days.min()}일\")"
   ]
  },
  {
   "cell_type": "code",
   "execution_count": 17,
   "id": "49956bca",
   "metadata": {},
   "outputs": [
    {
     "name": "stdout",
     "output_type": "stream",
     "text": [
      "\n",
      "3. 첫 번째 행 데이터:\n",
      "  category: 기타\n",
      "  name: 두부\n",
      "  storageDays: 7\n",
      "  storageDesc: 5~7일\n",
      "  storageMethod: 물에 담가 밀폐용기에 넣어 냉장 보관. 매일 물을 갈아주면 더 오래 보관 가능합니다.\n"
     ]
    }
   ],
   "source": [
    "# 3. 첫 번째 행 조회\n",
    "print(\"\\n3. 첫 번째 행 데이터:\")\n",
    "query3 = \"Retrieve the first row (row 0)\"\n",
    "result3 = analyze_data(query3)\n",
    "if result3:\n",
    "    for key, value in result3[\"0\"].items():\n",
    "        print(f\"  {key}: {value}\")"
   ]
  },
  {
   "cell_type": "code",
   "execution_count": 18,
   "id": "cff740ea",
   "metadata": {},
   "outputs": [
    {
     "name": "stdout",
     "output_type": "stream",
     "text": [
      "\n",
      "4. 처음 5개 식품명:\n",
      "  0: 두부\n",
      "  1: 콩나물\n",
      "  2: 숙주나물\n",
      "  3: 고구마\n",
      "  4: 감자\n"
     ]
    }
   ],
   "source": [
    "# 4. 특정 행 범위의 name 컬럼\n",
    "print(\"\\n4. 처음 5개 식품명:\")\n",
    "query4 = \"Get the name column for rows 0 to 4\"\n",
    "result4 = analyze_data(query4)\n",
    "if result4:\n",
    "    for idx, name in result4[\"name\"].items():\n",
    "        if int(idx) < 5:\n",
    "            print(f\"  {idx}: {name}\")"
   ]
  },
  {
   "cell_type": "code",
   "execution_count": null,
   "id": "52515500",
   "metadata": {},
   "outputs": [
    {
     "name": "stdout",
     "output_type": "stream",
     "text": [
      "\n",
      "=== Pandas 직접 분석 ===\n",
      "\n",
      "카테고리별 식품 개수:\n",
      "category\n",
      "야채    33\n",
      "과일    24\n",
      "기타     3\n",
      "Name: count, dtype: int64\n",
      "\n",
      "카테고리별 평균 보관일수:\n",
      "category\n",
      "과일    11.7\n",
      "기타    67.0\n",
      "야채    14.4\n",
      "Name: storageDays, dtype: float64\n",
      "\n",
      "보관일수 30일 이상인 식품:\n",
      "   name  storageDays category\n",
      "3   고구마           30       야채\n",
      "4    감자           30       야채\n",
      "5    양파           60       야채\n",
      "6    마늘           60       야채\n",
      "50   곶감          180       기타\n",
      "\n",
      "=== 기술 통계량 ===\n",
      "count     60.000000\n",
      "mean      15.950000\n",
      "std       24.316016\n",
      "min        3.000000\n",
      "25%        7.000000\n",
      "50%       10.000000\n",
      "75%       15.750000\n",
      "max      180.000000\n",
      "Name: storageDays, dtype: float64\n"
     ]
    }
   ],
   "source": [
    "# 직접 pandas로 분석 (비교용)\n",
    "print(\"\\n=== Pandas 직접 분석 ===\")\n",
    "\n",
    "# 카테고리별 개수\n",
    "print(\"\\n카테고리별 식품 개수:\")\n",
    "category_counts = df[\"category\"].value_counts()\n",
    "print(category_counts)\n",
    "\n",
    "# 카테고리별 평균 보관일수\n",
    "print(\"\\n카테고리별 평균 보관일수:\")\n",
    "category_avg = df.groupby(\"category\")[\"storageDays\"].mean().round(1)\n",
    "print(category_avg)\n",
    "\n",
    "# 보관일수 30일 이상 식품\n",
    "print(\"\\n보관일수 30일 이상인 식품:\")\n",
    "long_storage = df[df[\"storageDays\"] >= 30][[\"name\", \"storageDays\", \"category\"]]\n",
    "print(long_storage.head(10))\n",
    "\n",
    "# 기술 통계량\n",
    "print(\"\\n=== 기술 통계량 ===\")\n",
    "print(df[\"storageDays\"].describe())"
   ]
  },
  {
   "cell_type": "code",
   "execution_count": null,
   "id": "88848a4d",
   "metadata": {},
   "outputs": [],
   "source": []
  }
 ],
 "metadata": {
  "kernelspec": {
   "display_name": "langchain-kr-hTuzgesB-py3.11",
   "language": "python",
   "name": "python3"
  },
  "language_info": {
   "codemirror_mode": {
    "name": "ipython",
    "version": 3
   },
   "file_extension": ".py",
   "mimetype": "text/x-python",
   "name": "python",
   "nbconvert_exporter": "python",
   "pygments_lexer": "ipython3",
   "version": "3.11.9"
  }
 },
 "nbformat": 4,
 "nbformat_minor": 5
}
