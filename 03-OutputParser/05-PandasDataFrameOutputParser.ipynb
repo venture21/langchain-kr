{
 "cells": [
  {
   "cell_type": "markdown",
   "id": "cc0d17f8",
   "metadata": {},
   "source": [
    "# PandasDataFrameOutputParser\n",
    "\n",
    "**Pandas DataFrame**은 Python 프로그래밍 언어에서 널리 사용되는 데이터 구조로, 데이터 조작 및 분석을 위한 강력한 도구입니다. DataFrame은 구조화된 데이터를 효과적으로 다루기 위한 포괄적인 도구 세트를 제공하며, 이를 통해 데이터 정제, 변환 및 분석과 같은 다양한 작업을 수행할 수 있습니다.\n",
    "\n",
    "이 **출력 파서**는 사용자가 임의의 Pandas DataFrame을 지정하여 해당 DataFrame에서 데이터를 추출하고, 이를 형식화된 사전(dictionary) 형태로 조회할 수 있게 해주는 LLM(Large Language Model) 기반 도구입니다.\n"
   ]
  },
  {
   "cell_type": "code",
   "execution_count": 1,
   "id": "de387034",
   "metadata": {},
   "outputs": [
    {
     "data": {
      "text/plain": [
       "True"
      ]
     },
     "execution_count": 1,
     "metadata": {},
     "output_type": "execute_result"
    }
   ],
   "source": [
    "from dotenv import load_dotenv\n",
    "\n",
    "load_dotenv()"
   ]
  },
  {
   "cell_type": "code",
   "execution_count": 2,
   "id": "fe9492a0",
   "metadata": {},
   "outputs": [
    {
     "name": "stdout",
     "output_type": "stream",
     "text": [
      "LangSmith 추적을 시작합니다.\n",
      "[프로젝트명]\n",
      "CH03-OutputParser\n"
     ]
    }
   ],
   "source": [
    "# LangSmith 추적을 설정합니다. https://smith.langchain.com\n",
    "# !pip install langchain-teddynote\n",
    "from langchain_teddynote import logging\n",
    "\n",
    "# 프로젝트 이름을 입력합니다.\n",
    "logging.langsmith(\"CH03-OutputParser\")"
   ]
  },
  {
   "cell_type": "code",
   "execution_count": 3,
   "id": "6c6d4c70",
   "metadata": {},
   "outputs": [],
   "source": [
    "import pprint\n",
    "from typing import Any, Dict\n",
    "\n",
    "import pandas as pd\n",
    "from langchain.output_parsers import PandasDataFrameOutputParser\n",
    "from langchain_core.prompts import PromptTemplate\n",
    "from langchain_openai import ChatOpenAI"
   ]
  },
  {
   "cell_type": "code",
   "execution_count": 4,
   "id": "8a500317",
   "metadata": {},
   "outputs": [],
   "source": [
    "# ChatOpenAI 모델 초기화 (gpt-3.5-turbo 모델 사용을 권장합니다)\n",
    "model = ChatOpenAI(temperature=0, model_name=\"gpt-3.5-turbo\")"
   ]
  },
  {
   "cell_type": "markdown",
   "id": "38a9f23d",
   "metadata": {},
   "source": [
    "`format_parser_output` 함수는 파서 출력을 사전 형식으로 변환하고 출력 형식을 지정하는 데 사용됩니다. "
   ]
  },
  {
   "cell_type": "code",
   "execution_count": 5,
   "id": "d3dadcb4",
   "metadata": {},
   "outputs": [],
   "source": [
    "# 출력 목적으로만 사용됩니다.\n",
    "def format_parser_output(parser_output: Dict[str, Any]) -> None:\n",
    "    # 파서 출력의 키들을 순회합니다.\n",
    "    for key in parser_output.keys():\n",
    "        # 각 키의 값을 딕셔너리로 변환합니다.\n",
    "        parser_output[key] = parser_output[key].to_dict()\n",
    "    # 예쁘게 출력합니다.\n",
    "    return pprint.PrettyPrinter(width=4, compact=True).pprint(parser_output)"
   ]
  },
  {
   "cell_type": "markdown",
   "id": "f2dca1ed",
   "metadata": {},
   "source": [
    "- `titanic.csv` 데이터를 읽어온 뒤 DataFrame 을 로드하여 `df` 변수에 할당합니다.\n",
    "- PandasDataFrameOutputParser를 사용하여 DataFrame을 파싱합니다.\n"
   ]
  },
  {
   "cell_type": "code",
   "execution_count": 6,
   "id": "f4228af1",
   "metadata": {},
   "outputs": [
    {
     "data": {
      "text/html": [
       "<div>\n",
       "<style scoped>\n",
       "    .dataframe tbody tr th:only-of-type {\n",
       "        vertical-align: middle;\n",
       "    }\n",
       "\n",
       "    .dataframe tbody tr th {\n",
       "        vertical-align: top;\n",
       "    }\n",
       "\n",
       "    .dataframe thead th {\n",
       "        text-align: right;\n",
       "    }\n",
       "</style>\n",
       "<table border=\"1\" class=\"dataframe\">\n",
       "  <thead>\n",
       "    <tr style=\"text-align: right;\">\n",
       "      <th></th>\n",
       "      <th>PassengerId</th>\n",
       "      <th>Survived</th>\n",
       "      <th>Pclass</th>\n",
       "      <th>Name</th>\n",
       "      <th>Sex</th>\n",
       "      <th>Age</th>\n",
       "      <th>SibSp</th>\n",
       "      <th>Parch</th>\n",
       "      <th>Ticket</th>\n",
       "      <th>Fare</th>\n",
       "      <th>Cabin</th>\n",
       "      <th>Embarked</th>\n",
       "    </tr>\n",
       "  </thead>\n",
       "  <tbody>\n",
       "    <tr>\n",
       "      <th>0</th>\n",
       "      <td>1</td>\n",
       "      <td>0</td>\n",
       "      <td>3</td>\n",
       "      <td>Braund, Mr. Owen Harris</td>\n",
       "      <td>male</td>\n",
       "      <td>22.0</td>\n",
       "      <td>1</td>\n",
       "      <td>0</td>\n",
       "      <td>A/5 21171</td>\n",
       "      <td>7.2500</td>\n",
       "      <td>NaN</td>\n",
       "      <td>S</td>\n",
       "    </tr>\n",
       "    <tr>\n",
       "      <th>1</th>\n",
       "      <td>2</td>\n",
       "      <td>1</td>\n",
       "      <td>1</td>\n",
       "      <td>Cumings, Mrs. John Bradley (Florence Briggs Th...</td>\n",
       "      <td>female</td>\n",
       "      <td>38.0</td>\n",
       "      <td>1</td>\n",
       "      <td>0</td>\n",
       "      <td>PC 17599</td>\n",
       "      <td>71.2833</td>\n",
       "      <td>C85</td>\n",
       "      <td>C</td>\n",
       "    </tr>\n",
       "    <tr>\n",
       "      <th>2</th>\n",
       "      <td>3</td>\n",
       "      <td>1</td>\n",
       "      <td>3</td>\n",
       "      <td>Heikkinen, Miss. Laina</td>\n",
       "      <td>female</td>\n",
       "      <td>26.0</td>\n",
       "      <td>0</td>\n",
       "      <td>0</td>\n",
       "      <td>STON/O2. 3101282</td>\n",
       "      <td>7.9250</td>\n",
       "      <td>NaN</td>\n",
       "      <td>S</td>\n",
       "    </tr>\n",
       "    <tr>\n",
       "      <th>3</th>\n",
       "      <td>4</td>\n",
       "      <td>1</td>\n",
       "      <td>1</td>\n",
       "      <td>Futrelle, Mrs. Jacques Heath (Lily May Peel)</td>\n",
       "      <td>female</td>\n",
       "      <td>35.0</td>\n",
       "      <td>1</td>\n",
       "      <td>0</td>\n",
       "      <td>113803</td>\n",
       "      <td>53.1000</td>\n",
       "      <td>C123</td>\n",
       "      <td>S</td>\n",
       "    </tr>\n",
       "    <tr>\n",
       "      <th>4</th>\n",
       "      <td>5</td>\n",
       "      <td>0</td>\n",
       "      <td>3</td>\n",
       "      <td>Allen, Mr. William Henry</td>\n",
       "      <td>male</td>\n",
       "      <td>35.0</td>\n",
       "      <td>0</td>\n",
       "      <td>0</td>\n",
       "      <td>373450</td>\n",
       "      <td>8.0500</td>\n",
       "      <td>NaN</td>\n",
       "      <td>S</td>\n",
       "    </tr>\n",
       "  </tbody>\n",
       "</table>\n",
       "</div>"
      ],
      "text/plain": [
       "   PassengerId  Survived  Pclass  \\\n",
       "0            1         0       3   \n",
       "1            2         1       1   \n",
       "2            3         1       3   \n",
       "3            4         1       1   \n",
       "4            5         0       3   \n",
       "\n",
       "                                                Name     Sex   Age  SibSp  \\\n",
       "0                            Braund, Mr. Owen Harris    male  22.0      1   \n",
       "1  Cumings, Mrs. John Bradley (Florence Briggs Th...  female  38.0      1   \n",
       "2                             Heikkinen, Miss. Laina  female  26.0      0   \n",
       "3       Futrelle, Mrs. Jacques Heath (Lily May Peel)  female  35.0      1   \n",
       "4                           Allen, Mr. William Henry    male  35.0      0   \n",
       "\n",
       "   Parch            Ticket     Fare Cabin Embarked  \n",
       "0      0         A/5 21171   7.2500   NaN        S  \n",
       "1      0          PC 17599  71.2833   C85        C  \n",
       "2      0  STON/O2. 3101282   7.9250   NaN        S  \n",
       "3      0            113803  53.1000  C123        S  \n",
       "4      0            373450   8.0500   NaN        S  "
      ]
     },
     "execution_count": 6,
     "metadata": {},
     "output_type": "execute_result"
    }
   ],
   "source": [
    "# 원하는 Pandas DataFrame을 정의합니다.\n",
    "df = pd.read_csv(\"./data/titanic.csv\")\n",
    "df.head()"
   ]
  },
  {
   "cell_type": "code",
   "execution_count": 7,
   "id": "68b00eca",
   "metadata": {},
   "outputs": [
    {
     "name": "stdout",
     "output_type": "stream",
     "text": [
      "<class 'pandas.core.frame.DataFrame'>\n",
      "RangeIndex: 20 entries, 0 to 19\n",
      "Data columns (total 12 columns):\n",
      " #   Column       Non-Null Count  Dtype  \n",
      "---  ------       --------------  -----  \n",
      " 0   PassengerId  20 non-null     int64  \n",
      " 1   Survived     20 non-null     int64  \n",
      " 2   Pclass       20 non-null     int64  \n",
      " 3   Name         20 non-null     object \n",
      " 4   Sex          20 non-null     object \n",
      " 5   Age          17 non-null     float64\n",
      " 6   SibSp        20 non-null     int64  \n",
      " 7   Parch        20 non-null     int64  \n",
      " 8   Ticket       20 non-null     object \n",
      " 9   Fare         20 non-null     float64\n",
      " 10  Cabin        5 non-null      object \n",
      " 11  Embarked     20 non-null     object \n",
      "dtypes: float64(2), int64(5), object(5)\n",
      "memory usage: 2.0+ KB\n"
     ]
    }
   ],
   "source": [
    "df.info()"
   ]
  },
  {
   "cell_type": "code",
   "execution_count": 8,
   "id": "436f7dea",
   "metadata": {},
   "outputs": [
    {
     "name": "stdout",
     "output_type": "stream",
     "text": [
      "The output should be formatted as a string as the operation, followed by a colon, followed by the column or row to be queried on, followed by optional array parameters.\n",
      "1. The column names are limited to the possible columns below.\n",
      "2. Arrays must either be a comma-separated list of numbers formatted as [1,3,5], or it must be in range of numbers formatted as [0..4].\n",
      "3. Remember that arrays are optional and not necessarily required.\n",
      "4. If the column is not in the possible columns or the operation is not a valid Pandas DataFrame operation, return why it is invalid as a sentence starting with either \"Invalid column\" or \"Invalid operation\".\n",
      "\n",
      "As an example, for the formats:\n",
      "1. String \"column:num_legs\" is a well-formatted instance which gets the column num_legs, where num_legs is a possible column.\n",
      "2. String \"row:1\" is a well-formatted instance which gets row 1.\n",
      "3. String \"column:num_legs[1,2]\" is a well-formatted instance which gets the column num_legs for rows 1 and 2, where num_legs is a possible column.\n",
      "4. String \"row:1[num_legs]\" is a well-formatted instance which gets row 1, but for just column num_legs, where num_legs is a possible column.\n",
      "5. String \"mean:num_legs[1..3]\" is a well-formatted instance which takes the mean of num_legs from rows 1 to 3, where num_legs is a possible column and mean is a valid Pandas DataFrame operation.\n",
      "6. String \"do_something:num_legs\" is a badly-formatted instance, where do_something is not a valid Pandas DataFrame operation.\n",
      "7. String \"mean:invalid_col\" is a badly-formatted instance, where invalid_col is not a possible column.\n",
      "\n",
      "Here are the possible columns:\n",
      "```\n",
      "PassengerId, Survived, Pclass, Name, Sex, Age, SibSp, Parch, Ticket, Fare, Cabin, Embarked\n",
      "```\n",
      "\n"
     ]
    }
   ],
   "source": [
    "# 파서를 설정하고 프롬프트 템플릿에 지시사항을 주입합니다.\n",
    "parser = PandasDataFrameOutputParser(dataframe=df)\n",
    "\n",
    "# 파서의 지시사항을 출력합니다.\n",
    "print(parser.get_format_instructions())"
   ]
  },
  {
   "cell_type": "markdown",
   "id": "bd2699de",
   "metadata": {},
   "source": [
    "컬럼에 대한 값을 조회하는 예제입니다."
   ]
  },
  {
   "cell_type": "code",
   "execution_count": 9,
   "id": "42688b23",
   "metadata": {},
   "outputs": [
    {
     "name": "stdout",
     "output_type": "stream",
     "text": [
      "{'Age': {0: 22.0,\n",
      "         1: 38.0,\n",
      "         2: 26.0,\n",
      "         3: 35.0,\n",
      "         4: 35.0,\n",
      "         5: nan,\n",
      "         6: 54.0,\n",
      "         7: 2.0,\n",
      "         8: 27.0,\n",
      "         9: 14.0,\n",
      "         10: 4.0,\n",
      "         11: 58.0,\n",
      "         12: 20.0,\n",
      "         13: 39.0,\n",
      "         14: 14.0,\n",
      "         15: 55.0,\n",
      "         16: 2.0,\n",
      "         17: nan,\n",
      "         18: 31.0,\n",
      "         19: nan}}\n"
     ]
    }
   ],
   "source": [
    "# 열 작업 예시입니다.\n",
    "df_query = \"Age column 을 조회해 주세요.\"\n",
    "\n",
    "\n",
    "# 프롬프트 템플릿을 설정합니다.\n",
    "prompt = PromptTemplate(\n",
    "    template=\"Answer the user query.\\n{format_instructions}\\n{question}\\n\",\n",
    "    input_variables=[\"question\"],  # 입력 변수 설정\n",
    "    partial_variables={\n",
    "        \"format_instructions\": parser.get_format_instructions()\n",
    "    },  # 부분 변수 설정\n",
    ")\n",
    "\n",
    "# 체인 생성\n",
    "chain = prompt | model | parser\n",
    "\n",
    "# 체인 실행\n",
    "parser_output = chain.invoke({\"question\": df_query})\n",
    "\n",
    "# 출력\n",
    "format_parser_output(parser_output)"
   ]
  },
  {
   "cell_type": "markdown",
   "id": "d4dd6636",
   "metadata": {},
   "source": [
    "첫 번째 행을 검색하는 예시입니다."
   ]
  },
  {
   "cell_type": "code",
   "execution_count": null,
   "id": "867ced38",
   "metadata": {},
   "outputs": [
    {
     "name": "stdout",
     "output_type": "stream",
     "text": [
      "{'0': {'Age': 22.0,\n",
      "       'Cabin': nan,\n",
      "       'Embarked': 'S',\n",
      "       'Fare': 7.25,\n",
      "       'Name': 'Braund, '\n",
      "               'Mr. '\n",
      "               'Owen '\n",
      "               'Harris',\n",
      "       'Parch': 0,\n",
      "       'PassengerId': 1,\n",
      "       'Pclass': 3,\n",
      "       'Sex': 'male',\n",
      "       'SibSp': 1,\n",
      "       'Survived': 0,\n",
      "       'Ticket': 'A/5 '\n",
      "                 '21171'}}\n"
     ]
    },
    {
     "ename": "",
     "evalue": "",
     "output_type": "error",
     "traceback": [
      "\u001b[1;31mThe Kernel crashed while executing code in the current cell or a previous cell. \n",
      "\u001b[1;31mPlease review the code in the cell(s) to identify a possible cause of the failure. \n",
      "\u001b[1;31mClick <a href='https://aka.ms/vscodeJupyterKernelCrash'>here</a> for more info. \n",
      "\u001b[1;31mView Jupyter <a href='command:jupyter.viewOutput'>log</a> for further details."
     ]
    }
   ],
   "source": [
    "# 행 조회 예시입니다.\n",
    "df_query = \"Retrieve the first row.\"\n",
    "\n",
    "# 체인 실행\n",
    "parser_output = chain.invoke({\"question\": df_query})\n",
    "\n",
    "# 결과 출력\n",
    "format_parser_output(parser_output)"
   ]
  },
  {
   "cell_type": "markdown",
   "id": "a936bdcd",
   "metadata": {},
   "source": [
    "특정 열에서 일부 행의 평균을 검색하는 작업 예제입니다."
   ]
  },
  {
   "cell_type": "code",
   "execution_count": null,
   "id": "e479306f",
   "metadata": {},
   "outputs": [],
   "source": [
    "# row 0 ~ 4의 평균 나이를 구합니다.\n",
    "df[\"Age\"].head().mean()"
   ]
  },
  {
   "cell_type": "code",
   "execution_count": null,
   "id": "a26883b4",
   "metadata": {},
   "outputs": [],
   "source": [
    "# 임의의 Pandas DataFrame 작업 예시, 행의 수를 제한합니다.\n",
    "df_query = \"Retrieve the average of the Ages from row 0 to 4.\"\n",
    "\n",
    "# 체인 실행\n",
    "parser_output = chain.invoke({\"question\": df_query})\n",
    "\n",
    "# 결과 출력\n",
    "print(parser_output)"
   ]
  },
  {
   "cell_type": "markdown",
   "id": "62e97f39",
   "metadata": {},
   "source": [
    "다음은 요금(Fare) 에 대한 평균 가격을 산정하는 예시입니다."
   ]
  },
  {
   "cell_type": "code",
   "execution_count": null,
   "id": "743b51ef",
   "metadata": {},
   "outputs": [],
   "source": [
    "df.head()"
   ]
  },
  {
   "cell_type": "code",
   "execution_count": null,
   "id": "68a97d89",
   "metadata": {},
   "outputs": [],
   "source": [
    "# 잘못 형식화된 쿼리의 예시입니다.\n",
    "df_query = \"Calculate average `Fare` rate.\"\n",
    "\n",
    "# 체인 실행\n",
    "parser_output = chain.invoke({\"question\": df_query})\n",
    "\n",
    "# 결과 출력\n",
    "print(parser_output)"
   ]
  },
  {
   "cell_type": "code",
   "execution_count": null,
   "id": "d7dd2f2b",
   "metadata": {},
   "outputs": [],
   "source": [
    "# 결과 검증\n",
    "df[\"Fare\"].mean()"
   ]
  }
 ],
 "metadata": {
  "kernelspec": {
   "display_name": "langchain-kr-hTuzgesB-py3.11",
   "language": "python",
   "name": "python3"
  },
  "language_info": {
   "codemirror_mode": {
    "name": "ipython",
    "version": 3
   },
   "file_extension": ".py",
   "mimetype": "text/x-python",
   "name": "python",
   "nbconvert_exporter": "python",
   "pygments_lexer": "ipython3",
   "version": "3.11.9"
  }
 },
 "nbformat": 4,
 "nbformat_minor": 5
}
