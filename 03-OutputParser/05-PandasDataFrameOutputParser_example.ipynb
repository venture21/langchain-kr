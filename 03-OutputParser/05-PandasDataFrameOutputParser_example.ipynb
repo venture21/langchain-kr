{
 "cells": [
  {
   "cell_type": "code",
   "execution_count": 1,
   "id": "04090a94",
   "metadata": {},
   "outputs": [],
   "source": [
    "import os\n",
    "import pandas as pd\n",
    "from langchain_core.prompts import PromptTemplate\n",
    "from langchain.output_parsers import PandasDataFrameOutputParser\n",
    "from langchain_openai import ChatOpenAI\n",
    "from dotenv import load_dotenv\n",
    "\n",
    "# .env 파일에서 환경 변수를 불러옵니다.\n",
    "# OPENAI_API_KEY가 .env 파일에 설정되어 있어야 합니다.\n",
    "load_dotenv()\n",
    "\n",
    "# 예제로 사용할 가상의 타이타닉 데이터를 생성합니다.\n",
    "data = {\n",
    "    \"PassengerId\": range(1, 11),\n",
    "    \"Survived\": [0, 1, 1, 1, 0, 0, 0, 1, 0, 1],\n",
    "    \"Pclass\": [3, 1, 3, 1, 3, 1, 3, 2, 3, 2],\n",
    "    \"Name\": [\n",
    "        \"Braund, Mr. Owen Harris\",\n",
    "        \"Cumings, Mrs. John Bradley\",\n",
    "        \"Heikkinen, Miss. Laina\",\n",
    "        \"Futrelle, Mrs. Jacques Heath\",\n",
    "        \"Allen, Mr. William Henry\",\n",
    "        \"Moran, Mr. James\",\n",
    "        \"McCarthy, Mr. Timothy J\",\n",
    "        \"Palsson, Master. Gosta Leonard\",\n",
    "        \"Johnson, Mrs. Oscar W\",\n",
    "        \"Nasser, Mrs. Nicholas\",\n",
    "    ],\n",
    "    \"Sex\": [\n",
    "        \"male\",\n",
    "        \"female\",\n",
    "        \"female\",\n",
    "        \"female\",\n",
    "        \"male\",\n",
    "        \"male\",\n",
    "        \"male\",\n",
    "        \"male\",\n",
    "        \"female\",\n",
    "        \"female\",\n",
    "    ],\n",
    "    \"Age\": [22, 38, 26, 35, 35, 27, 54, 2, 27, 14],\n",
    "}\n",
    "df = pd.DataFrame(data)"
   ]
  },
  {
   "cell_type": "code",
   "execution_count": 2,
   "id": "f866c63e",
   "metadata": {},
   "outputs": [
    {
     "name": "stdout",
     "output_type": "stream",
     "text": [
      "<class 'pandas.core.frame.DataFrame'>\n",
      "RangeIndex: 10 entries, 0 to 9\n",
      "Data columns (total 6 columns):\n",
      " #   Column       Non-Null Count  Dtype \n",
      "---  ------       --------------  ----- \n",
      " 0   PassengerId  10 non-null     int64 \n",
      " 1   Survived     10 non-null     int64 \n",
      " 2   Pclass       10 non-null     int64 \n",
      " 3   Name         10 non-null     object\n",
      " 4   Sex          10 non-null     object\n",
      " 5   Age          10 non-null     int64 \n",
      "dtypes: int64(4), object(2)\n",
      "memory usage: 612.0+ bytes\n"
     ]
    }
   ],
   "source": [
    "df.info()"
   ]
  },
  {
   "cell_type": "code",
   "execution_count": 4,
   "id": "bcff64c3",
   "metadata": {},
   "outputs": [
    {
     "name": "stdout",
     "output_type": "stream",
     "text": [
      "The output should be formatted as a string as the operation, followed by a colon, followed by the column or row to be queried on, followed by optional array parameters.\n",
      "1. The column names are limited to the possible columns below.\n",
      "2. Arrays must either be a comma-separated list of numbers formatted as [1,3,5], or it must be in range of numbers formatted as [0..4].\n",
      "3. Remember that arrays are optional and not necessarily required.\n",
      "4. If the column is not in the possible columns or the operation is not a valid Pandas DataFrame operation, return why it is invalid as a sentence starting with either \"Invalid column\" or \"Invalid operation\".\n",
      "\n",
      "As an example, for the formats:\n",
      "1. String \"column:num_legs\" is a well-formatted instance which gets the column num_legs, where num_legs is a possible column.\n",
      "2. String \"row:1\" is a well-formatted instance which gets row 1.\n",
      "3. String \"column:num_legs[1,2]\" is a well-formatted instance which gets the column num_legs for rows 1 and 2, where num_legs is a possible column.\n",
      "4. String \"row:1[num_legs]\" is a well-formatted instance which gets row 1, but for just column num_legs, where num_legs is a possible column.\n",
      "5. String \"mean:num_legs[1..3]\" is a well-formatted instance which takes the mean of num_legs from rows 1 to 3, where num_legs is a possible column and mean is a valid Pandas DataFrame operation.\n",
      "6. String \"do_something:num_legs\" is a badly-formatted instance, where do_something is not a valid Pandas DataFrame operation.\n",
      "7. String \"mean:invalid_col\" is a badly-formatted instance, where invalid_col is not a possible column.\n",
      "\n",
      "Here are the possible columns:\n",
      "```\n",
      "PassengerId, Survived, Pclass, Name, Sex, Age\n",
      "```\n",
      "\n"
     ]
    }
   ],
   "source": [
    "# PandasDataFrameOutputParser를 초기화합니다.\n",
    "# 이 파서는 LLM의 출력을 Pandas DataFrame으로 변환합니다.\n",
    "parser = PandasDataFrameOutputParser(dataframe=df)\n",
    "print(parser.get_format_instructions())"
   ]
  },
  {
   "cell_type": "code",
   "execution_count": 5,
   "id": "544aad4d",
   "metadata": {},
   "outputs": [
    {
     "data": {
      "text/plain": [
       "'   PassengerId  Survived  Pclass                            Name     Sex  Age\\n0            1         0       3         Braund, Mr. Owen Harris    male   22\\n1            2         1       1      Cumings, Mrs. John Bradley  female   38\\n2            3         1       3          Heikkinen, Miss. Laina  female   26\\n3            4         1       1    Futrelle, Mrs. Jacques Heath  female   35\\n4            5         0       3        Allen, Mr. William Henry    male   35\\n5            6         0       1                Moran, Mr. James    male   27\\n6            7         0       3         McCarthy, Mr. Timothy J    male   54\\n7            8         1       2  Palsson, Master. Gosta Leonard    male    2\\n8            9         0       3           Johnson, Mrs. Oscar W  female   27\\n9           10         1       2           Nasser, Mrs. Nicholas  female   14'"
      ]
     },
     "execution_count": 5,
     "metadata": {},
     "output_type": "execute_result"
    }
   ],
   "source": [
    "df.to_string()"
   ]
  },
  {
   "cell_type": "code",
   "execution_count": null,
   "id": "e7144af2",
   "metadata": {},
   "outputs": [
    {
     "name": "stdout",
     "output_type": "stream",
     "text": [
      "--- 원본 데이터 ---\n",
      "   PassengerId  Survived  Pclass                            Name     Sex  Age\n",
      "0            1         0       3         Braund, Mr. Owen Harris    male   22\n",
      "1            2         1       1      Cumings, Mrs. John Bradley  female   38\n",
      "2            3         1       3          Heikkinen, Miss. Laina  female   26\n",
      "3            4         1       1    Futrelle, Mrs. Jacques Heath  female   35\n",
      "4            5         0       3        Allen, Mr. William Henry    male   35\n",
      "5            6         0       1                Moran, Mr. James    male   27\n",
      "6            7         0       3         McCarthy, Mr. Timothy J    male   54\n",
      "7            8         1       2  Palsson, Master. Gosta Leonard    male    2\n",
      "8            9         0       3           Johnson, Mrs. Oscar W  female   27\n",
      "9           10         1       2           Nasser, Mrs. Nicholas  female   14\n",
      "\n",
      "==================================================\n",
      "\n",
      "--- LLM이 생성한 DataFrame ---\n",
      "{'mean': 28.0}\n",
      "\n",
      "==================================================\n",
      "\n",
      "결과 타입: <class 'dict'>\n"
     ]
    }
   ],
   "source": [
    "# 프롬프트 템플릿을 생성합니다.\n",
    "# `format_instructions` 변수는 파서가 요구하는 출력 형식을 동적으로 삽입합니다.\n",
    "prompt_template = \"\"\"\n",
    "주어진 타이타닉 데이터를 기반으로 질문에 답하세요.\n",
    "답변은 지정된 형식에 맞는 Pandas DataFrame으로 생성해야 합니다.\n",
    "\n",
    "{format_instructions}\n",
    "\n",
    "데이터:\n",
    "{df_as_string}\n",
    "\n",
    "질문: {query}\n",
    "\"\"\"\n",
    "\n",
    "# PromptTemplate 객체를 생성합니다.\n",
    "prompt = PromptTemplate(\n",
    "    template=prompt_template,\n",
    "    input_variables=[\"df_as_string\", \"query\"],\n",
    "    partial_variables={\"format_instructions\": parser.get_format_instructions()},\n",
    ")\n",
    "\n",
    "# 모델을 초기화합니다.\n",
    "model = ChatOpenAI(temperature=0, model_name=\"gpt-4o-mini\")\n",
    "\n",
    "# 프롬프트, 모델, 파서를 체인으로 연결합니다.\n",
    "chain = prompt | model | parser\n",
    "\n",
    "# LLM에 질문을 던지고 결과를 DataFrame으로 받습니다.\n",
    "query_text = \"생존 여부(Survived)별로 승객들의 평균 나이를 계산하고, 그 결과를 'Survived', 'Mean_Age' 컬럼을 가진 DataFrame으로 요약해줘.\"\n",
    "result_df = chain.invoke(\n",
    "    {\n",
    "        \"df_as_string\": df.to_string(),\n",
    "        \"query\": query_text,\n",
    "    }\n",
    ")\n",
    "\n",
    "# 결과 출력\n",
    "print(\"--- 원본 데이터 ---\")\n",
    "print(df)\n",
    "print(\"\\n\" + \"=\" * 50 + \"\\n\")\n",
    "print(\"--- LLM이 생성한 DataFrame ---\")\n",
    "print(result_df)\n",
    "print(\"\\n\" + \"=\" * 50 + \"\\n\")\n",
    "print(f\"결과 타입: {type(result_df)}\")"
   ]
  },
  {
   "cell_type": "code",
   "execution_count": null,
   "id": "2e84c6a2",
   "metadata": {},
   "outputs": [],
   "source": []
  }
 ],
 "metadata": {
  "kernelspec": {
   "display_name": "langchain-kr-hTuzgesB-py3.11",
   "language": "python",
   "name": "python3"
  },
  "language_info": {
   "codemirror_mode": {
    "name": "ipython",
    "version": 3
   },
   "file_extension": ".py",
   "mimetype": "text/x-python",
   "name": "python",
   "nbconvert_exporter": "python",
   "pygments_lexer": "ipython3",
   "version": "3.11.9"
  }
 },
 "nbformat": 4,
 "nbformat_minor": 5
}
