{
 "cells": [
  {
   "cell_type": "markdown",
   "metadata": {},
   "source": [
    "# Pandas DataFrame Agent를 사용한 식품 보관 데이터 분석\n",
    "\n",
    "이 노트북은 LangChain의 Pandas DataFrame Agent를 사용하여 `storageInfo.csv` 파일을 분석하고 시각화합니다."
   ]
  },
  {
   "cell_type": "code",
   "execution_count": null,
   "metadata": {},
   "outputs": [],
   "source": [
    "# 필요한 라이브러리 설치\n",
    "# !pip install langchain langchain-openai langchain-experimental pandas matplotlib seaborn"
   ]
  },
  {
   "cell_type": "code",
   "execution_count": null,
   "metadata": {},
   "outputs": [],
   "source": [
    "# 환경 설정\n",
    "from dotenv import load_dotenv\n",
    "import os\n",
    "\n",
    "load_dotenv()\n",
    "\n",
    "# OpenAI API 키 확인\n",
    "if not os.getenv(\"OPENAI_API_KEY\"):\n",
    "    os.environ[\"OPENAI_API_KEY\"] = input(\"OpenAI API Key를 입력하세요: \")"
   ]
  },
  {
   "cell_type": "code",
   "execution_count": null,
   "metadata": {},
   "outputs": [],
   "source": [
    "# 필요한 라이브러리 임포트\n",
    "import pandas as pd\n",
    "import numpy as np\n",
    "import matplotlib.pyplot as plt\n",
    "import seaborn as sns\n",
    "from langchain_experimental.agents import create_pandas_dataframe_agent\n",
    "from langchain_openai import ChatOpenAI\n",
    "from langchain.agents.agent_types import AgentType\n",
    "import warnings\n",
    "warnings.filterwarnings('ignore')\n",
    "\n",
    "# 시각화 스타일 설정\n",
    "sns.set_style(\"whitegrid\")\n",
    "plt.rcParams['font.family'] = 'Malgun Gothic'  # Windows\n",
    "# plt.rcParams['font.family'] = 'AppleGothic'  # Mac\n",
    "plt.rcParams['axes.unicode_minus'] = False\n",
    "plt.rcParams['figure.figsize'] = (12, 8)"
   ]
  },
  {
   "cell_type": "markdown",
   "metadata": {},
   "source": [
    "## 1. 데이터 로드 및 기본 탐색"
   ]
  },
  {
   "cell_type": "code",
   "execution_count": null,
   "metadata": {},
   "outputs": [],
   "source": [
    "# CSV 파일 로드\n",
    "df = pd.read_csv(\"./data/storageInfo.csv\")\n",
    "\n",
    "print(\"📊 데이터셋 정보\")\n",
    "print(\"=\"*50)\n",
    "print(f\"• 전체 데이터 수: {len(df)}개\")\n",
    "print(f\"• 컬럼 수: {len(df.columns)}개\")\n",
    "print(f\"• 컬럼 목록: {', '.join(df.columns)}\")\n",
    "print(f\"• 결측치: {df.isnull().sum().sum()}개\")"
   ]
  },
  {
   "cell_type": "code",
   "execution_count": null,
   "metadata": {},
   "outputs": [],
   "source": [
    "# 데이터 샘플 확인\n",
    "print(\"\\n📋 데이터 샘플 (상위 5개)\")\n",
    "df.head()"
   ]
  },
  {
   "cell_type": "code",
   "execution_count": null,
   "metadata": {},
   "outputs": [],
   "source": [
    "# 데이터 타입 및 정보\n",
    "df.info()"
   ]
  },
  {
   "cell_type": "code",
   "execution_count": null,
   "metadata": {},
   "outputs": [],
   "source": [
    "# 기술 통계량\n",
    "print(\"\\n📈 보관일수(storageDays) 기술 통계\")\n",
    "df['storageDays'].describe()"
   ]
  },
  {
   "cell_type": "markdown",
   "metadata": {},
   "source": [
    "## 2. Pandas DataFrame Agent 설정"
   ]
  },
  {
   "cell_type": "code",
   "execution_count": null,
   "metadata": {},
   "outputs": [],
   "source": [
    "# LLM 초기화\n",
    "llm = ChatOpenAI(\n",
    "    model=\"gpt-4o-mini\",\n",
    "    temperature=0,\n",
    "    max_tokens=2000\n",
    ")\n",
    "\n",
    "# Pandas DataFrame Agent 생성\n",
    "agent = create_pandas_dataframe_agent(\n",
    "    llm,\n",
    "    df,\n",
    "    verbose=True,  # 실행 과정을 볼 수 있도록 설정\n",
    "    agent_type=AgentType.OPENAI_FUNCTIONS,\n",
    "    allow_dangerous_code=True,  # 코드 실행 허용\n",
    "    handle_parsing_errors=True\n",
    ")\n",
    "\n",
    "print(\"✅ Pandas DataFrame Agent가 성공적으로 생성되었습니다!\")"
   ]
  },
  {
   "cell_type": "markdown",
   "metadata": {},
   "source": [
    "## 3. 자연어 기반 데이터 분석"
   ]
  },
  {
   "cell_type": "code",
   "execution_count": null,
   "metadata": {},
   "outputs": [],
   "source": [
    "# 분석 함수 정의\n",
    "def analyze(question):\n",
    "    \"\"\"자연어 질문을 받아 데이터 분석 수행\"\"\"\n",
    "    print(f\"\\n💡 질문: {question}\")\n",
    "    print(\"-\" * 60)\n",
    "    try:\n",
    "        response = agent.run(question)\n",
    "        print(f\"📊 답변: {response}\")\n",
    "        return response\n",
    "    except Exception as e:\n",
    "        print(f\"❌ 오류 발생: {e}\")\n",
    "        return None"
   ]
  },
  {
   "cell_type": "markdown",
   "metadata": {},
   "source": [
    "### 3.1 기본 분석"
   ]
  },
  {
   "cell_type": "code",
   "execution_count": null,
   "metadata": {},
   "outputs": [],
   "source": [
    "# 카테고리 분석\n",
    "analyze(\"카테고리별로 식품이 몇 개씩 있는지 알려주고, 가장 많은 카테고리는 무엇인가요?\")"
   ]
  },
  {
   "cell_type": "code",
   "execution_count": null,
   "metadata": {},
   "outputs": [],
   "source": [
    "# 보관일수 분석\n",
    "analyze(\"평균 보관일수는 며칠이고, 가장 오래 보관 가능한 식품 TOP 5는 무엇인가요?\")"
   ]
  },
  {
   "cell_type": "code",
   "execution_count": null,
   "metadata": {},
   "outputs": [],
   "source": [
    "# 카테고리별 평균 보관일수\n",
    "analyze(\"각 카테고리별 평균 보관일수를 계산하고, 내림차순으로 정렬해서 보여주세요.\")"
   ]
  },
  {
   "cell_type": "markdown",
   "metadata": {},
   "source": [
    "### 3.2 심화 분석"
   ]
  },
  {
   "cell_type": "code",
   "execution_count": null,
   "metadata": {},
   "outputs": [],
   "source": [
    "# 보관 방법 분석\n",
    "analyze(\"\"\"\n",
    "storageMethod 컬럼을 분석해서:\n",
    "1. '냉장'이 포함된 식품은 몇 개인지\n",
    "2. '냉동'이 포함된 식품은 몇 개인지\n",
    "3. '실온'이 포함된 식품은 몇 개인지\n",
    "각각 계산해주세요.\n",
    "\"\"\")"
   ]
  },
  {
   "cell_type": "code",
   "execution_count": null,
   "metadata": {},
   "outputs": [],
   "source": [
    "# 보관일수 구간 분석\n",
    "analyze(\"\"\"\n",
    "보관일수를 다음 구간으로 나누어 분석해주세요:\n",
    "- 1주 이하 (7일 이하)\n",
    "- 1-2주 (8-14일)\n",
    "- 2주-1개월 (15-30일)\n",
    "- 1개월 이상 (30일 초과)\n",
    "각 구간에 속하는 식품의 개수와 비율을 알려주세요.\n",
    "\"\"\")"
   ]
  },
  {
   "cell_type": "code",
   "execution_count": null,
   "metadata": {},
   "outputs": [],
   "source": [
    "# 과일 vs 야채 비교\n",
    "analyze(\"\"\"\n",
    "과일과 야채 카테고리를 비교 분석해주세요:\n",
    "1. 각각의 개수\n",
    "2. 평균 보관일수\n",
    "3. 최대/최소 보관일수\n",
    "4. 어느 카테고리가 전반적으로 더 오래 보관 가능한지\n",
    "\"\"\")"
   ]
  },
  {
   "cell_type": "markdown",
   "metadata": {},
   "source": [
    "## 4. 데이터 시각화"
   ]
  },
  {
   "cell_type": "code",
   "execution_count": null,
   "metadata": {},
   "outputs": [],
   "source": [
    "# 시각화를 위한 데이터 준비\n",
    "category_counts = df['category'].value_counts()\n",
    "category_avg_days = df.groupby('category')['storageDays'].mean().sort_values()\n",
    "top10_storage = df.nlargest(10, 'storageDays')[['name', 'storageDays']]\n",
    "bottom10_storage = df.nsmallest(10, 'storageDays')[['name', 'storageDays']]"
   ]
  },
  {
   "cell_type": "code",
   "execution_count": null,
   "metadata": {},
   "outputs": [],
   "source": [
    "# 대시보드 스타일 시각화\n",
    "fig = plt.figure(figsize=(16, 12))\n",
    "fig.suptitle('🥬 식품 보관 데이터 분석 대시보드', fontsize=20, fontweight='bold', y=1.02)\n",
    "\n",
    "# 1. 카테고리별 식품 개수\n",
    "ax1 = plt.subplot(2, 3, 1)\n",
    "colors = plt.cm.Set3(range(len(category_counts)))\n",
    "bars = ax1.bar(category_counts.index, category_counts.values, color=colors)\n",
    "ax1.set_title('카테고리별 식품 개수', fontsize=14, fontweight='bold')\n",
    "ax1.set_xlabel('카테고리')\n",
    "ax1.set_ylabel('개수')\n",
    "ax1.tick_params(axis='x', rotation=45)\n",
    "for bar in bars:\n",
    "    height = bar.get_height()\n",
    "    ax1.text(bar.get_x() + bar.get_width()/2., height,\n",
    "             f'{int(height)}', ha='center', va='bottom')\n",
    "\n",
    "# 2. 카테고리별 평균 보관일수\n",
    "ax2 = plt.subplot(2, 3, 2)\n",
    "bars2 = ax2.barh(category_avg_days.index, category_avg_days.values, color='lightcoral')\n",
    "ax2.set_title('카테고리별 평균 보관일수', fontsize=14, fontweight='bold')\n",
    "ax2.set_xlabel('평균 보관일수 (일)')\n",
    "for i, bar in enumerate(bars2):\n",
    "    width = bar.get_width()\n",
    "    ax2.text(width, bar.get_y() + bar.get_height()/2., \n",
    "             f'{width:.1f}일', ha='left', va='center')\n",
    "\n",
    "# 3. 보관일수 분포 히스토그램\n",
    "ax3 = plt.subplot(2, 3, 3)\n",
    "n, bins, patches = ax3.hist(df['storageDays'], bins=30, color='skyblue', \n",
    "                             edgecolor='black', alpha=0.7)\n",
    "ax3.axvline(df['storageDays'].mean(), color='red', linestyle='--', \n",
    "            linewidth=2, label=f'평균: {df[\"storageDays\"].mean():.1f}일')\n",
    "ax3.axvline(df['storageDays'].median(), color='green', linestyle='--', \n",
    "            linewidth=2, label=f'중앙값: {df[\"storageDays\"].median():.1f}일')\n",
    "ax3.set_title('보관일수 분포', fontsize=14, fontweight='bold')\n",
    "ax3.set_xlabel('보관일수 (일)')\n",
    "ax3.set_ylabel('빈도')\n",
    "ax3.legend()\n",
    "ax3.grid(True, alpha=0.3)\n",
    "\n",
    "# 4. 보관일수 TOP 10\n",
    "ax4 = plt.subplot(2, 3, 4)\n",
    "y_pos = np.arange(len(top10_storage))\n",
    "bars4 = ax4.barh(y_pos, top10_storage['storageDays'].values, color='gold')\n",
    "ax4.set_yticks(y_pos)\n",
    "ax4.set_yticklabels(top10_storage['name'].values, fontsize=9)\n",
    "ax4.set_title('보관일수 TOP 10 식품', fontsize=14, fontweight='bold')\n",
    "ax4.set_xlabel('보관일수 (일)')\n",
    "for i, bar in enumerate(bars4):\n",
    "    width = bar.get_width()\n",
    "    ax4.text(width, bar.get_y() + bar.get_height()/2., \n",
    "             f'{int(width)}일', ha='left', va='center', fontsize=8)\n",
    "\n",
    "# 5. 카테고리별 박스플롯\n",
    "ax5 = plt.subplot(2, 3, 5)\n",
    "categories = df['category'].unique()\n",
    "data_to_plot = [df[df['category'] == cat]['storageDays'].values for cat in categories]\n",
    "bp = ax5.boxplot(data_to_plot, labels=categories, patch_artist=True)\n",
    "for patch, color in zip(bp['boxes'], colors):\n",
    "    patch.set_facecolor(color)\n",
    "ax5.set_title('카테고리별 보관일수 분포', fontsize=14, fontweight='bold')\n",
    "ax5.set_xlabel('카테고리')\n",
    "ax5.set_ylabel('보관일수 (일)')\n",
    "ax5.tick_params(axis='x', rotation=45)\n",
    "ax5.grid(True, alpha=0.3)\n",
    "\n",
    "# 6. 보관일수 구간별 파이차트\n",
    "ax6 = plt.subplot(2, 3, 6)\n",
    "bins = [0, 7, 14, 30, 60, 200]\n",
    "labels = ['1주 이하\\n(≤7일)', '1-2주\\n(8-14일)', '2주-1달\\n(15-30일)', \n",
    "          '1-2달\\n(31-60일)', '2달 이상\\n(>60일)']\n",
    "df['storage_range'] = pd.cut(df['storageDays'], bins=bins, labels=labels)\n",
    "storage_range_counts = df['storage_range'].value_counts()\n",
    "colors_pie = plt.cm.Pastel1(range(len(storage_range_counts)))\n",
    "wedges, texts, autotexts = ax6.pie(storage_range_counts.values, \n",
    "                                     labels=storage_range_counts.index,\n",
    "                                     autopct='%1.1f%%',\n",
    "                                     colors=colors_pie,\n",
    "                                     startangle=90)\n",
    "ax6.set_title('보관일수 구간별 비율', fontsize=14, fontweight='bold')\n",
    "for autotext in autotexts:\n",
    "    autotext.set_fontsize(10)\n",
    "    autotext.set_fontweight('bold')\n",
    "\n",
    "plt.tight_layout()\n",
    "plt.savefig('storage_dashboard.png', dpi=300, bbox_inches='tight')\n",
    "plt.show()\n",
    "\n",
    "print(\"\\n✅ 대시보드가 'storage_dashboard.png' 파일로 저장되었습니다.\")"
   ]
  },
  {
   "cell_type": "markdown",
   "metadata": {},
   "source": [
    "## 5. 보관 방법 텍스트 분석"
   ]
  },
  {
   "cell_type": "code",
   "execution_count": null,
   "metadata": {},
   "outputs": [],
   "source": [
    "# 보관 방법 키워드 분석\n",
    "keywords = ['냉장', '냉동', '실온', '서늘한', '밀폐', '신문지', '랩', '비닐', '키친타월']\n",
    "keyword_counts = {}\n",
    "\n",
    "for keyword in keywords:\n",
    "    count = df['storageMethod'].str.contains(keyword, na=False).sum()\n",
    "    keyword_counts[keyword] = count\n",
    "\n",
    "# 시각화\n",
    "fig, (ax1, ax2) = plt.subplots(1, 2, figsize=(14, 6))\n",
    "\n",
    "# 키워드 빈도 막대 그래프\n",
    "sorted_keywords = dict(sorted(keyword_counts.items(), key=lambda x: x[1], reverse=True))\n",
    "ax1.bar(sorted_keywords.keys(), sorted_keywords.values(), color='teal', alpha=0.8)\n",
    "ax1.set_title('보관 방법 주요 키워드 빈도', fontsize=14, fontweight='bold')\n",
    "ax1.set_xlabel('키워드')\n",
    "ax1.set_ylabel('언급 횟수')\n",
    "ax1.tick_params(axis='x', rotation=45)\n",
    "for i, (key, value) in enumerate(sorted_keywords.items()):\n",
    "    ax1.text(i, value, str(value), ha='center', va='bottom')\n",
    "\n",
    "# 보관 방법 유형 분류\n",
    "storage_types = {\n",
    "    '냉장 보관': df['storageMethod'].str.contains('냉장', na=False).sum(),\n",
    "    '냉동 보관': df['storageMethod'].str.contains('냉동', na=False).sum(),\n",
    "    '실온 보관': df['storageMethod'].str.contains('실온|서늘한', na=False).sum(),\n",
    "}\n",
    "\n",
    "ax2.pie(storage_types.values(), labels=storage_types.keys(), autopct='%1.1f%%',\n",
    "        colors=['lightblue', 'lightcoral', 'lightgreen'], startangle=90)\n",
    "ax2.set_title('주요 보관 방법 분류', fontsize=14, fontweight='bold')\n",
    "\n",
    "plt.tight_layout()\n",
    "plt.show()"
   ]
  },
  {
   "cell_type": "markdown",
   "metadata": {},
   "source": [
    "## 6. 인사이트 도출"
   ]
  },
  {
   "cell_type": "code",
   "execution_count": null,
   "metadata": {},
   "outputs": [],
   "source": [
    "# Agent를 통한 인사이트 도출\n",
    "print(\"\\n🔍 데이터 기반 인사이트\")\n",
    "print(\"=\"*60)\n",
    "\n",
    "insights = analyze(\"\"\"\n",
    "전체 데이터를 종합적으로 분석하여 다음 질문에 답해주세요:\n",
    "\n",
    "1. 가장 주목할 만한 패턴 3가지는 무엇인가요?\n",
    "2. 일반 가정에서 실용적으로 활용할 수 있는 식품 보관 팁 3가지를 제시해주세요.\n",
    "3. 카테고리별로 특별히 주의해야 할 점은 무엇인가요?\n",
    "\"\"\")"
   ]
  },
  {
   "cell_type": "code",
   "execution_count": null,
   "metadata": {},
   "outputs": [],
   "source": [
    "# 통계 요약 테이블 생성\n",
    "summary_stats = df.groupby('category').agg({\n",
    "    'name': 'count',\n",
    "    'storageDays': ['mean', 'median', 'min', 'max', 'std']\n",
    "}).round(1)\n",
    "\n",
    "summary_stats.columns = ['개수', '평균일수', '중앙값', '최소일수', '최대일수', '표준편차']\n",
    "summary_stats = summary_stats.sort_values('평균일수', ascending=False)\n",
    "\n",
    "print(\"\\n📊 카테고리별 통계 요약\")\n",
    "print(\"=\"*60)\n",
    "print(summary_stats.to_string())"
   ]
  },
  {
   "cell_type": "markdown",
   "metadata": {},
   "source": [
    "## 7. 실용적 활용 방안"
   ]
  },
  {
   "cell_type": "code",
   "execution_count": null,
   "metadata": {},
   "outputs": [],
   "source": [
    "# 보관 기간별 식품 리스트 생성\n",
    "print(\"\\n📝 보관 기간별 식품 관리 가이드\")\n",
    "print(\"=\"*60)\n",
    "\n",
    "# 단기 보관 식품 (7일 이하)\n",
    "short_term = df[df['storageDays'] <= 7][['name', 'storageDays', 'storageMethod']]\n",
    "print(\"\\n🔴 단기 보관 식품 (1주일 이내 소비 필요)\")\n",
    "print(\"-\" * 40)\n",
    "for _, row in short_term.head(10).iterrows():\n",
    "    print(f\"• {row['name']}: {row['storageDays']}일\")\n",
    "\n",
    "# 중기 보관 식품 (8-30일)\n",
    "mid_term = df[(df['storageDays'] > 7) & (df['storageDays'] <= 30)][['name', 'storageDays']]\n",
    "print(\"\\n🟡 중기 보관 식품 (1주~1달)\")\n",
    "print(\"-\" * 40)\n",
    "for _, row in mid_term.head(10).iterrows():\n",
    "    print(f\"• {row['name']}: {row['storageDays']}일\")\n",
    "\n",
    "# 장기 보관 식품 (30일 초과)\n",
    "long_term = df[df['storageDays'] > 30][['name', 'storageDays']]\n",
    "print(\"\\n🟢 장기 보관 식품 (1달 이상)\")\n",
    "print(\"-\" * 40)\n",
    "for _, row in long_term.head(10).iterrows():\n",
    "    print(f\"• {row['name']}: {row['storageDays']}일\")"
   ]
  },
  {
   "cell_type": "code",
   "execution_count": null,
   "metadata": {},
   "outputs": [],
   "source": [
    "# 최종 요약\n",
    "print(\"\\n📌 분석 결과 요약\")\n",
    "print(\"=\"*60)\n",
    "print(f\"• 총 분석 식품 수: {len(df)}개\")\n",
    "print(f\"• 평균 보관 기간: {df['storageDays'].mean():.1f}일\")\n",
    "print(f\"• 가장 많은 카테고리: {category_counts.index[0]} ({category_counts.values[0]}개)\")\n",
    "print(f\"• 가장 오래 보관 가능: {df.loc[df['storageDays'].idxmax(), 'name']} ({df['storageDays'].max()}일)\")\n",
    "print(f\"• 가장 짧게 보관: {df.loc[df['storageDays'].idxmin(), 'name']} ({df['storageDays'].min()}일)\")\n",
    "print(\"\\n✨ 분석이 완료되었습니다!\")"
   ]
  }
 ],
 "metadata": {
  "kernelspec": {
   "display_name": "Python 3",
   "language": "python",
   "name": "python3"
  },
  "language_info": {
   "codemirror_mode": {
    "name": "ipython",
    "version": 3
   },
   "file_extension": ".py",
   "mimetype": "text/x-python",
   "name": "python",
   "nbconvert_exporter": "python",
   "pygments_lexer": "ipython3",
   "version": "3.11.0"
  }
 },
 "nbformat": 4,
 "nbformat_minor": 4
}