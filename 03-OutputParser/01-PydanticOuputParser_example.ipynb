{
 "cells": [
  {
   "cell_type": "code",
   "execution_count": 15,
   "id": "e55b750c",
   "metadata": {},
   "outputs": [
    {
     "data": {
      "text/plain": [
       "True"
      ]
     },
     "execution_count": 15,
     "metadata": {},
     "output_type": "execute_result"
    }
   ],
   "source": [
    "import os\n",
    "import re\n",
    "from typing import Optional\n",
    "from langchain_core.prompts import PromptTemplate\n",
    "from langchain_core.output_parsers import PydanticOutputParser\n",
    "from pydantic import BaseModel, Field, field_validator\n",
    "from langchain_openai import ChatOpenAI\n",
    "from dotenv import load_dotenv\n",
    "\n",
    "# .env 파일에서 환경 변수를 불러옵니다.\n",
    "# OPENAI_API_KEY가 .env 파일에 설정되어 있어야 합니다.\n",
    "load_dotenv()"
   ]
  },
  {
   "cell_type": "code",
   "execution_count": 16,
   "id": "73d0e77d",
   "metadata": {},
   "outputs": [],
   "source": [
    "# 뉴스 기사 구조를 정의하는 Pydantic 모델입니다.\n",
    "class NewsArticle(BaseModel):\n",
    "    \"\"\"뉴스 기사의 구조화된 정보를 담는 모델\"\"\"\n",
    "\n",
    "    press: str = Field(description=\"언론사 이름\")\n",
    "    news_link: str = Field(description=\"뉴스 기사 링크\")\n",
    "    title: str = Field(description=\"뉴스 기사의 제목\")\n",
    "    subtitle: str = Field(description=\"뉴스 기사의 소제목 (있을 경우)\")\n",
    "    input_time: str = Field(description=\"뉴스 입력 시간\")\n",
    "    modified_time: Optional[str] = Field(\n",
    "        description=\"뉴스 수정 시간 (없을 수 있음)\", default=None\n",
    "    )\n",
    "    reporter_name: str = Field(description=\"취재 기자 이름\")\n",
    "    reporter_email: Optional[str] = Field(\n",
    "        description=\"취재 기자 이메일 (없을 수 있음)\", default=None\n",
    "    )\n",
    "    summary: str = Field(description=\"뉴스 기사 내용의 핵심 요약 (100자 이내)\")\n",
    "    subscribers: int = Field(description=\"뉴스 기사 구독자 수\")\n",
    "    supporters: int = Field(description=\"뉴스 기사 응원자 수\")\n",
    "\n",
    "    @field_validator(\"subscribers\", \"supporters\", mode=\"before\")\n",
    "    def parse_number_from_string(cls, v):\n",
    "        \"\"\"숫자 문자열을 정수로 변환\"\"\"\n",
    "        if isinstance(v, str):\n",
    "            # '2,227' 같은 형식을 정수로 변환\n",
    "            return int(v.replace(\",\", \"\").strip())\n",
    "        return v"
   ]
  },
  {
   "cell_type": "code",
   "execution_count": 17,
   "id": "1d46b2b6",
   "metadata": {},
   "outputs": [
    {
     "name": "stdout",
     "output_type": "stream",
     "text": [
      "The output should be formatted as a JSON instance that conforms to the JSON schema below.\n",
      "\n",
      "As an example, for the schema {\"properties\": {\"foo\": {\"title\": \"Foo\", \"description\": \"a list of strings\", \"type\": \"array\", \"items\": {\"type\": \"string\"}}}, \"required\": [\"foo\"]}\n",
      "the object {\"foo\": [\"bar\", \"baz\"]} is a well-formatted instance of the schema. The object {\"properties\": {\"foo\": [\"bar\", \"baz\"]}} is not well-formatted.\n",
      "\n",
      "Here is the output schema:\n",
      "```\n",
      "{\"description\": \"뉴스 기사의 구조화된 정보를 담는 모델\", \"properties\": {\"press\": {\"description\": \"언론사 이름\", \"title\": \"Press\", \"type\": \"string\"}, \"news_link\": {\"description\": \"뉴스 기사 링크\", \"title\": \"News Link\", \"type\": \"string\"}, \"title\": {\"description\": \"뉴스 기사의 제목\", \"title\": \"Title\", \"type\": \"string\"}, \"subtitle\": {\"description\": \"뉴스 기사의 소제목 (있을 경우)\", \"title\": \"Subtitle\", \"type\": \"string\"}, \"input_time\": {\"description\": \"뉴스 입력 시간\", \"title\": \"Input Time\", \"type\": \"string\"}, \"modified_time\": {\"anyOf\": [{\"type\": \"string\"}, {\"type\": \"null\"}], \"default\": null, \"description\": \"뉴스 수정 시간 (없을 수 있음)\", \"title\": \"Modified Time\"}, \"reporter_name\": {\"description\": \"취재 기자 이름\", \"title\": \"Reporter Name\", \"type\": \"string\"}, \"reporter_email\": {\"anyOf\": [{\"type\": \"string\"}, {\"type\": \"null\"}], \"default\": null, \"description\": \"취재 기자 이메일 (없을 수 있음)\", \"title\": \"Reporter Email\"}, \"summary\": {\"description\": \"뉴스 기사 내용의 핵심 요약 (100자 이내)\", \"title\": \"Summary\", \"type\": \"string\"}, \"subscribers\": {\"description\": \"뉴스 기사 구독자 수\", \"title\": \"Subscribers\", \"type\": \"integer\"}, \"supporters\": {\"description\": \"뉴스 기사 응원자 수\", \"title\": \"Supporters\", \"type\": \"integer\"}}, \"required\": [\"press\", \"news_link\", \"title\", \"subtitle\", \"input_time\", \"reporter_name\", \"summary\", \"subscribers\", \"supporters\"]}\n",
      "```\n"
     ]
    }
   ],
   "source": [
    "# PydanticOutputParser를 초기화합니다.\n",
    "parser = PydanticOutputParser(pydantic_object=NewsArticle)\n",
    "print(parser.get_format_instructions())"
   ]
  },
  {
   "cell_type": "code",
   "execution_count": 18,
   "id": "003a08bf",
   "metadata": {},
   "outputs": [],
   "source": [
    "# 프롬프트 템플릿을 생성합니다.\n",
    "prompt_template = \"\"\"\n",
    "당신은 뉴스 기사를 읽고 아래에 주어진 JSON 형식에 맞게 정보를 추출하여 요약하는 전문가입니다.\n",
    "주어진 형식에 맞게 JSON을 출력해야 합니다.\n",
    "\n",
    "{format_instructions}\n",
    "\n",
    "다음은 요약할 뉴스 기사입니다:\n",
    "{news_article}\n",
    "\"\"\"\n",
    "\n",
    "# PromptTemplate 객체를 생성합니다.\n",
    "prompt = PromptTemplate(\n",
    "    template=prompt_template,\n",
    "    input_variables=[\"news_article\"],\n",
    "    partial_variables={\"format_instructions\": parser.get_format_instructions()},\n",
    ")"
   ]
  },
  {
   "cell_type": "code",
   "execution_count": 6,
   "id": "6b0cfa0c",
   "metadata": {},
   "outputs": [],
   "source": [
    "# 사용자에게 받은 뉴스 기사 텍스트입니다.\n",
    "example_news_article = \"\"\"\n",
    "뉴스기사링크 : https://n.news.naver.com/mnews/article/008/0005237750\n",
    "머니투데이\n",
    "中 저가 공세 맞불...삼성, 10만원대 '갤버즈3 FE' 내달 출격\n",
    "입력2025.08.19. 오전 11:00  수정2025.08.19. 오후 2:06\n",
    "김승한 기자\n",
    "\n",
    "(종합)\n",
    "지난해 출시 '갤버즈3' 하위 파생 모델\n",
    "韓 출고가 10만원 중반 예상, 9월 출시\n",
    "\n",
    "삼성전자가 보급형 무선이어폰 신제품 '갤럭시버즈3 FE(팬에디션)'를 내달 선보인다. 합리적인 가격에 주요 기능을 담아 실속형 소비자층을 겨냥하고, 가성비를 앞세운 중국 업체를 견제하기 위한 전략으로 해석된다.\n",
    "\n",
    "19일 삼성전자에 따르면 갤럭시버즈3 FE는 내달 5일 미국과 유럽을 시작으로 순차 출시된다. 한국도 내달 중 출시된다. 미국 출고가는 149.99달러(약 20만8000원)로, 지난해 7월 나온 '갤럭시버즈3'(179.99달러)보다 30달러(약 4만원) 저렴하다. 반면 전작 격인 '갤럭시버즈 FE'(99.99달러)보다는 50달러(약 7만원) 비싸다. 한국 출고가는 10만원 중반대로 예상되며 출시 시점에 맞춰 확정될 예정이다. 색상은 블랙과 그레이 두 가지다.\n",
    "\n",
    "갤럭시버즈3 FE는 갤럭시버즈3의 주요 기능과 디자인을 유지하면서 가격을 낮춘 하위 파생 모델이다. 삼성은 특히 향상된 액티브 노이즈 캔슬링(ANC) 기능을 강조하며 몰입감 있는 청취 경험을 제공한다고 설명했다.\n",
    "\n",
    "또 마이크 위치를 최적화하고 머신러닝 기반 알고리즘을 적용해 수음 품질을 높였으며, 통화 환경도 개선했다. 블레이드를 쓸거나 집는 등 직관적인 제스처로 볼륨 조절 등 다양한 기능을 사용할 수 있고, 케이스의 페어링 버튼을 통해 스마트폰·태블릿·PC 등 갤럭시 기기와 간편하게 연결할 수 있다. '오토 스위치' 기능으로 기기 간 자동 전환도 지원한다.\n",
    "\n",
    "AI(인공지능) 기능도 강화됐다. '헤이 구글' 명령어나 블레이드 길게 누르기로 삼성의 AI 비서 '제미나이'를 호출할 수 있으며, 일정 확인이나 메시지 조회 등 스마트폰 없이도 음성 대화가 가능하다. 실시간 통역 기능도 지원해 외국어 강의나 해외 여행 등에서 활용도를 높였다.\n",
    "\n",
    "업계에선 삼성이 이번 보급형 신제품 출시를 통해 가성비 제품으로 글로벌 시장을 공략 중인 중국 업체와의 격차를 벌리려는 전략으로 본다. 샤오미, 화웨이 등은 최근 10만원대 안팎의 무선이어폰을 내세워 신흥국뿐 아니라 유럽·동남아 시장까지 영향력을 넓히고 있다. 이들이 가격 경쟁력을 앞세워 빠르게 점유율을 늘려가고 있는 만큼, 삼성도 보급형 라인업 강화로 대응하지 않으면 중저가 시장에서 입지가 더 줄어들 수 있다는 우려가 제기된다.\n",
    "\n",
    "글로벌 시장에서 삼성의 입지는 다소 약화됐다. 시장조사업체 카날리스에 따르면 올해 1분기 전 세계 무선이어폰 시장에서 삼성 점유율은 7.1%로 전년 동기 대비 0.7%포인트 감소했다. 같은 기간 1위인 애플의 점유율도 23.3%로 1.1%포인트 줄었다. 반면 중국 샤오미(11.5%)와 화웨이(6.0%)는 점유율을 확대하며 삼성과 경쟁하고 있다.\n",
    "\n",
    "업계 한 관계자는 \"무선이어폰 시장이 성숙기에 접어들면서 프리미엄만으로는 점유율을 유지하기 어렵다\"며 \"삼성이 FE 모델을 통해 중저가 수요층을 흡수할 수 있다면 애플과 중국 업체 사이에서 균형을 잡는 발판이 될 수 있을 것\"이라고 말했다.\n",
    "김승한 기자 (winone@mt.co.kr)\n",
    "\n",
    "구독자 2,227  \n",
    "응원수 2,121\n",
    "\"\"\""
   ]
  },
  {
   "cell_type": "code",
   "execution_count": 20,
   "id": "c2a63a8e",
   "metadata": {},
   "outputs": [],
   "source": [
    "# 모델을 초기화합니다.\n",
    "model = ChatOpenAI(temperature=0, model_name=\"gpt-4o\")\n",
    "\n",
    "# 프롬프트, 모델, 파서를 체인으로 연결합니다.\n",
    "chain = prompt | model | parser\n",
    "\n",
    "# 체인을 실행하고 요약 결과를 얻습니다.\n",
    "summary_result = chain.invoke({\"news_article\": example_news_article})"
   ]
  },
  {
   "cell_type": "code",
   "execution_count": 21,
   "id": "00395138",
   "metadata": {},
   "outputs": [
    {
     "name": "stdout",
     "output_type": "stream",
     "text": [
      "--- 요약 결과 ---\n",
      "언론사: 머니투데이\n",
      "뉴스 링크: https://n.news.naver.com/mnews/article/008/0005237750\n",
      "제목: 中 저가 공세 맞불...삼성, 10만원대 '갤버즈3 FE' 내달 출격\n",
      "소제목: 지난해 출시 '갤버즈3' 하위 파생 모델\n",
      "韓 출고가 10만원 중반 예상, 9월 출시\n",
      "입력 시간: 2025.08.19. 오전 11:00\n",
      "수정 시간: 2025.08.19. 오후 2:06\n",
      "취재 기자: 김승한\n",
      "기자 이메일: winone@mt.co.kr\n",
      "뉴스 요약: 삼성전자가 가성비를 앞세운 '갤럭시버즈3 FE'를 9월 출시해 중국 업체와 경쟁한다.\n",
      "구독자 수: 2227\n",
      "응원자 수: 2121\n",
      "\n",
      "==================================================\n",
      "\n",
      "--- 생성된 객체 정보 ---\n",
      "타입: <class '__main__.NewsArticle'>\n",
      "내용: press='머니투데이' news_link='https://n.news.naver.com/mnews/article/008/0005237750' title=\"中 저가 공세 맞불...삼성, 10만원대 '갤버즈3 FE' 내달 출격\" subtitle=\"지난해 출시 '갤버즈3' 하위 파생 모델\\n韓 출고가 10만원 중반 예상, 9월 출시\" input_time='2025.08.19. 오전 11:00' modified_time='2025.08.19. 오후 2:06' reporter_name='김승한' reporter_email='winone@mt.co.kr' summary=\"삼성전자가 가성비를 앞세운 '갤럭시버즈3 FE'를 9월 출시해 중국 업체와 경쟁한다.\" subscribers=2227 supporters=2121\n"
     ]
    }
   ],
   "source": [
    "# 결과 출력\n",
    "print(\"--- 요약 결과 ---\")\n",
    "print(f\"언론사: {summary_result.press}\")\n",
    "print(f\"뉴스 링크: {summary_result.news_link}\")\n",
    "print(f\"제목: {summary_result.title}\")\n",
    "print(f\"소제목: {summary_result.subtitle}\")\n",
    "print(f\"입력 시간: {summary_result.input_time}\")\n",
    "print(f\"수정 시간: {summary_result.modified_time}\")\n",
    "print(f\"취재 기자: {summary_result.reporter_name}\")\n",
    "print(f\"기자 이메일: {summary_result.reporter_email}\")\n",
    "print(f\"뉴스 요약: {summary_result.summary}\")\n",
    "print(f\"구독자 수: {summary_result.subscribers}\")\n",
    "print(f\"응원자 수: {summary_result.supporters}\")\n",
    "print(\"\\n\" + \"=\" * 50 + \"\\n\")\n",
    "print(\"--- 생성된 객체 정보 ---\")\n",
    "print(f\"타입: {type(summary_result)}\")\n",
    "print(f\"내용: {summary_result}\")"
   ]
  },
  {
   "cell_type": "code",
   "execution_count": null,
   "id": "e3478844",
   "metadata": {},
   "outputs": [],
   "source": []
  }
 ],
 "metadata": {
  "kernelspec": {
   "display_name": "langchain-kr-hTuzgesB-py3.11",
   "language": "python",
   "name": "python3"
  },
  "language_info": {
   "codemirror_mode": {
    "name": "ipython",
    "version": 3
   },
   "file_extension": ".py",
   "mimetype": "text/x-python",
   "name": "python",
   "nbconvert_exporter": "python",
   "pygments_lexer": "ipython3",
   "version": "3.11.9"
  }
 },
 "nbformat": 4,
 "nbformat_minor": 5
}
