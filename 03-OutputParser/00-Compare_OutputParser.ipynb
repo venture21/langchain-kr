{
 "cells": [
  {
   "cell_type": "markdown",
   "id": "43d1dfb9",
   "metadata": {},
   "source": [
    "### 1. PydanticOutputParser\n",
    "**언제 사용하는가:**\n",
    "* <u>출력 스키마가 복잡하고 **명확하게 정의된 모델**</u>이 필요할 때 사용합니다.\n",
    "* <u>데이터 유효성 검사(validation)</u>가 중요하며, <u>타입 힌트(type hints)를 활용해 개발 효율을 높이고 싶을 때</u> 유용합니다.\n",
    "* Pydantic 모델을 사용하여 중첩된 구조나 복잡한 데이터 타입을 손쉽게 다룰 수 있습니다."
   ]
  },
  {
   "cell_type": "markdown",
   "id": "3391ab2a",
   "metadata": {},
   "source": [
    "**PydanticOutputParser를 복잡하고 명확한 모델에 사용하는 이유** <br>\n",
    "\n",
    "Pydantic은 **데이터 유효성 검사(data validation)**와 **타입 힌트(type hinting)**에 특화된 라이브러리입니다. 이 때문에 랭체인에서 PydanticOutputParser를 사용하면 다음과 같은 장점을 얻을 수 있습니다.\n",
    "\n",
    "자동 유효성 검사: 언어 모델이 생성한 JSON 출력이 우리가 정의한 Pydantic 모델의 스키마를 따르지 않을 경우, Pydantic이 자동으로 오류를 발생시킵니다. 예를 들어, 나이(age) 필드에 문자열이 들어오면 ValidationError를 발생시켜 잘못된 데이터를 미리 걸러낼 수 있습니다.\n",
    "\n",
    "타입 안전성(Type Safety): Pydantic 모델은 Python의 타입 힌트를 적극적으로 활용합니다. 따라서 개발자는 코드 작성 시 IDE의 자동 완성 기능을 활용하거나, 타입 오류를 미리 감지하여 개발 생산성을 높일 수 있습니다.\n",
    "\n",
    "복잡한 구조 처리: Pydantic 모델은 중첩된 모델이나 리스트, 튜플 같은 복잡한 데이터 구조를 손쉽게 정의하고 파싱할 수 있습니다. 예를 들어, Book 모델 안에 Author 모델이 포함된 구조를 직관적으로 설계할 수 있습니다. StructuredOutputParser나 JsonOutputParser로는 이런 중첩 구조를 다루기가 복잡해집니다.\n"
   ]
  },
  {
   "cell_type": "markdown",
   "id": "f521e206",
   "metadata": {},
   "source": []
  },
  {
   "cell_type": "markdown",
   "id": "96d08d6f",
   "metadata": {},
   "source": [
    "### 2. StructuredOutputParser\n",
    "**언제 사용하는가:**\n",
    "* **단순한 구조**의 JSON 출력을 원할 때 사용합니다.\n",
    "* 여러 필드를 가진 객체를 만들고 싶지만, Pydantic 모델처럼 복잡한 유효성 검사가 필요하지 않을 때 적합합니다.\n",
    "* 딕셔너리(dictionary) 형태의 출력을 직접 다루고자 할 때 편리합니다."
   ]
  },
  {
   "cell_type": "markdown",
   "id": "bf437f7d",
   "metadata": {},
   "source": [
    "**StructuredOutputParser를 단순한 구조에 사용하는 이유** <br>\n",
    "StructuredOutputParser는 Pydantic의 복잡한 기능을 필요로 하지 않을 때 매우 유용합니다.\n",
    "\n",
    "간결성: <u>ResponseSchema 리스트를 사용하여 간단하게 출력 스키마를 정의</u>할 수 있습니다. Pydantic 모델을 별도로 생성하고 관리할 필요가 없어 코드가 더 간결해집니다.\n",
    "\n",
    "직관적인 JSON 매핑: StructuredOutputParser는 내부적으로 <u>ResponseSchema에 정의된 키(name)와 설명(description)을 바탕으로 JSON을 생성하도록 언어 모델에 지시</u>합니다. 그 결과, 출력은 우리가 요청한 대로 정확히 키와 값을 가진 딕셔너리가 됩니다.\n",
    "\n",
    "적은 오버헤드: <u>Pydantic 모델을 사용하는 것에 비해 상대적으로 가볍고, 간단한 딕셔너리 형태의 출력을 다루기에 충분</u>합니다. 복잡한 유효성 검사나 타입 힌트가 중요하지 않은 상황이라면 최적의 선택이 될 수 있습니다.\n"
   ]
  },
  {
   "cell_type": "markdown",
   "id": "c5cdd469",
   "metadata": {},
   "source": []
  },
  {
   "cell_type": "markdown",
   "id": "41e46ad0",
   "metadata": {},
   "source": [
    "### 3. JsonOutputParser <br>\n",
    "**언제 사용하는가:**\n",
    "* 언어 모델에게 **자유로운 형태의 JSON 문자열**을 받아서 파싱하고 싶을 때 사용합니다.\n",
    "* 정해진 스키마가 없거나, 출력이 동적으로 변할 수 있을 때 유연하게 대처할 수 있습니다.\n",
    "* 모델이 생성한 JSON 문자열을 그대로 받아 파이썬 딕셔너리로 변환하는 가장 간단한 방법입니다."
   ]
  },
  {
   "cell_type": "markdown",
   "id": "6ef18ecd",
   "metadata": {},
   "source": [
    "**JsonOutputParser는 가장 유연하고 간단한 JSON 파서입니다.**\n",
    "\n",
    "스키마의 제약 없음: 이 파서는 특정 스키마를 강제하지 않습니다. 언어 모델이 생성하는 모든 유효한 JSON 문자열을 파이썬 딕셔너리로 변환해 줍니다. 따라서 출력이 동적으로 변하거나, 사전에 정확한 스키마를 정의하기 어려운 상황에 적합합니다.\n",
    "\n",
    "가장 기본적인 JSON 변환: JsonOutputParser의 유일한 역할은 출력 문자열이 JSON 형식을 따르는지 확인하고, 이를 파이썬 딕셔너리 객체로 변환하는 것입니다. 만약 문자열이 유효한 JSON이 아니라면 OutputParserException을 발생시켜 오류를 알려줍니다.\n",
    "\n",
    "최소한의 오버헤드: 다른 파서들처럼 추가적인 스키마 정의나 유효성 검사 로직이 없으므로, 가장 간단하고 빠르게 JSON 출력을 처리할 수 있습니다. 예를 들어, 모델에게 단순히 JSON 데이터를 요청하고, 이후 로직에서 직접 키를 확인하며 데이터를 처리할 경우 유용합니다.\n"
   ]
  },
  {
   "cell_type": "markdown",
   "id": "935640a7",
   "metadata": {},
   "source": [
    "### **JsonOutputParser에 pydantic_object**를 입력 VS **PydanticOutputParser**"
   ]
  },
  {
   "cell_type": "markdown",
   "id": "f8bb0ec4",
   "metadata": {},
   "source": [
    "#### **JsonOutputParser의 역할**\n",
    "기본적으로 \"모델이 생성한 JSON 문자열을 파이썬 딕셔너리로 변환하는\" 역할만 수행합니다. 이 파서는 Pydantic 객체를 인자로 받더라도, **데이터 유효성 검사(validation)**나 타입 변환을 직접 수행하지 않습니다. 대신, Pydantic 모델을 활용하여 모델에게 JSON 출력의 **형식을 지시하는 프롬프트(prompt)**를 생성할 뿐입니다."
   ]
  },
  {
   "cell_type": "markdown",
   "id": "1d23f535",
   "metadata": {},
   "source": [
    "#### **PydanticOutputParser의 역할**\n",
    "반면, PydanticOutputParser는 **\"JSON 파싱\"**과 **\"Pydantic 모델에 기반한 데이터 유효성 검사\"**를 모두 수행합니다.\n",
    "\n",
    "PydanticOutputParser는 다음과 같은 단계를 거칩니다.\n",
    "\n",
    "언어 모델이 생성한 JSON 문자열을 받습니다.\n",
    "\n",
    "이 JSON 문자열을 파이썬 딕셔너리로 변환합니다.\n",
    "\n",
    "변환된 딕셔너리 데이터를 Pydantic 모델에 전달하여 유효성 검사(validation)를 수행합니다.\n",
    "\n",
    "유효성 검사에 성공하면, 해당 Pydantic 객체의 인스턴스를 반환합니다. 만약 유효성 검사에 실패하면 **ValidationError**를 발생시켜 잘못된 데이터를 즉시 알려줍니다."
   ]
  },
  {
   "cell_type": "markdown",
   "id": "c4b3e4e1",
   "metadata": {},
   "source": [
    "![alt text](image.png)"
   ]
  },
  {
   "cell_type": "markdown",
   "id": "e72735f0",
   "metadata": {},
   "source": []
  }
 ],
 "metadata": {
  "language_info": {
   "name": "python"
  }
 },
 "nbformat": 4,
 "nbformat_minor": 5
}
