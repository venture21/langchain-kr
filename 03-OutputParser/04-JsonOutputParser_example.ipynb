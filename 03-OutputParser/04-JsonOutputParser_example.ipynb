{
 "cells": [
  {
   "cell_type": "code",
   "execution_count": 1,
   "id": "f1334cf3",
   "metadata": {},
   "outputs": [
    {
     "name": "stderr",
     "output_type": "stream",
     "text": [
      "c:\\Users\\park0\\AppData\\Local\\pypoetry\\Cache\\virtualenvs\\langchain-kr-hTuzgesB-py3.11\\Lib\\site-packages\\IPython\\core\\interactiveshell.py:3699: LangChainDeprecationWarning: As of langchain-core 0.3.0, LangChain uses pydantic v2 internally. The langchain_core.pydantic_v1 module was a compatibility shim for pydantic v1, and should no longer be used. Please update the code to import from Pydantic directly.\n",
      "\n",
      "For example, replace imports like: `from langchain_core.pydantic_v1 import BaseModel`\n",
      "with: `from pydantic import BaseModel`\n",
      "or the v1 compatibility namespace if you are working in a code base that has not been fully upgraded to pydantic 2 yet. \tfrom pydantic.v1 import BaseModel\n",
      "\n",
      "  exec(code_obj, self.user_global_ns, self.user_ns)\n"
     ]
    },
    {
     "data": {
      "text/plain": [
       "True"
      ]
     },
     "execution_count": 1,
     "metadata": {},
     "output_type": "execute_result"
    }
   ],
   "source": [
    "import os\n",
    "from langchain_openai import ChatOpenAI\n",
    "from langchain_core.prompts import PromptTemplate\n",
    "from langchain_core.output_parsers import JsonOutputParser\n",
    "from langchain_core.pydantic_v1 import BaseModel, Field\n",
    "from typing import List\n",
    "from dotenv import load_dotenv\n",
    "\n",
    "# .env 파일에서 환경 변수를 불러옵니다.\n",
    "# OPENAI_API_KEY가 .env 파일에 설정되어 있어야 합니다.\n",
    "load_dotenv()"
   ]
  },
  {
   "cell_type": "code",
   "execution_count": null,
   "id": "3295c074",
   "metadata": {},
   "outputs": [],
   "source": [
    "# 1. 추출할 데이터의 구조를 Pydantic 모델로 정의합니다.\n",
    "class Ingredient(BaseModel):\n",
    "    name: str = Field(description=\"재료의 이름\")\n",
    "    quantity: str = Field(description=\"재료의 양 (예: 1개, 200g, 1큰술)\")\n",
    "\n",
    "\n",
    "class Recipe(BaseModel):\n",
    "    recipe_name: str = Field(description=\"레시피의 이름\")\n",
    "    ingredients: List[Ingredient] = Field(description=\"필요한 재료 목록\")\n",
    "    instructions: List[str] = Field(description=\"요리 순서 목록\")\n",
    "    serving_for: int = Field(description=\"몇 인분 기준인지\")\n",
    "\n",
    "\n",
    "# 2. Pydantic 모델을 사용하여 출력 파서를 생성합니다.\n",
    "parser = JsonOutputParser(pydantic_object=Recipe)\n",
    "\n",
    "# 3. LLM에게 지시할 프롬프트 템플릿을 만듭니다.\n",
    "#    format_instructions는 파서에서 자동으로 생성된 JSON 형식 지침입니다.\n",
    "prompt = PromptTemplate(\n",
    "    template=\"\"\"아래 레시피 텍스트를 분석해서 요청한 JSON 형식으로 정보를 추출해줘.\n",
    "\n",
    "{format_instructions}\n",
    "\n",
    "--- 레시피 텍스트 ---\n",
    "{recipe_text}\n",
    "\"\"\",\n",
    "    input_variables=[\"recipe_text\"],\n",
    "    partial_variables={\"format_instructions\": parser.get_format_instructions()},\n",
    ")\n",
    "\n",
    "# 4. 분석할 레시피 텍스트\n",
    "recipe_text = \"\"\"\n",
    "매콤달콤한 닭갈비 레시피 (2인분 기준)\n",
    "\n",
    "닭갈비를 만들기 위해 먼저 닭다리살 500g을 먹기 좋게 자릅니다. \n",
    "그리고 고추장 3큰술, 간장 1큰술, 다진 마늘 1큰술, 설탕 1큰술을 섞어 양념장을 만드세요. \n",
    "양배추 1/4개와 고구마 1개를 썰어 준비합니다.\n",
    "준비된 닭고기를 양념장에 30분간 재워둡니다.\n",
    "팬에 기름을 두르고 재워둔 닭고기와 썰어둔 채소를 넣고 15분간 볶으면 완성!\n",
    "\"\"\""
   ]
  },
  {
   "cell_type": "code",
   "execution_count": null,
   "id": "a7c01a5a",
   "metadata": {},
   "outputs": [
    {
     "name": "stdout",
     "output_type": "stream",
     "text": [
      "{\n",
      "  \"recipe_name\": \"매콤달콤한 닭갈비\",\n",
      "  \"ingredients\": [\n",
      "    {\n",
      "      \"name\": \"닭다리살\",\n",
      "      \"quantity\": \"500g\"\n",
      "    },\n",
      "    {\n",
      "      \"name\": \"고추장\",\n",
      "      \"quantity\": \"3큰술\"\n",
      "    },\n",
      "    {\n",
      "      \"name\": \"간장\",\n",
      "      \"quantity\": \"1큰술\"\n",
      "    },\n",
      "    {\n",
      "      \"name\": \"다진 마늘\",\n",
      "      \"quantity\": \"1큰술\"\n",
      "    },\n",
      "    {\n",
      "      \"name\": \"설탕\",\n",
      "      \"quantity\": \"1큰술\"\n",
      "    },\n",
      "    {\n",
      "      \"name\": \"양배추\",\n",
      "      \"quantity\": \"1/4개\"\n",
      "    },\n",
      "    {\n",
      "      \"name\": \"고구마\",\n",
      "      \"quantity\": \"1개\"\n",
      "    }\n",
      "  ],\n",
      "  \"instructions\": [\n",
      "    \"닭다리살 500g을 먹기 좋게 자릅니다.\",\n",
      "    \"고추장 3큰술, 간장 1큰술, 다진 마늘 1큰술, 설탕 1큰술을 섞어 양념장을 만듭니다.\",\n",
      "    \"양배추 1/4개와 고구마 1개를 썰어 준비합니다.\",\n",
      "    \"준비된 닭고기를 양념장에 30분간 재워둡니다.\",\n",
      "    \"팬에 기름을 두르고 재워둔 닭고기와 썰어둔 채소를 넣고 15분간 볶습니다.\"\n",
      "  ],\n",
      "  \"serving_for\": 2\n",
      "}\n"
     ]
    }
   ],
   "source": [
    "# 모델과 체인 생성\n",
    "model = ChatOpenAI(model=\"gpt-4o\", temperature=0)\n",
    "chain = prompt | model | parser\n",
    "\n",
    "# 체인 실행 및 결과 확인\n",
    "result = chain.invoke({\"recipe_text\": recipe_text})\n",
    "\n",
    "# 결과 출력\n",
    "import json\n",
    "\n",
    "print(json.dumps(result, indent=2, ensure_ascii=False))"
   ]
  },
  {
   "cell_type": "code",
   "execution_count": null,
   "id": "a2b803e2",
   "metadata": {},
   "outputs": [],
   "source": []
  }
 ],
 "metadata": {
  "kernelspec": {
   "display_name": "langchain-kr-hTuzgesB-py3.11",
   "language": "python",
   "name": "python3"
  },
  "language_info": {
   "codemirror_mode": {
    "name": "ipython",
    "version": 3
   },
   "file_extension": ".py",
   "mimetype": "text/x-python",
   "name": "python",
   "nbconvert_exporter": "python",
   "pygments_lexer": "ipython3",
   "version": "3.11.9"
  }
 },
 "nbformat": 4,
 "nbformat_minor": 5
}
