{
 "cells": [
  {
   "cell_type": "markdown",
   "id": "8af0f6cc",
   "metadata": {},
   "source": [
    "### RunnablePassthrough()"
   ]
  },
  {
   "cell_type": "code",
   "execution_count": null,
   "id": "82c26c67",
   "metadata": {},
   "outputs": [
    {
     "name": "stdout",
     "output_type": "stream",
     "text": [
      "물론입니다! 일본에서 추천하는 여행지 3곳을 소개해드릴게요:\n",
      "\n",
      "1. 교토 (Kyoto)  \n",
      "전통과 현대가 어우러진 도시로, 기온 거리, 금각사(금閣寺), 기요미즈사(기요미즈데라) 등 아름다운 사찰과 전통 건축물을 즐기실 수 있습니다. 계절마다 다른 풍경과 일본 전통문화를 체험하기에 좋은 곳입니다.\n",
      "\n",
      "2. 도쿄 (Tokyo)  \n",
      "일본의 수도로서 현대적인 도시 풍경과 전통이 공존하는 곳입니다. 신주쿠, 시부야, 아사쿠사(센소지 사원) 등 다양한 명소와 쇼핑, 맛집, 엔터테인먼트 시설이 가득해 활기찬 분위기를 느끼실 수 있습니다.\n",
      "\n",
      "3. 오사카 (Osaka)  \n",
      "맛집과 활기찬 거리 분위기로 유명한 도시입니다. 오사카 성, 도톤보리 강가의 야간 풍경, 그리고 유니버설 스튜디오 일본(USJ) 등 다양한 엔터테인먼트 시설이 있어 즐거운 여행을 하실 수 있습니다.\n",
      "\n",
      "이 세 곳은 일본의 다양한 매력을 느끼실 수 있는 대표적인 여행지입니다. 행복한 여행 되세요!\n"
     ]
    }
   ],
   "source": [
    "# 필요한 라이브러리 임포트\n",
    "from langchain_openai import ChatOpenAI\n",
    "from langchain_core.prompts import ChatPromptTemplate\n",
    "from langchain_core.runnables import RunnablePassthrough\n",
    "from langchain_core.output_parsers import StrOutputParser\n",
    "\n",
    "# 모델 초기화\n",
    "model = ChatOpenAI(model=\"gpt-4.1-nano\")\n",
    "prompt = ChatPromptTemplate.from_template(\n",
    "    \"{country}의 여행 할 만한 여행지를 3곳만 추천해줘.\"\n",
    ")\n",
    "chain1 = {\"country\": RunnablePassthrough()} | prompt | model | StrOutputParser()\n",
    "\n",
    "print(chain1.invoke({\"topic\": \"일본\"}))"
   ]
  },
  {
   "cell_type": "code",
   "execution_count": null,
   "id": "69347e83",
   "metadata": {},
   "outputs": [
    {
     "name": "stdout",
     "output_type": "stream",
     "text": [
      "김포공항에서 일본으로 직항 편이 운항되는 주요 공항 중 추천드릴 만한 공항은 다음과 같습니다:\n",
      "\n",
      "1. 도쿄 하네다 공항 (HND)  \n",
      "2. 오사카 간사이 공항 (KIX)  \n",
      "3. 후쿠오카 공항 (FUK)  \n",
      "\n",
      "이 공항들은 한국과 일본 간의 직항 노선이 많아 편리하게 이동하실 수 있습니다. 여행 일정과 항공사 소요 시간 등을 고려하여 선택하시면 좋겠습니다.\n"
     ]
    }
   ],
   "source": [
    "prompt = ChatPromptTemplate.from_template(\n",
    "    \"김포공항에서 {country}을 직항으로 갈 수 있는 공항을 3개만 추천해줘\"\n",
    ")\n",
    "chain2 = {\"country\": RunnablePassthrough()} | prompt | model | StrOutputParser()\n",
    "print(chain2.invoke({\"country\": \"일본\"}))"
   ]
  },
  {
   "cell_type": "markdown",
   "id": "78ef1ce0",
   "metadata": {},
   "source": [
    "### RunnablePassthrough() + RunnableParallel()"
   ]
  },
  {
   "cell_type": "code",
   "execution_count": 1,
   "id": "8387a68a",
   "metadata": {},
   "outputs": [
    {
     "data": {
      "text/plain": [
       "{\n",
       "  travel_info: {\n",
       "                 country: RunnablePassthrough()\n",
       "               }\n",
       "               | ChatPromptTemplate(input_variables=['country'], input_types={}, partial_variables={}, messages=[HumanMessagePromptTemplate(prompt=PromptTemplate(input_variables=['country'], input_types={}, partial_variables={}, template='{country}의 여행할 만한 여행지를 3곳만 추천하고, 각 장소의 특징을 한 줄로 설명해줘.'), additional_kwargs={})])\n",
       "               | ChatOpenAI(client=<openai.resources.chat.completions.completions.Completions object at 0x0000021CB40E7910>, async_client=<openai.resources.chat.completions.completions.AsyncCompletions object at 0x0000021CB41C0490>, root_client=<openai.OpenAI object at 0x0000021CB3C91150>, root_async_client=<openai.AsyncOpenAI object at 0x0000021CB41ABF50>, model_name='gpt-4o-mini', model_kwargs={}, openai_api_key=SecretStr('**********'))\n",
       "               | StrOutputParser(),\n",
       "  flight_info: {\n",
       "                 country: RunnablePassthrough()\n",
       "               }\n",
       "               | ChatPromptTemplate(input_variables=['country'], input_types={}, partial_variables={}, messages=[HumanMessagePromptTemplate(prompt=PromptTemplate(input_variables=['country'], input_types={}, partial_variables={}, template='대한민국 김포공항에서 {country}(으)로 갈 수 있는 직항 공항을 3개만 알려줘.'), additional_kwargs={})])\n",
       "               | ChatOpenAI(client=<openai.resources.chat.completions.completions.Completions object at 0x0000021CB40E7910>, async_client=<openai.resources.chat.completions.completions.AsyncCompletions object at 0x0000021CB41C0490>, root_client=<openai.OpenAI object at 0x0000021CB3C91150>, root_async_client=<openai.AsyncOpenAI object at 0x0000021CB41ABF50>, model_name='gpt-4o-mini', model_kwargs={}, openai_api_key=SecretStr('**********'))\n",
       "               | StrOutputParser()\n",
       "}"
      ]
     },
     "execution_count": 1,
     "metadata": {},
     "output_type": "execute_result"
    }
   ],
   "source": [
    "# 필요한 라이브러리 임포트\n",
    "from langchain_openai import ChatOpenAI\n",
    "from langchain_core.prompts import ChatPromptTemplate\n",
    "from langchain_core.runnables import RunnablePassthrough, RunnableParallel\n",
    "from langchain_core.output_parsers import StrOutputParser\n",
    "import json\n",
    "\n",
    "# 모델 초기화 (gpt-4o-mini는 빠르고 저렴하여 테스트에 용이합니다)\n",
    "model = ChatOpenAI(model=\"gpt-4o-mini\")\n",
    "\n",
    "# 1. 여행지 추천 체인\n",
    "prompt1 = ChatPromptTemplate.from_template(\n",
    "    \"{country}의 여행할 만한 여행지를 3곳만 추천하고, 각 장소의 특징을 한 줄로 설명해줘.\"\n",
    ")\n",
    "chain1 = (\n",
    "    # 입력이 문자열일 때, {\"country\": 입력값} 형태로 변환해 프롬프트에 전달\n",
    "    {\"country\": RunnablePassthrough()}\n",
    "    | prompt1\n",
    "    | model\n",
    "    | StrOutputParser()\n",
    ")\n",
    "\n",
    "# 2. 직항 공항 추천 체인\n",
    "prompt2 = ChatPromptTemplate.from_template(\n",
    "    \"대한민국 김포공항에서 {country}(으)로 갈 수 있는 직항 공항을 3개만 알려줘.\"\n",
    ")\n",
    "chain2 = {\"country\": RunnablePassthrough()} | prompt2 | model | StrOutputParser()\n",
    "\n",
    "# 3. RunnableParallel을 사용하여 두 체인 통합\n",
    "# 'travel_info'와 'flight_info'라는 키로 각 체인의 결과를 받음\n",
    "combined_chain = RunnableParallel(travel_info=chain1, flight_info=chain2)\n",
    "\n",
    "combined_chain"
   ]
  },
  {
   "cell_type": "code",
   "execution_count": 2,
   "id": "0372e205",
   "metadata": {},
   "outputs": [
    {
     "name": "stdout",
     "output_type": "stream",
     "text": [
      "1. **교토 (Kyoto)**: 전통적인 일본의 아름다움이 가득한 도시로, 수백 년의 역사를 간직한 사원과 정원이 매력적입니다.\n",
      "\n",
      "2. **후지산 (Mount Fuji)**: 일본의 상징적인 경관으로, 아름다운 경치를 제공하며 하이킹과 사진 촬영에 최적의 장소입니다.\n",
      "\n",
      "3. **오사카 (Osaka)**: 미식과 쇼핑의 중심지로, 다채로운 길거리 음식과 활기찬 엔터테인먼트 거리가 유명합니다.\n",
      "======================================================================\n",
      "대한민국 김포공항에서 일본으로 갈 수 있는 직항 공항은 다음과 같습니다:\n",
      "\n",
      "1. 도쿄 하네다공항 (Haneda Airport, HND)\n",
      "2. 오사카 간사이공항 (Kansai International Airport, KIX)\n",
      "3. 후쿠오카 공항 (Fukuoka Airport, FUK)\n",
      "\n",
      "이 외에도 다른 일본의 도시로 가는 직항 노선이 있을 수 있습니다. 정확한 일정 및 항공편 정보는 항공사나 공항의 공식 웹사이트를 통해 확인하시기 바랍니다.\n"
     ]
    }
   ],
   "source": [
    "# 4. 통합된 체인 실행\n",
    "# \"일본\"이라는 하나의 입력값이 chain1과 chain2에 동시에 전달됨\n",
    "result = combined_chain.invoke(\"일본\")\n",
    "\n",
    "print(result[\"travel_info\"])  # 여행지 추천 결과\n",
    "print(\"=\" * 70)\n",
    "print(result[\"flight_info\"])  # 직항 공항 추천 결과"
   ]
  },
  {
   "cell_type": "markdown",
   "id": "62ade0c3",
   "metadata": {},
   "source": [
    "### RunnableLambda"
   ]
  },
  {
   "cell_type": "code",
   "execution_count": 3,
   "id": "acc8074c",
   "metadata": {},
   "outputs": [
    {
     "name": "stdout",
     "output_type": "stream",
     "text": [
      "🌍 랜덤 선택된 나라: 프랑스\n",
      "\n",
      "--- 최종 결과 ---\n",
      "{\n",
      "  \"travel_info\": \"프랑스의 매력적인 여행지 3곳을 추천합니다:\\n\\n1. **파리 (Paris)**: 에펠탑과 루브르 박물관 등 세계적인 명소가 가득한 로맨틱한 도시입니다.\\n2. **프로방스 (Provence)**: 아름다운 라벤더 밭과 따뜻한 햇살, 전통적인 마을 풍경이 조화를 이루는 지역입니다.\\n3. **샤모니 (Chamonix)**: 몽블랑의 비경을 감상할 수 있는 알프스의 스키와 하이킹 명소로, 자연을 사랑하는 이들에게 최적의 장소입니다.\",\n",
      "  \"flight_info\": \"대한민국 김포공항에서 프랑스로 갈 수 있는 직항 공항은 다음과 같습니다:\\n\\n1. 파리 샤를 드 골 공항 (CDG)\\n2. 니스 코트다쥐르 공항 (NCE)\\n3. 리옹 생_exupéry 공항 (LYS)\\n\\n위의 공항들은 김포공항에서 직항 서비스를 제공하는 주요 프랑스 공항입니다. 다만, 항공편의 운항 여부는 시기에 따라 다를 수 있으니 확인이 필요합니다.\"\n",
      "}\n"
     ]
    }
   ],
   "source": [
    "# 필요한 라이브러리 임포트\n",
    "from langchain_openai import ChatOpenAI\n",
    "from langchain_core.prompts import ChatPromptTemplate\n",
    "from langchain_core.runnables import (\n",
    "    RunnablePassthrough,\n",
    "    RunnableParallel,\n",
    "    RunnableLambda,\n",
    ")\n",
    "from langchain_core.output_parsers import StrOutputParser\n",
    "import json\n",
    "import random  # random 라이브러리 추가\n",
    "\n",
    "# --- (이전 코드와 동일한 부분) ---\n",
    "\n",
    "# 모델 초기화 (gpt-4o-mini는 빠르고 저렴하여 테스트에 용이합니다)\n",
    "model = ChatOpenAI(model=\"gpt-4o-mini\")\n",
    "\n",
    "# 1. 여행지 추천 체인\n",
    "prompt1 = ChatPromptTemplate.from_template(\n",
    "    \"{country}의 여행할 만한 여행지를 3곳만 추천하고, 각 장소의 특징을 한 줄로 설명해줘.\"\n",
    ")\n",
    "chain1 = {\"country\": RunnablePassthrough()} | prompt1 | model | StrOutputParser()\n",
    "\n",
    "# 2. 직항 공항 추천 체인\n",
    "prompt2 = ChatPromptTemplate.from_template(\n",
    "    \"대한민국 김포공항에서 {country}(으)로 갈 수 있는 직항 공항을 3개만 알려줘.\"\n",
    ")\n",
    "chain2 = {\"country\": RunnablePassthrough()} | prompt2 | model | StrOutputParser()\n",
    "\n",
    "# 3. RunnableParallel을 사용하여 두 체인 통합\n",
    "combined_chain = RunnableParallel(travel_info=chain1, flight_info=chain2)\n",
    "\n",
    "\n",
    "# 4. 국가를 랜덤으로 선택하는 함수 정의\n",
    "def choice_country(_):  # LangChain 체인과 연결하기 위해 입력 인자를 받도록 정의합니다.\n",
    "    \"\"\"주어진 리스트에서 국가를 하나 랜덤으로 선택합니다.\"\"\"\n",
    "    countries = [\"미국\", \"영국\", \"프랑스\", \"일본\", \"스위스\"]\n",
    "    selected_country = random.choice(countries)\n",
    "\n",
    "    # 어떤 나라가 선택되었는지 확인하기 위해 출력\n",
    "    print(f\"🌍 랜덤 선택된 나라: {selected_country}\")\n",
    "\n",
    "    return selected_country\n",
    "\n",
    "\n",
    "# 5. RunnableLambda로 함수를 체인에 통합하고 최종 체인 완성\n",
    "# [나라 선택 함수] -> [기존의 병렬 체인] 순서로 실행\n",
    "final_chain = RunnableLambda(choice_country) | combined_chain\n",
    "\n",
    "# 6. 최종 체인 실행\n",
    "# 입력값이 필요 없으므로 None을 전달 (또는 비워둠)\n",
    "result = final_chain.invoke(None)\n",
    "\n",
    "# 7. 결과 출력\n",
    "print(\"\\n--- 최종 결과 ---\")\n",
    "print(json.dumps(result, indent=2, ensure_ascii=False))"
   ]
  },
  {
   "cell_type": "markdown",
   "id": "61b816a8",
   "metadata": {},
   "source": [
    "### itemgetter()"
   ]
  },
  {
   "cell_type": "code",
   "execution_count": null,
   "id": "dc11c70b",
   "metadata": {},
   "outputs": [
    {
     "name": "stdout",
     "output_type": "stream",
     "text": [
      "\n",
      "딕셔너리 나이 정렬: [{'name': '김유신', 'age': 22, 'score': 76}, {'name': '홍길동', 'age': 25, 'score': 88}, {'name': '이순신', 'age': 32, 'score': 95}]\n",
      "가져온 항목: ('홍길동', 88)\n",
      "가져온 항목: ('이순신', 95)\n",
      "가져온 항목: ('김유신', 76)\n"
     ]
    }
   ],
   "source": [
    "from operator import itemgetter\n",
    "\n",
    "students_dict = [\n",
    "    {\"name\": \"홍길동\", \"age\": 25, \"score\": 88},\n",
    "    {\"name\": \"이순신\", \"age\": 32, \"score\": 95},\n",
    "    {\"name\": \"김유신\", \"age\": 22, \"score\": 76},\n",
    "]\n",
    "\n",
    "# 딕셔너리의 'age' 키로 정렬\n",
    "sorted_by_age = sorted(students_dict, key=itemgetter(\"age\"))\n",
    "print(f\"\\n딕셔너리 나이 정렬: {sorted_by_age}\")\n",
    "\n",
    "# 여러 항목(이름과 점수)을 한 번에 가져오기\n",
    "get_name_and_score = itemgetter(\"name\", \"score\")\n",
    "for student in students_dict:\n",
    "    print(f\"가져온 항목: {get_name_and_score(student)}\")"
   ]
  },
  {
   "cell_type": "code",
   "execution_count": null,
   "id": "73a942f3",
   "metadata": {},
   "outputs": [],
   "source": []
  }
 ],
 "metadata": {
  "kernelspec": {
   "display_name": "langchain-kr-hTuzgesB-py3.11",
   "language": "python",
   "name": "python3"
  },
  "language_info": {
   "codemirror_mode": {
    "name": "ipython",
    "version": 3
   },
   "file_extension": ".py",
   "mimetype": "text/x-python",
   "name": "python",
   "nbconvert_exporter": "python",
   "pygments_lexer": "ipython3",
   "version": "3.11.9"
  }
 },
 "nbformat": 4,
 "nbformat_minor": 5
}
