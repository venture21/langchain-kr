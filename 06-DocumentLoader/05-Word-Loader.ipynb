{
 "cells": [
  {
   "cell_type": "markdown",
   "id": "7d7a0833",
   "metadata": {},
   "source": [
    "# Microsoft Word"
   ]
  },
  {
   "cell_type": "markdown",
   "id": "ef449d48",
   "metadata": {},
   "source": [
    "[Microsoft Word](https://www.microsoft.com/en-us/microsoft-365/word)는 Microsoft에서 개발한 워드 프로세서입니다.\n",
    "\n",
    "이는 `Word` 문서를 하류에서 사용할 수 있는 문서 형식으로 로드하는 방법을 다룹니다."
   ]
  },
  {
   "cell_type": "markdown",
   "id": "6e96cbf8",
   "metadata": {},
   "source": [
    "## Docx2txtLoader\n",
    "\n",
    "`Docx2txt`를 사용하여 .docx 파일을 문서로 불러올 수 있습니다."
   ]
  },
  {
   "cell_type": "code",
   "execution_count": null,
   "id": "8f81065c",
   "metadata": {},
   "outputs": [],
   "source": [
    "# 설치\n",
    "# !pip install -qU docx2txt"
   ]
  },
  {
   "cell_type": "code",
   "execution_count": 9,
   "id": "f6a2aca3",
   "metadata": {},
   "outputs": [
    {
     "name": "stdout",
     "output_type": "stream",
     "text": [
      "1\n"
     ]
    }
   ],
   "source": [
    "from langchain_community.document_loaders import Docx2txtLoader\n",
    "\n",
    "loader = Docx2txtLoader(\"./data/sample-word-document.docx\")  # 문서 로더 초기화\n",
    "\n",
    "docs = loader.load()  # 문서 로딩\n",
    "\n",
    "print(len(docs))"
   ]
  },
  {
   "cell_type": "code",
   "execution_count": 10,
   "id": "10f68106",
   "metadata": {},
   "outputs": [
    {
     "name": "stdout",
     "output_type": "stream",
     "text": [
      "Semantic Search\n",
      "\n",
      "\n",
      "\n",
      "정의: 의미론적 검색은 사용자의 질의를 단순한 키워드 매칭을 넘어서 그 의미를 파악하여 관련된 결과를 반환하는 검색 방식입니다.\n",
      "\n",
      "예시: 사용자가 \"태양계 행성\"이라고 검색하면, \"목성\", \"화성\" 등과 같이 관련된 행성에 대한 정보를 반환합니다.\n",
      "\n",
      "연관키워드: 자연어 처리, 검색 알고리즘, 데이터 마이닝\n",
      "\n",
      "\n",
      "\n",
      "Embedding\n",
      "\n",
      "\n",
      "\n",
      "정의: 임베딩은 단어나 문장 같은 텍스트 데이터를 저차원의 연속적인 벡터로 변환하는 과정입니다. 이를 통해 컴퓨터가 텍스트를 이해하고 처리할 수 있게 합니다.\n",
      "\n",
      "예시:\n"
     ]
    }
   ],
   "source": [
    "print(docs[0].page_content[:300]) "
   ]
  },
  {
   "cell_type": "markdown",
   "id": "e24d9063",
   "metadata": {},
   "source": [
    "## UnstructuredWordDocumentLoader"
   ]
  },
  {
   "cell_type": "code",
   "execution_count": 6,
   "id": "1dc03484",
   "metadata": {},
   "outputs": [
    {
     "name": "stdout",
     "output_type": "stream",
     "text": [
      "1\n"
     ]
    }
   ],
   "source": [
    "from langchain_community.document_loaders import UnstructuredWordDocumentLoader\n",
    "\n",
    "# 비구조화된 워드 문서 로더 인스턴스화\n",
    "loader = UnstructuredWordDocumentLoader(\"./data/sample-word-document.docx\")\n",
    "\n",
    "# 문서 로드\n",
    "docs = loader.load()\n",
    "\n",
    "print(len(docs))"
   ]
  },
  {
   "cell_type": "code",
   "execution_count": 8,
   "id": "e357e33d",
   "metadata": {},
   "outputs": [
    {
     "name": "stdout",
     "output_type": "stream",
     "text": [
      "Semantic Search\n",
      "\n",
      "정의: 의미론적 검색은 사용자의 질의를 단순한 키워드 매칭을 넘어서 그 의미를 파악하여 관련된 결과를 반환하는 검색 방식입니다.\n",
      "\n",
      "예시: 사용자가 \"태양계 행성\"이라고 검색하면, \"목성\", \"화성\" 등과 같이 관련된 행성에 대한 정보를 반환합니다.\n",
      "\n",
      "연관키워드: 자연어 처리, 검색 알고리즘, 데이터 마이닝\n",
      "\n",
      "Embedding\n",
      "\n",
      "정의: 임베딩은 단어나 문장 같은 텍스트 데이터를 저차원의 연속적인 벡터로 변환하는 과정입니다. 이를 통해 컴퓨터가 텍스트를 이해하고 처리할 수 있게 합니다.\n",
      "\n",
      "예시: \"사과\"라\n"
     ]
    }
   ],
   "source": [
    "print(docs[0].page_content[:300])  # 첫 번째 문서의 내용 출력"
   ]
  },
  {
   "cell_type": "markdown",
   "id": "068e707b",
   "metadata": {},
   "source": [
    "결과는 1개의 단일 Document 로 로드됩니다."
   ]
  },
  {
   "cell_type": "code",
   "execution_count": null,
   "id": "2714f05c",
   "metadata": {},
   "outputs": [],
   "source": [
    "# metadata 출력\n",
    "print(docs[0].metadata)"
   ]
  },
  {
   "cell_type": "markdown",
   "id": "4e083d7f",
   "metadata": {},
   "source": [
    "내부적으로 비정형은 텍스트 덩어리마다 서로 다른 \"**요소**\"를 만듭니다. \n",
    "\n",
    "기본적으로 이들은 함께 결합되어 있지만 `mode=\"elements\"` 를 지정하여 쉽게 분리할 수 있습니다."
   ]
  },
  {
   "cell_type": "code",
   "execution_count": 11,
   "id": "02ddc25c",
   "metadata": {},
   "outputs": [
    {
     "name": "stdout",
     "output_type": "stream",
     "text": [
      "125\n"
     ]
    }
   ],
   "source": [
    "# UnstructuredWordDocumentLoader\n",
    "loader = UnstructuredWordDocumentLoader(\n",
    "    \"./data/sample-word-document.docx\", mode=\"elements\"\n",
    ")\n",
    "\n",
    "# 데이터 로드\n",
    "docs = loader.load()\n",
    "\n",
    "# 로드한 문서의 개수 출력\n",
    "print(len(docs))"
   ]
  },
  {
   "cell_type": "code",
   "execution_count": 12,
   "id": "a39223ab",
   "metadata": {},
   "outputs": [
    {
     "name": "stdout",
     "output_type": "stream",
     "text": [
      "Semantic Search\n"
     ]
    }
   ],
   "source": [
    "# 첫번째 문서의 내용 출력\n",
    "print(docs[0].page_content)"
   ]
  },
  {
   "cell_type": "code",
   "execution_count": null,
   "id": "3416ecc2",
   "metadata": {},
   "outputs": [],
   "source": [
    "# 첫번째 문서의 내용 출력\n",
    "docs[0].metadata"
   ]
  }
 ],
 "metadata": {
  "kernelspec": {
   "display_name": "langchain-kr-hTuzgesB-py3.11",
   "language": "python",
   "name": "python3"
  },
  "language_info": {
   "codemirror_mode": {
    "name": "ipython",
    "version": 3
   },
   "file_extension": ".py",
   "mimetype": "text/x-python",
   "name": "python",
   "nbconvert_exporter": "python",
   "pygments_lexer": "ipython3",
   "version": "3.11.9"
  }
 },
 "nbformat": 4,
 "nbformat_minor": 5
}
