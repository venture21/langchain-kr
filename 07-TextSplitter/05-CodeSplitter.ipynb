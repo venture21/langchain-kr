{
 "cells": [
  {
   "cell_type": "markdown",
   "id": "bc7e906b",
   "metadata": {},
   "source": [
    "# Split code\n",
    "\n",
    "CodeTextSplitter를 사용하면 다양한 프로그래밍 언어로 작성된 코드를 분할할 수 있습니다.\n",
    "\n",
    "이를 위해서는 `Language` enum을 import하고, 해당하는 프로그래밍 언어를 지정해주면 됩니다.\n"
   ]
  },
  {
   "cell_type": "markdown",
   "id": "1b107b42",
   "metadata": {},
   "source": [
    "`RecursiveCharacterTextSplitter`를 사용하여 텍스트를 분할하는 예제입니다.\n",
    "\n",
    "- `langchain_text_splitters` 모듈에서 `Language`와 `RecursiveCharacterTextSplitter` 클래스를 임포트합니다.\n",
    "- `RecursiveCharacterTextSplitter`는 텍스트를 문자 단위로 재귀적으로 분할하는 텍스트 분할기입니다.\n"
   ]
  },
  {
   "cell_type": "code",
   "execution_count": 1,
   "id": "82b6cc84",
   "metadata": {},
   "outputs": [],
   "source": [
    "from langchain_text_splitters import (\n",
    "    Language,\n",
    "    RecursiveCharacterTextSplitter,\n",
    ")"
   ]
  },
  {
   "cell_type": "markdown",
   "id": "d5484a09",
   "metadata": {},
   "source": [
    "지원되는 언어의 전체 목록을 가져옵니다.\n"
   ]
  },
  {
   "cell_type": "code",
   "execution_count": 2,
   "id": "ef956317",
   "metadata": {},
   "outputs": [
    {
     "data": {
      "text/plain": [
       "['cpp',\n",
       " 'go',\n",
       " 'java',\n",
       " 'kotlin',\n",
       " 'js',\n",
       " 'ts',\n",
       " 'php',\n",
       " 'proto',\n",
       " 'python',\n",
       " 'rst',\n",
       " 'ruby',\n",
       " 'rust',\n",
       " 'scala',\n",
       " 'swift',\n",
       " 'markdown',\n",
       " 'latex',\n",
       " 'html',\n",
       " 'sol',\n",
       " 'csharp',\n",
       " 'cobol',\n",
       " 'c',\n",
       " 'lua',\n",
       " 'perl',\n",
       " 'haskell',\n",
       " 'elixir',\n",
       " 'powershell',\n",
       " 'visualbasic6']"
      ]
     },
     "execution_count": 2,
     "metadata": {},
     "output_type": "execute_result"
    }
   ],
   "source": [
    "# 지원되는 언어의 전체 목록을 가져옵니다.\n",
    "[e.value for e in Language]"
   ]
  },
  {
   "cell_type": "markdown",
   "id": "c92167b1",
   "metadata": {},
   "source": [
    "`RecursiveCharacterTextSplitter` 클래스의 `get_separators_for_language` 메서드를 사용하여 특정 언어에 사용되는 구분자(separators)를 확인할 수 있습니다.\n",
    "\n",
    "- 예시에서는 `Language.PYTHON` 열거형 값을 인자로 전달하여 Python 언어에 사용되는 구분자를 확인합니다.\n"
   ]
  },
  {
   "cell_type": "code",
   "execution_count": 3,
   "id": "d770bb42",
   "metadata": {},
   "outputs": [
    {
     "data": {
      "text/plain": [
       "['\\nclass ', '\\ndef ', '\\n\\tdef ', '\\n\\n', '\\n', ' ', '']"
      ]
     },
     "execution_count": 3,
     "metadata": {},
     "output_type": "execute_result"
    }
   ],
   "source": [
    "# 주어진 언어에 대해 사용되는 구분자를 확인할 수 있습니다.\n",
    "RecursiveCharacterTextSplitter.get_separators_for_language(Language.PYTHON)"
   ]
  },
  {
   "cell_type": "markdown",
   "id": "204ebb01",
   "metadata": {},
   "source": [
    "'\\nclass ': 클래스 정의를 기준으로 텍스트를 나눕니다. 가장 큰 단위로 분할하여 전체 클래스나 여러 함수를 포함하는 덩어리를 만듭니다.\n",
    "\n",
    "'\\ndef ': 함수 정의를 기준으로 텍스트를 나눕니다. 이는 클래스 다음으로 중요한 분할 기준입니다.\n",
    "\n",
    "'\\n\\tdef ': 탭으로 들여쓰기된 함수(즉, 클래스 내의 메소드)를 기준으로 나눕니다. def와 구분하여 클래스 내부의 구조를 유지하려는 목적입니다.\n",
    "\n",
    "'\\n\\n': 두 개의 줄 바꿈으로, 일반적으로 단락(paragraph)을 나누는 역할을 합니다. 코드에서는 여러 함수나 클래스 정의 사이에 있는 빈 줄을 의미할 수 있습니다.\n",
    "\n",
    "'\\n': 단일 줄 바꿈으로, 한 줄씩 텍스트를 나눕니다. 코드 라인 단위로 쪼개는 역할을 합니다.\n",
    "\n",
    "' ': 공백을 기준으로 나눕니다. 이는 최종적으로 단어 단위로 쪼갤 때 사용됩니다.\n",
    "\n",
    "'': 빈 문자열로, 가장 마지막에 사용됩니다. 텍스트가 위의 모든 구분자로도 너무 길 경우, 단순히 글자 단위로 텍스트를 잘라내는 역할을 합니다."
   ]
  },
  {
   "cell_type": "markdown",
   "id": "01e92479",
   "metadata": {},
   "source": [
    "## Python\n",
    "\n",
    "`RecursiveCharacterTextSplitter` 사용한 예제는 다음과 같습니다.\n"
   ]
  },
  {
   "cell_type": "markdown",
   "id": "cb2e6144",
   "metadata": {},
   "source": [
    "- `RecursiveCharacterTextSplitter`를 사용하여 Python 코드를 문서 단위로 분할합니다.\n",
    "  - `language` 매개변수에 `Language.PYTHON`을 지정하여 Python 언어를 사용합니다.\n",
    "  - `chunk_size`를 50으로 설정하여 각 문서의 최대 크기를 제한합니다.\n",
    "  - `chunk_overlap`을 0으로 설정하여 문서 간의 중복을 허용하지 않습니다.\n"
   ]
  },
  {
   "cell_type": "code",
   "execution_count": 4,
   "id": "7623e0b8",
   "metadata": {},
   "outputs": [],
   "source": [
    "PYTHON_CODE = \"\"\"\n",
    "def hello_world():\n",
    "    print(\"Hello, World!\")\n",
    "\n",
    "hello_world()\n",
    "\"\"\"\n",
    "\n",
    "python_splitter = RecursiveCharacterTextSplitter.from_language(\n",
    "    language=Language.PYTHON, chunk_size=50, chunk_overlap=0\n",
    ")"
   ]
  },
  {
   "cell_type": "markdown",
   "id": "a53788a5",
   "metadata": {},
   "source": [
    "`Document` 를 생성합니다. 생성된 `Document` 는 리스트 형태로 반환됩니다.\n"
   ]
  },
  {
   "cell_type": "code",
   "execution_count": 5,
   "id": "bee5cf0f",
   "metadata": {},
   "outputs": [
    {
     "data": {
      "text/plain": [
       "[Document(metadata={}, page_content='def hello_world():\\n    print(\"Hello, World!\")'),\n",
       " Document(metadata={}, page_content='hello_world()')]"
      ]
     },
     "execution_count": 5,
     "metadata": {},
     "output_type": "execute_result"
    }
   ],
   "source": [
    "python_docs = python_splitter.create_documents([PYTHON_CODE])\n",
    "python_docs"
   ]
  },
  {
   "cell_type": "code",
   "execution_count": 6,
   "id": "52f1a284",
   "metadata": {},
   "outputs": [
    {
     "name": "stdout",
     "output_type": "stream",
     "text": [
      "def hello_world():\n",
      "    print(\"Hello, World!\")\n",
      "==================\n",
      "hello_world()\n",
      "==================\n"
     ]
    }
   ],
   "source": [
    "for doc in python_docs:\n",
    "    print(doc.page_content, end=\"\\n==================\\n\")"
   ]
  },
  {
   "cell_type": "markdown",
   "id": "b2cba6ad",
   "metadata": {},
   "source": [
    "## JS\n",
    "\n",
    "다음은 JS 텍스트 분할기를 사용한 예시입니다\n"
   ]
  },
  {
   "cell_type": "code",
   "execution_count": 7,
   "id": "22df58cb",
   "metadata": {},
   "outputs": [
    {
     "data": {
      "text/plain": [
       "[Document(metadata={}, page_content='function helloWorld() {\\n  console.log(\"Hello, World!\");\\n}'),\n",
       " Document(metadata={}, page_content='helloWorld();')]"
      ]
     },
     "execution_count": 7,
     "metadata": {},
     "output_type": "execute_result"
    }
   ],
   "source": [
    "JS_CODE = \"\"\"\n",
    "function helloWorld() {\n",
    "  console.log(\"Hello, World!\");\n",
    "}\n",
    "\n",
    "helloWorld();\n",
    "\"\"\"\n",
    "\n",
    "js_splitter = RecursiveCharacterTextSplitter.from_language(\n",
    "    language=Language.JS, chunk_size=60, chunk_overlap=0\n",
    ")\n",
    "\n",
    "js_docs = js_splitter.create_documents([JS_CODE])\n",
    "js_docs"
   ]
  },
  {
   "cell_type": "markdown",
   "id": "223ef6c2",
   "metadata": {},
   "source": [
    "## TS\n",
    "\n",
    "다음은 TS 텍스트 분할기를 사용한 예시입니다.\n"
   ]
  },
  {
   "cell_type": "code",
   "execution_count": 8,
   "id": "cc933318",
   "metadata": {},
   "outputs": [
    {
     "data": {
      "text/plain": [
       "[Document(metadata={}, page_content='function helloWorld(): void {'),\n",
       " Document(metadata={}, page_content='console.log(\"Hello, World!\");\\n}'),\n",
       " Document(metadata={}, page_content='helloWorld();')]"
      ]
     },
     "execution_count": 8,
     "metadata": {},
     "output_type": "execute_result"
    }
   ],
   "source": [
    "TS_CODE = \"\"\"\n",
    "function helloWorld(): void {\n",
    "  console.log(\"Hello, World!\");\n",
    "}\n",
    "\n",
    "helloWorld();\n",
    "\"\"\"\n",
    "\n",
    "ts_splitter = RecursiveCharacterTextSplitter.from_language(\n",
    "    language=Language.TS, chunk_size=60, chunk_overlap=0\n",
    ")\n",
    "ts_docs = ts_splitter.create_documents([TS_CODE])\n",
    "ts_docs"
   ]
  },
  {
   "cell_type": "markdown",
   "id": "9263dc1a",
   "metadata": {},
   "source": [
    "## Markdown\n",
    "\n",
    "다음은 Markdown 텍스트 분할기를 사용한 예시입니다.\n"
   ]
  },
  {
   "cell_type": "code",
   "execution_count": 9,
   "id": "5e28aca7",
   "metadata": {},
   "outputs": [],
   "source": [
    "markdown_text = \"\"\"\n",
    "# 🦜️🔗 LangChain\n",
    "\n",
    "⚡ LLM을 활용한 초스피드 애플리케이션 구축 ⚡\n",
    "\n",
    "## 빠른 설치\n",
    "\n",
    "```bash\n",
    "pip install langchain\n",
    "```\n",
    "\n",
    "# 빠르게 발전하는 분야의 오픈 소스 프로젝트 입니다. 많관부 🙏\n",
    "\"\"\""
   ]
  },
  {
   "cell_type": "markdown",
   "id": "9517fdb2",
   "metadata": {},
   "source": [
    "분할하고 결과를 출력합니다.\n"
   ]
  },
  {
   "cell_type": "code",
   "execution_count": 10,
   "id": "f9e4d30d",
   "metadata": {},
   "outputs": [
    {
     "data": {
      "text/plain": [
       "[Document(metadata={}, page_content='# 🦜️🔗 LangChain\\n\\n⚡ LLM을 활용한 초스피드 애플리케이션 구축 ⚡'),\n",
       " Document(metadata={}, page_content='## 빠른 설치\\n\\n```bash\\npip install langchain\\n```'),\n",
       " Document(metadata={}, page_content='# 빠르게 발전하는 분야의 오픈 소스 프로젝트 입니다. 많관부 🙏')]"
      ]
     },
     "execution_count": 10,
     "metadata": {},
     "output_type": "execute_result"
    }
   ],
   "source": [
    "md_splitter = RecursiveCharacterTextSplitter.from_language(\n",
    "    # 마크다운 언어를 사용하여 텍스트 분할기 생성\n",
    "    language=Language.MARKDOWN,\n",
    "    # 청크 크기를 60으로 설정\n",
    "    chunk_size=60,\n",
    "    # 청크 간 중복되는 부분이 없도록 설정\n",
    "    chunk_overlap=0,\n",
    ")\n",
    "# 마크다운 텍스트를 분할하여 문서 생성\n",
    "md_docs = md_splitter.create_documents([markdown_text])\n",
    "# 생성된 문서 출력\n",
    "md_docs"
   ]
  },
  {
   "cell_type": "markdown",
   "id": "9ca61a16",
   "metadata": {},
   "source": [
    "## Latex\n",
    "\n",
    "LaTeX는 문서 작성을 위한 마크업 언어로, 수학 기호와 수식을 표현하는 데 널리 사용됩니다.\n",
    "\n",
    "다음은 LaTeX 텍스트의 예시입니다.\n"
   ]
  },
  {
   "cell_type": "code",
   "execution_count": 12,
   "id": "4d123be8",
   "metadata": {},
   "outputs": [],
   "source": [
    "latex_text = \"\"\"\n",
    "\\documentclass{article}\n",
    "\n",
    "\\begin{document}\n",
    "\n",
    "\\maketitle\n",
    "\n",
    "\\section{Introduction}\n",
    "% LLM은 방대한 양의 텍스트 데이터로 학습하여 사람과 유사한 언어를 생성할 수 있는 기계 학습 모델의 한 유형입니다.\n",
    "% 최근 몇 년 동안 LLM은 언어 번역, 텍스트 생성, 감성 분석 등 다양한 자연어 처리 작업에서 상당한 발전을 이루었습니다.\n",
    "\n",
    "\\subsection{History of LLMs}\n",
    "% 초기 LLM은 1980년대와 1990년대에 개발되었지만, 처리할 수 있는 데이터 양과 당시 사용 가능한 컴퓨팅 능력으로 인해 제한되었습니다.\n",
    "% 그러나 지난 10년 동안 하드웨어와 소프트웨어의 발전으로 대규모 데이터 세트에 대해 LLM을 학습시킬 수 있게 되었고, 이는 성능의 큰 향상으로 이어졌습니다.\n",
    "\n",
    "\\subsection{Applications of LLMs}\n",
    "% LLM은 챗봇, 콘텐츠 생성, 가상 어시스턴트 등 산업 분야에서 많은 응용 분야를 가지고 있습니다.\n",
    "% 또한 언어학, 심리학, 컴퓨터 언어학 연구를 위해 학계에서도 사용될 수 있습니다.\n",
    "\n",
    "\\end{document}\n",
    "\"\"\""
   ]
  },
  {
   "cell_type": "markdown",
   "id": "cf31286c",
   "metadata": {},
   "source": [
    "분할하고 결과를 출력합니다.\n"
   ]
  },
  {
   "cell_type": "code",
   "execution_count": 13,
   "id": "f13a9425",
   "metadata": {},
   "outputs": [
    {
     "data": {
      "text/plain": [
       "[Document(metadata={}, page_content='\\\\documentclass{article}\\n\\n\\x08egin{document}\\n\\n\\\\maketitle'),\n",
       " Document(metadata={}, page_content='\\\\section{Introduction}\\n% LLM은 방대한 양의 텍스트 데이터로 학습하여 사람과 유사한'),\n",
       " Document(metadata={}, page_content='언어를 생성할 수 있는 기계 학습 모델의 한 유형입니다.\\n% 최근 몇 년 동안 LLM은 언어 번역, 텍스트'),\n",
       " Document(metadata={}, page_content='생성, 감성 분석 등 다양한 자연어 처리 작업에서 상당한 발전을 이루었습니다.'),\n",
       " Document(metadata={}, page_content='\\\\subsection{History of LLMs}\\n% 초기 LLM은 1980년대와 1990년대에'),\n",
       " Document(metadata={}, page_content='개발되었지만, 처리할 수 있는 데이터 양과 당시 사용 가능한 컴퓨팅 능력으로 인해 제한되었습니다.\\n%'),\n",
       " Document(metadata={}, page_content='그러나 지난 10년 동안 하드웨어와 소프트웨어의 발전으로 대규모 데이터 세트에 대해 LLM을 학습시킬 수'),\n",
       " Document(metadata={}, page_content='있게 되었고, 이는 성능의 큰 향상으로 이어졌습니다.'),\n",
       " Document(metadata={}, page_content='\\\\subsection{Applications of LLMs}\\n% LLM은 챗봇, 콘텐츠 생성, 가상'),\n",
       " Document(metadata={}, page_content='어시스턴트 등 산업 분야에서 많은 응용 분야를 가지고 있습니다.\\n% 또한 언어학, 심리학, 컴퓨터 언어학'),\n",
       " Document(metadata={}, page_content='연구를 위해 학계에서도 사용될 수 있습니다.\\n\\n\\\\end{document}')]"
      ]
     },
     "execution_count": 13,
     "metadata": {},
     "output_type": "execute_result"
    }
   ],
   "source": [
    "latex_splitter = RecursiveCharacterTextSplitter.from_language(\n",
    "    # 마크다운 언어를 사용하여 텍스트를 분할합니다.\n",
    "    language=Language.LATEX,\n",
    "    # 각 청크의 크기를 60자로 설정합니다.\n",
    "    chunk_size=60,\n",
    "    # 청크 간의 중복되는 문자 수를 0으로 설정합니다.\n",
    "    chunk_overlap=0,\n",
    ")\n",
    "# latex_text를 분할하여 문서 목록을 생성합니다.\n",
    "latex_docs = latex_splitter.create_documents([latex_text])\n",
    "# 생성된 문서 목록을 출력합니다.\n",
    "latex_docs"
   ]
  },
  {
   "cell_type": "code",
   "execution_count": null,
   "id": "d23636f4",
   "metadata": {},
   "outputs": [
    {
     "name": "stdout",
     "output_type": "stream",
     "text": [
      "총 2개의 청크로 분할되었습니다.\n",
      "--------------------------------------------------\n",
      "--- 청크 1 ---\n",
      "\\documentclass{article}\n",
      "\\usepackage{amsmath}\n",
      "\n",
      "\\title{RecursiveCharacterTextSplitter를 이용한 LaTeX 문서 분할}\n",
      "\\author{LangChain 사용자}\n",
      "\\date{\\today}\n",
      "\n",
      "\\begin{document}\n",
      "\\maketitle\n",
      "\n",
      "\\section{서론}\n",
      "이 문서는 LangChain을 사용하여 LaTeX 문서를 어떻게 효율적으로 분할하는지 보여줍니다.\n",
      "LaTeX는 학술 논문이나 수식, 복잡한 표를 포함하는 기술 문서에 널리 사용됩니다.\n",
      "\n",
      "\\subsection{기존 방법의 문제점}\n",
      "단순히 글자 수를 기준으로 텍스트를 나누면, 문맥이 훼손되거나 수식 블록이 잘릴 수 있습니다. 이는 RAG 시스템의 성능 저하로 이어집니다.\n",
      "\n",
      "\n",
      "--- 청크 2 ---\n",
      "\\section{수학적 모델}\n",
      "수식은 RAG 시스템에서 중요한 요소입니다. 아래는 간단한 이차 방정식의 예시입니다.\n",
      "\\begin{equation}\n",
      "x = \\frac{-b \\pm \\sqrt{b^2-4ac}}{2a}\n",
      "\\label{eq:quadratic}\n",
      "\\end{equation}\n",
      "이 수식은 문서의 핵심적인 내용을 담고 있으며, 단일 청크로 보존되어야 합니다.\n",
      "\n",
      "\\section{결론}\n",
      "결론적으로, RecursiveCharacterTextSplitter는 LaTeX 문서의 논리적 구조를 인식하여 텍스트를 분할함으로써, LLM이 더 정확한 답변을 생성하도록 돕습니다.\n",
      "\\footnote{이 예제는 LangChain 공식 문서를 참고하여 작성되었습니다.}\n",
      "\\end{document}\n",
      "\n",
      "\n"
     ]
    }
   ],
   "source": [
    "from langchain_text_splitters import RecursiveCharacterTextSplitter, Language\n",
    "\n",
    "# 1. 분할할 LaTeX 문서의 예시\n",
    "# 논문, 기술 문서 등에서 흔히 볼 수 있는 구조를 포함합니다.\n",
    "latex_document = r\"\"\"\n",
    "\\documentclass{article}\n",
    "\\usepackage{amsmath}\n",
    "\n",
    "\\title{RecursiveCharacterTextSplitter를 이용한 LaTeX 문서 분할}\n",
    "\\author{LangChain 사용자}\n",
    "\\date{\\today}\n",
    "\n",
    "\\begin{document}\n",
    "\\maketitle\n",
    "\n",
    "\\section{서론}\n",
    "이 문서는 LangChain을 사용하여 LaTeX 문서를 어떻게 효율적으로 분할하는지 보여줍니다.\n",
    "LaTeX는 학술 논문이나 수식, 복잡한 표를 포함하는 기술 문서에 널리 사용됩니다.\n",
    "\n",
    "\\subsection{기존 방법의 문제점}\n",
    "단순히 글자 수를 기준으로 텍스트를 나누면, 문맥이 훼손되거나 수식 블록이 잘릴 수 있습니다. 이는 RAG 시스템의 성능 저하로 이어집니다.\n",
    "\n",
    "\\section{수학적 모델}\n",
    "수식은 RAG 시스템에서 중요한 요소입니다. 아래는 간단한 이차 방정식의 예시입니다.\n",
    "\\begin{equation}\n",
    "x = \\frac{-b \\pm \\sqrt{b^2-4ac}}{2a}\n",
    "\\label{eq:quadratic}\n",
    "\\end{equation}\n",
    "이 수식은 문서의 핵심적인 내용을 담고 있으며, 단일 청크로 보존되어야 합니다.\n",
    "\n",
    "\\section{결론}\n",
    "결론적으로, RecursiveCharacterTextSplitter는 LaTeX 문서의 논리적 구조를 인식하여 텍스트를 분할함으로써, LLM이 더 정확한 답변을 생성하도록 돕습니다.\n",
    "\\footnote{이 예제는 LangChain 공식 문서를 참고하여 작성되었습니다.}\n",
    "\\end{document}\n",
    "\"\"\"\n",
    "\n",
    "# 2. LaTeX 언어에 특화된 분할기 인스턴스 생성\n",
    "# `Language.LATEX`를 지정하여,\n",
    "# '\\section', '\\subsection', '\\begin', '\\end' 등을 우선적으로 사용합니다.\n",
    "latex_splitter = RecursiveCharacterTextSplitter.from_language(\n",
    "    language=Language.LATEX, chunk_size=500, chunk_overlap=50\n",
    ")\n",
    "\n",
    "# 3. 문서 분할 및 결과 출력\n",
    "chunks = latex_splitter.create_documents([latex_document])\n",
    "\n",
    "print(f\"총 {len(chunks)}개의 청크로 분할되었습니다.\")\n",
    "print(\"-\" * 50)\n",
    "\n",
    "# 분할된 청크 내용 확인\n",
    "for i, chunk in enumerate(chunks):\n",
    "    print(f\"--- 청크 {i+1} ---\")\n",
    "    print(chunk.page_content)\n",
    "    print(\"\\n\")"
   ]
  },
  {
   "cell_type": "markdown",
   "id": "254ff44a",
   "metadata": {},
   "source": [
    "## HTML\n",
    "\n",
    "HTML 텍스트 분할기를 사용한 예제는 다음과 같습니다.\n"
   ]
  },
  {
   "cell_type": "code",
   "execution_count": 15,
   "id": "56cd350a",
   "metadata": {},
   "outputs": [],
   "source": [
    "html_text = \"\"\"\n",
    "<!DOCTYPE html>\n",
    "<html>\n",
    "    <head>\n",
    "        <title>🦜️🔗 LangChain</title>\n",
    "        <style>\n",
    "            body {\n",
    "                font-family: Arial, sans-serif;  \n",
    "            }\n",
    "            h1 {\n",
    "                color: darkblue;\n",
    "            }\n",
    "        </style>\n",
    "    </head>\n",
    "    <body>\n",
    "        <div>\n",
    "            <h1>🦜️🔗 LangChain</h1>\n",
    "            <p>⚡ Building applications with LLMs through composability ⚡</p>  \n",
    "        </div>\n",
    "        <div>\n",
    "            As an open-source project in a rapidly developing field, we are extremely open to contributions.\n",
    "        </div>\n",
    "    </body>\n",
    "</html>\n",
    "\"\"\""
   ]
  },
  {
   "cell_type": "markdown",
   "id": "c21c9459",
   "metadata": {},
   "source": [
    "분할하고 결과를 출력합니다.\n"
   ]
  },
  {
   "cell_type": "code",
   "execution_count": 16,
   "id": "5641e41a",
   "metadata": {},
   "outputs": [
    {
     "data": {
      "text/plain": [
       "[Document(metadata={}, page_content='<!DOCTYPE html>\\n<html>'),\n",
       " Document(metadata={}, page_content='<head>\\n        <title>🦜️🔗 LangChain</title>'),\n",
       " Document(metadata={}, page_content='<style>\\n            body {\\n                font-family: Aria'),\n",
       " Document(metadata={}, page_content='l, sans-serif;  \\n            }\\n            h1 {'),\n",
       " Document(metadata={}, page_content='color: darkblue;\\n            }\\n        </style>\\n    </he'),\n",
       " Document(metadata={}, page_content='ad>'),\n",
       " Document(metadata={}, page_content='<body>'),\n",
       " Document(metadata={}, page_content='<div>\\n            <h1>🦜️🔗 LangChain</h1>'),\n",
       " Document(metadata={}, page_content='<p>⚡ Building applications with LLMs through composability ⚡'),\n",
       " Document(metadata={}, page_content='</p>  \\n        </div>'),\n",
       " Document(metadata={}, page_content='<div>\\n            As an open-source project in a rapidly dev'),\n",
       " Document(metadata={}, page_content='eloping field, we are extremely open to contributions.'),\n",
       " Document(metadata={}, page_content='</div>\\n    </body>\\n</html>')]"
      ]
     },
     "execution_count": 16,
     "metadata": {},
     "output_type": "execute_result"
    }
   ],
   "source": [
    "html_splitter = RecursiveCharacterTextSplitter.from_language(\n",
    "    # HTML 언어를 사용하여 텍스트 분할기 생성\n",
    "    language=Language.HTML,\n",
    "    # 청크 크기를 60으로 설정\n",
    "    chunk_size=60,\n",
    "    # 청크 간 중복되는 부분이 없도록 설정\n",
    "    chunk_overlap=0,\n",
    ")\n",
    "# 주어진 HTML 텍스트를 분할하여 문서 생성\n",
    "html_docs = html_splitter.create_documents([html_text])\n",
    "# 생성된 문서 출력\n",
    "html_docs"
   ]
  },
  {
   "cell_type": "code",
   "execution_count": 19,
   "id": "5ed910f3",
   "metadata": {},
   "outputs": [
    {
     "name": "stdout",
     "output_type": "stream",
     "text": [
      "Collecting markdownify\n",
      "  Downloading markdownify-1.2.0-py3-none-any.whl.metadata (9.9 kB)\n",
      "Requirement already satisfied: beautifulsoup4<5,>=4.9 in c:\\users\\park0\\appdata\\local\\pypoetry\\cache\\virtualenvs\\langchain-kr-htuzgesb-py3.11\\lib\\site-packages (from markdownify) (4.13.4)\n",
      "Requirement already satisfied: six<2,>=1.15 in c:\\users\\park0\\appdata\\local\\pypoetry\\cache\\virtualenvs\\langchain-kr-htuzgesb-py3.11\\lib\\site-packages (from markdownify) (1.17.0)\n",
      "Requirement already satisfied: soupsieve>1.2 in c:\\users\\park0\\appdata\\local\\pypoetry\\cache\\virtualenvs\\langchain-kr-htuzgesb-py3.11\\lib\\site-packages (from beautifulsoup4<5,>=4.9->markdownify) (2.7)\n",
      "Requirement already satisfied: typing-extensions>=4.0.0 in c:\\users\\park0\\appdata\\local\\pypoetry\\cache\\virtualenvs\\langchain-kr-htuzgesb-py3.11\\lib\\site-packages (from beautifulsoup4<5,>=4.9->markdownify) (4.14.1)\n",
      "Downloading markdownify-1.2.0-py3-none-any.whl (15 kB)\n",
      "Installing collected packages: markdownify\n",
      "Successfully installed markdownify-1.2.0\n"
     ]
    }
   ],
   "source": [
    "!pip install markdownify"
   ]
  },
  {
   "cell_type": "code",
   "execution_count": null,
   "id": "af15e3d0",
   "metadata": {},
   "outputs": [
    {
     "name": "stdout",
     "output_type": "stream",
     "text": [
      "변환된 Markdown 제목: # HTML to Markdown 변환\n",
      "\n",
      "--- 원본 HTML 내용 ---\n",
      "\n",
      "<!DOCTYPE html>\n",
      "<html>\n",
      "<head>\n",
      "    <title>HTML to Markdown 변환</title>\n",
      "</head>\n",
      "<body>\n",
      "    <h1>LangChain과 RAG</h1>\n",
      "    <p>RAG(Retrieval-Augmented Generation)는 외부 데이터를 활용하여 LLM의 답변을 보강하는 기술입니다. LLM의 한계를 보완하여 더 정확한 정보를 제공합니다.</p>\n",
      "    <h2>주요 구성 요소</h2>\n",
      "    <ul>\n",
      "        <li>문서 로더 (Document Loaders)</li>\n",
      "        <li>텍스트 분할기 (Text Splitters)</li>\n",
      "        <li>임베딩 모델 (Embedding Models)</li>\n",
      "        <li>벡터 저장소 (Vector Store)</li>\n",
      "    </ul>\n",
      "    <h3>파이프라인 단계</h3>\n",
      "    <ol>\n",
      "        <li>데이터 수집 및 전처리</li>\n",
      "        <li>질문 검색 및 관련 정보 추출</li>\n",
      "        <li>LLM을 통한 답변 생성</li>\n",
      "    </ol>\n",
      "</body>\n",
      "</html>\n",
      "\n",
      "\n",
      "==================================================\n",
      "\n",
      "--- 마크다운 변환 결과 ---\n",
      "# HTML to Markdown 변환\n",
      "\n",
      "HTML to Markdown 변환\n",
      "\n",
      "\n",
      "LangChain과 RAG\n",
      "==============\n",
      "\n",
      "RAG(Retrieval-Augmented Generation)는 외부 데이터를 활용하여 LLM의 답변을 보강하는 기술입니다. LLM의 한계를 보완하여 더 정확한 정보를 제공합니다.\n",
      "\n",
      "주요 구성 요소\n",
      "--------\n",
      "\n",
      "* 문서 로더 (Document Loaders)\n",
      "* 텍스트 분할기 (Text Splitters)\n",
      "* 임베딩 모델 (Embedding Models)\n",
      "* 벡터 저장소 (Vector Store)\n",
      "\n",
      "### 파이프라인 단계\n",
      "\n",
      "1. 데이터 수집 및 전처리\n",
      "2. 질문 검색 및 관련 정보 추출\n",
      "3. LLM을 통한 답변 생성\n"
     ]
    }
   ],
   "source": [
    "# 필요한 라이브러리 설치\n",
    "# pip install markdownify beautifulsoup4\n",
    "\n",
    "from markdownify import markdownify as md\n",
    "from bs4 import BeautifulSoup\n",
    "\n",
    "# 1. 변환할 HTML 내용\n",
    "html_content = \"\"\"\n",
    "<!DOCTYPE html>\n",
    "<html>\n",
    "<head>\n",
    "    <title>HTML to Markdown 변환</title>\n",
    "</head>\n",
    "<body>\n",
    "    <h1>LangChain과 RAG</h1>\n",
    "    <p>RAG(Retrieval-Augmented Generation)는 외부 데이터를 활용하여 LLM의 답변을 보강하는 기술입니다. LLM의 한계를 보완하여 더 정확한 정보를 제공합니다.</p>\n",
    "    <h2>주요 구성 요소</h2>\n",
    "    <ul>\n",
    "        <li>문서 로더 (Document Loaders)</li>\n",
    "        <li>텍스트 분할기 (Text Splitters)</li>\n",
    "        <li>임베딩 모델 (Embedding Models)</li>\n",
    "        <li>벡터 저장소 (Vector Store)</li>\n",
    "    </ul>\n",
    "    <h3>파이프라인 단계</h3>\n",
    "    <ol>\n",
    "        <li>데이터 수집 및 전처리</li>\n",
    "        <li>질문 검색 및 관련 정보 추출</li>\n",
    "        <li>LLM을 통한 답변 생성</li>\n",
    "    </ol>\n",
    "</body>\n",
    "</html>\n",
    "\"\"\"\n",
    "\n",
    "# 2. BeautifulSoup를 사용하여 HTML <title> 태그 추출 (선택 사항)\n",
    "# HTML의 <head>에 있는 title을 변환 결과의 최상단 제목으로 사용하고 싶을 때 유용합니다.\n",
    "soup = BeautifulSoup(html_content, \"html.parser\")\n",
    "html_title = soup.title.string if soup.title else \"제목 없음\"\n",
    "print(f\"변환된 Markdown 제목: # {html_title}\\n\")\n",
    "\n",
    "\n",
    "# 3. markdownify를 사용하여 HTML 본문을 마크다운으로 변환\n",
    "# h1 -> #, h2 -> ##, p -> 단락, ul/li -> *, ol/li -> 1. 으로 변환\n",
    "markdown_result = md(html_content)\n",
    "\n",
    "# 4. 변환 결과 출력\n",
    "print(\"--- 원본 HTML 내용 ---\")\n",
    "print(html_content)\n",
    "print(\"\\n\" + \"=\" * 50 + \"\\n\")\n",
    "print(\"--- 마크다운 변환 결과 ---\")\n",
    "# 추출한 타이틀을 결과에 추가\n",
    "final_markdown = f\"# {html_title}\\n\\n\" + markdown_result\n",
    "print(final_markdown)"
   ]
  },
  {
   "cell_type": "markdown",
   "id": "b3cbf899",
   "metadata": {},
   "source": [
    "## Solidity\n",
    "\n",
    "Solidity 텍스트 분할기를 사용한 예제는 다음과 같습니다:\n"
   ]
  },
  {
   "cell_type": "markdown",
   "id": "b99b643c",
   "metadata": {},
   "source": [
    "- Solidity 코드를 문자열 형태로 `SOL_CODE` 변수에 저장합니다.\n",
    "- `RecursiveCharacterTextSplitter`를 사용하여 Solidity 코드를 청크 단위로 분할하는 `sol_splitter`를 생성합니다.\n",
    "  - `language` 매개변수를 `Language.SOL`로 설정하여 Solidity 언어를 지정합니다.\n",
    "  - `chunk_size`를 128로 설정하여 각 청크의 최대 크기를 지정합니다.\n",
    "  - `chunk_overlap`을 0으로 설정하여 청크 간의 중복을 없앱니다.\n",
    "- `sol_splitter.create_documents()` 메서드를 사용하여 `SOL_CODE`를 청크 단위로 분할하고, 분할된 청크를 `sol_docs` 변수에 저장합니다.\n",
    "- `sol_docs`를 출력하여 분할된 Solidity 코드 청크를 확인합니다.\n"
   ]
  },
  {
   "cell_type": "markdown",
   "id": "535f8c3c",
   "metadata": {},
   "source": [
    "Solidity(솔리디티)는 **이더리움(Ethereum)**과 같은 블록체인 플랫폼에서 **스마트 컨트랙트(Smart Contract)**를 작성하기 위해 만들어진 계약 지향(contract-oriented) 프로그래밍 언어입니다."
   ]
  },
  {
   "cell_type": "code",
   "execution_count": 15,
   "id": "3710c823",
   "metadata": {},
   "outputs": [
    {
     "data": {
      "text/plain": [
       "[Document(metadata={}, page_content='pragma solidity ^0.8.20;'),\n",
       " Document(metadata={}, page_content='contract HelloWorld {  \\n   function add(uint a, uint b) pure public returns(uint) {\\n       return a + b;\\n   }\\n}')]"
      ]
     },
     "execution_count": 15,
     "metadata": {},
     "output_type": "execute_result"
    }
   ],
   "source": [
    "SOL_CODE = \"\"\"\n",
    "pragma solidity ^0.8.20; \n",
    "contract HelloWorld {  \n",
    "   function add(uint a, uint b) pure public returns(uint) {\n",
    "       return a + b;\n",
    "   }\n",
    "}\n",
    "\"\"\"\n",
    "\n",
    "# 분할하고 결과를 출력합니다.\n",
    "sol_splitter = RecursiveCharacterTextSplitter.from_language(\n",
    "    language=Language.SOL, chunk_size=128, chunk_overlap=0\n",
    ")\n",
    "\n",
    "sol_docs = sol_splitter.create_documents([SOL_CODE])\n",
    "sol_docs"
   ]
  },
  {
   "cell_type": "markdown",
   "id": "0fa9a446",
   "metadata": {},
   "source": [
    "## C#\n",
    "\n",
    "C# 텍스트 분할기를 사용한 예제는 다음과 같습니다.\n"
   ]
  },
  {
   "cell_type": "code",
   "execution_count": 21,
   "id": "5fdeefe1",
   "metadata": {},
   "outputs": [
    {
     "data": {
      "text/plain": [
       "[Document(metadata={}, page_content='using System;'),\n",
       " Document(metadata={}, page_content='class Program\\n{\\n    static void Main()\\n    {\\n        Console.WriteLine(\"Enter a number (1-5):\");'),\n",
       " Document(metadata={}, page_content='int input = Convert.ToInt32(Console.ReadLine());\\n        for (int i = 1; i <= input; i++)\\n        {'),\n",
       " Document(metadata={}, page_content='if (i % 2 == 0)\\n            {\\n                Console.WriteLine($\"{i} is even.\");\\n            }\\n            else'),\n",
       " Document(metadata={}, page_content='{\\n                Console.WriteLine($\"{i} is odd.\");\\n            }\\n        }\\n        Console.WriteLine(\"Goodbye!\");'),\n",
       " Document(metadata={}, page_content='}\\n}')]"
      ]
     },
     "execution_count": 21,
     "metadata": {},
     "output_type": "execute_result"
    }
   ],
   "source": [
    "C_CODE = \"\"\"\n",
    "using System;\n",
    "class Program\n",
    "{\n",
    "    static void Main()\n",
    "    {\n",
    "        Console.WriteLine(\"Enter a number (1-5):\");\n",
    "        int input = Convert.ToInt32(Console.ReadLine());\n",
    "        for (int i = 1; i <= input; i++)\n",
    "        {\n",
    "            if (i % 2 == 0)\n",
    "            {\n",
    "                Console.WriteLine($\"{i} is even.\");\n",
    "            }\n",
    "            else\n",
    "            {\n",
    "                Console.WriteLine($\"{i} is odd.\");\n",
    "            }\n",
    "        }\n",
    "        Console.WriteLine(\"Goodbye!\");\n",
    "    }\n",
    "}\n",
    "\"\"\"\n",
    "\n",
    "# 분할하고 결과를 출력합니다.\n",
    "c_splitter = RecursiveCharacterTextSplitter.from_language(\n",
    "    language=Language.CSHARP, chunk_size=128, chunk_overlap=0\n",
    ")\n",
    "c_docs = c_splitter.create_documents([C_CODE])\n",
    "c_docs"
   ]
  },
  {
   "cell_type": "code",
   "execution_count": null,
   "id": "57d370e6",
   "metadata": {},
   "outputs": [],
   "source": []
  },
  {
   "cell_type": "code",
   "execution_count": null,
   "id": "44d8484c",
   "metadata": {},
   "outputs": [],
   "source": []
  }
 ],
 "metadata": {
  "kernelspec": {
   "display_name": "langchain-kr-hTuzgesB-py3.11",
   "language": "python",
   "name": "python3"
  },
  "language_info": {
   "codemirror_mode": {
    "name": "ipython",
    "version": 3
   },
   "file_extension": ".py",
   "mimetype": "text/x-python",
   "name": "python",
   "nbconvert_exporter": "python",
   "pygments_lexer": "ipython3",
   "version": "3.11.9"
  }
 },
 "nbformat": 4,
 "nbformat_minor": 5
}
